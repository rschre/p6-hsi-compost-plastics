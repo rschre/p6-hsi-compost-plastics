{
 "cells": [
  {
   "cell_type": "code",
   "execution_count": 5,
   "metadata": {},
   "outputs": [],
   "source": [
    "import numpy as np\n",
    "import pandas as pd\n",
    "import spectral\n",
    "import plotly.express as px\n",
    "import plotly.io as pio\n",
    "\n",
    "from data_handling import get_hsi_capture, get_2d_roi, get_mean_plot, snv_transform"
   ]
  },
  {
   "cell_type": "code",
   "execution_count": 2,
   "metadata": {},
   "outputs": [],
   "source": [
    "pd.options.plotting.backend = \"plotly\"\n",
    "root = r\"D:\\OneDriveFHNW\\FHNW\\EUT-P6bb-21HS-RS_M365 - General\\captures\\references\"\n",
    "RGB_BANDS = (60, 80, 170)\n",
    "BANDS = np.round(np.linspace(900,1700,224),1);\n",
    "BAND_LOW = 8\n",
    "BAND_HIGH = 210\n",
    "PLOT_LABELS = {\"index\": \"Wavelength [nm]\", \"value\": \"reflectance [1]\", \"variable\": \"pixel\"}\n",
    "COLUMN_NAMES = BANDS[BAND_LOW:BAND_HIGH]\n",
    "\n",
    "from warnings import simplefilter\n",
    "simplefilter(action=\"ignore\", category=pd.errors.PerformanceWarning)\n",
    "\n",
    "spectral.settings.envi_support_nonlowercase_params = True"
   ]
  },
  {
   "cell_type": "code",
   "execution_count": null,
   "metadata": {},
   "outputs": [],
   "source": [
    "capture_list = []\n",
    "capture_list.append(get_hsi_capture(\"LDPE\", root))\n",
    "capture_list.append(get_hsi_capture(\"PC\", root))\n",
    "capture_list.append(get_hsi_capture(\"PET_ref\", root))\n",
    "capture_list.append(get_hsi_capture(\"PLA\", root))\n",
    "capture_list.append(get_hsi_capture(\"PP\", root))\n",
    "capture_list.append(get_hsi_capture(\"PS\", root))"
   ]
  },
  {
   "cell_type": "code",
   "execution_count": 4,
   "metadata": {},
   "outputs": [],
   "source": [
    "# Load all data into a dict\n",
    "\n",
    "capture_dict = {}\n",
    "for capture in capture_list:\n",
    "    # Laod and flip data vertical axis\n",
    "    data = np.flip(capture.load(), axis=1)\n",
    "    capture_name = capture.filename.split(\"\\\\\")[-1].split(\"_202\")[0].split(\"REFLECTANCE_\")[1].split(\"_\")[1]\n",
    "    # Save to dict with filename as key\n",
    "    capture_dict[capture_name] = data"
   ]
  },
  {
   "cell_type": "code",
   "execution_count": 8,
   "metadata": {},
   "outputs": [],
   "source": [
    "roi_dict = {}\n",
    "roi_dict[\"LDPE\"] = {\"y_low\" : 220, \"y_high\": 360, \"x_low\" : 250, \"x_high\": 400}\n",
    "roi_dict[\"PC\"] = {\"y_low\" : 300, \"y_high\": 420, \"x_low\" : 260, \"x_high\": 400}\n",
    "roi_dict[\"PET\"] = {\"y_low\" : 220, \"y_high\": 340, \"x_low\" : 260, \"x_high\": 400}\n",
    "roi_dict[\"PLA\"] = {\"y_low\" : 300, \"y_high\": 550, \"x_low\" : 250, \"x_high\": 500}\n",
    "roi_dict[\"PP\"] = {\"y_low\" : 250, \"y_high\": 450, \"x_low\" : 300, \"x_high\": 450}\n",
    "roi_dict[\"PS\"] = {\"y_low\" : 360, \"y_high\": 500, \"x_low\" : 340, \"x_high\": 460}\n",
    "\n",
    "roi_data_dict = {}\n",
    "for name, data in capture_dict.items():\n",
    "    roi_data_dict[name] = get_2d_roi(data,**roi_dict[name])"
   ]
  },
  {
   "cell_type": "code",
   "execution_count": 9,
   "metadata": {},
   "outputs": [],
   "source": [
    "snv_data_dict = {}\n",
    "for name, data in roi_data_dict.items():\n",
    "    df = pd.DataFrame(data, columns = COLUMN_NAMES)\n",
    "    np_snv = snv_transform(df)\n",
    "    df_snv = pd.DataFrame(np_snv, columns=COLUMN_NAMES)\n",
    "    snv_data_dict[name] = df_snv"
   ]
  },
  {
   "cell_type": "code",
   "execution_count": 10,
   "metadata": {},
   "outputs": [],
   "source": [
    "mean_data_dict = {}\n",
    "for name, data in snv_data_dict.items():\n",
    "    mean_data_dict[name] = np.mean(snv_data_dict[name], axis=0)"
   ]
  },
  {
   "cell_type": "code",
   "execution_count": 14,
   "metadata": {},
   "outputs": [],
   "source": [
    "df_mean = pd.DataFrame.from_dict(mean_data_dict, orient=\"index\", columns=COLUMN_NAMES)"
   ]
  },
  {
   "cell_type": "code",
   "execution_count": 13,
   "metadata": {},
   "outputs": [],
   "source": [
    "pio.renderers.default = \"browser\"\n",
    "long_df_mean = pd.melt(df_mean, var_name=\"wavelength [nm]\", ignore_index=False, value_name=\"reflectance [1]\")\n",
    "px.line(long_df_mean, x=\"wavelength [nm]\", y=\"reflectance [1]\", color=long_df_mean.index, title=\"Durchschnitts-Spektren der Referenzkunststoffe\")"
   ]
  },
  {
   "cell_type": "code",
   "execution_count": 20,
   "metadata": {},
   "outputs": [],
   "source": [
    "# # Export data to File\n",
    "# mean_data_dict = {}\n",
    "# for name, data in roi_data_dict.items():\n",
    "#     mean_data_dict[name] = np.mean(roi_data_dict[name], axis=0)\n",
    "# df_mean = pd.DataFrame.from_dict(mean_data_dict, orient=\"index\", columns=COLUMN_NAMES)\n",
    "# df_mean.to_csv(r\"processed_data\\mean_reference_plastics.csv\", sep=\"\\t\")"
   ]
  }
 ],
 "metadata": {
  "kernelspec": {
   "display_name": "Python 3.10.4 ('.venv': pipenv)",
   "language": "python",
   "name": "python3"
  },
  "language_info": {
   "codemirror_mode": {
    "name": "ipython",
    "version": 3
   },
   "file_extension": ".py",
   "mimetype": "text/x-python",
   "name": "python",
   "nbconvert_exporter": "python",
   "pygments_lexer": "ipython3",
   "version": "3.10.4"
  },
  "orig_nbformat": 4,
  "vscode": {
   "interpreter": {
    "hash": "7ea3dadd995743c070a60538d12e65af98266bdc8fe22fa5ff7f84eb82e6fdd6"
   }
  }
 },
 "nbformat": 4,
 "nbformat_minor": 2
}
