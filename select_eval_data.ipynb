{
 "cells": [
  {
   "cell_type": "code",
   "execution_count": 1,
   "metadata": {},
   "outputs": [],
   "source": [
    "from data_handling import *\n",
    "from warnings import simplefilter\n",
    "import spectral\n",
    "import numpy as np\n",
    "import pandas as pd\n"
   ]
  },
  {
   "cell_type": "code",
   "execution_count": 2,
   "metadata": {},
   "outputs": [
    {
     "name": "stderr",
     "output_type": "stream",
     "text": [
      "INFO:data_handling:Root folder set to D:\\OneDriveFHNW\\FHNW\\EUT-P6bb-21HS-RS_M365 - General\\captures\n"
     ]
    }
   ],
   "source": [
    "spectral.settings.envi_support_nonlowercase_params = True\n",
    "simplefilter(action=\"ignore\", category=pd.errors.PerformanceWarning)\n",
    "pd.options.plotting.backend = \"plotly\"\n",
    "%matplotlib qt5\n",
    "root = get_root_folder(\"PC\")\n",
    "root_training = root + \"/training\""
   ]
  },
  {
   "cell_type": "code",
   "execution_count": 3,
   "metadata": {},
   "outputs": [],
   "source": [
    "BANDS = np.round(np.linspace(900,1700,224),1);\n",
    "RGB_BANDS = (81,131,181)\n",
    "\n",
    "BAND_LOW = 8\n",
    "BAND_HIGH = 210\n",
    "\n",
    "PLOT_LABELS = {\"index\": \"Wavelength [nm]\", \"value\": \"reflectance [1]\", \"variable\": \"pixel\"}\n",
    "COLUMN_NAMES = BANDS[BAND_LOW:BAND_HIGH]\n",
    "\n",
    "plastic_samples = {}"
   ]
  },
  {
   "cell_type": "code",
   "execution_count": 5,
   "metadata": {},
   "outputs": [
    {
     "name": "stderr",
     "output_type": "stream",
     "text": [
      "INFO:data_handling:\tData Source:   'D:\\OneDriveFHNW\\FHNW\\EUT-P6bb-21HS-RS_M365 - General\\captures/training\\qd_test_kompost_kunststoff_2022-06-08_06-47-49\\capture\\REFLECTANCE_qd_test_kompost_kunststoff_2022-06-08_06-47-49.dat'\n",
      "\t# Rows:            859\n",
      "\t# Samples:         640\n",
      "\t# Bands:           224\n",
      "\tInterleave:        BIL\n",
      "\tQuantization:  16 bits\n",
      "\tData format:    uint16\n"
     ]
    }
   ],
   "source": [
    "capture = get_hsi_capture(\"test_kompost_kunststoff_2022\", root_training)\n",
    "data = load_hsi_data(capture)\n",
    "capture_name=\"Kunststoff_auf_Kompost\"\n",
    "plastic_samples[capture_name] = []"
   ]
  },
  {
   "cell_type": "code",
   "execution_count": 6,
   "metadata": {},
   "outputs": [],
   "source": [
    "img = spectral.imshow(limit_reflection(data), RGB_BANDS)"
   ]
  },
  {
   "cell_type": "code",
   "execution_count": 7,
   "metadata": {},
   "outputs": [],
   "source": [
    "# Select a rectangular ROI of the image for further processing, reduce spatial dimensions to a single dimension\n",
    "roi = {\"y_low\": 100, \"y_high\": 131, \"x_low\": 233,  \"x_high\": 427}\n",
    "roi_data = get_2d_roi(data, **roi)\n",
    "\n",
    "# Display ROI on top of the image\n",
    "roi_img = display_roi_rectangle(data, **roi, title=f\"Selected ROI of {capture_name}\")\n",
    "\n",
    "# Add to Dictionary\n",
    "plastic_samples[capture_name].append((roi, roi_data))"
   ]
  },
  {
   "cell_type": "code",
   "execution_count": 9,
   "metadata": {},
   "outputs": [],
   "source": [
    "# Select a rectangular ROI of the image for further processing, reduce spatial dimensions to a single dimension\n",
    "roi = {\"y_low\": 255, \"y_high\": 309, \"x_low\": 304,  \"x_high\": 253}\n",
    "roi_data = get_2d_roi(data, **roi)\n",
    "\n",
    "# Display ROI on top of the image\n",
    "roi_img = display_roi_rectangle(data, **roi, title=f\"Selected ROI of {capture_name}\")\n",
    "\n",
    "# Add to Dictionary\n",
    "plastic_samples[capture_name].append((roi, roi_data))"
   ]
  },
  {
   "cell_type": "code",
   "execution_count": 10,
   "metadata": {},
   "outputs": [
    {
     "name": "stderr",
     "output_type": "stream",
     "text": [
      "INFO:data_handling:\tData Source:   'D:\\OneDriveFHNW\\FHNW\\EUT-P6bb-21HS-RS_M365 - General\\captures/training\\qd_test_kompost_kunststoff_2_2022-06-08_06-52-48\\capture\\REFLECTANCE_qd_test_kompost_kunststoff_2_2022-06-08_06-52-48.dat'\n",
      "\t# Rows:            859\n",
      "\t# Samples:         640\n",
      "\t# Bands:           224\n",
      "\tInterleave:        BIL\n",
      "\tQuantization:  16 bits\n",
      "\tData format:    uint16\n"
     ]
    }
   ],
   "source": [
    "capture = get_hsi_capture(\"test_kompost_kunststoff_2_\", root_training)\n",
    "data = load_hsi_data(capture)\n",
    "capture_name=\"Kunststoff_neben_Kompost\"\n",
    "plastic_samples[capture_name] = []"
   ]
  },
  {
   "cell_type": "code",
   "execution_count": 11,
   "metadata": {},
   "outputs": [],
   "source": [
    "img = spectral.imshow(limit_reflection(data), RGB_BANDS)"
   ]
  },
  {
   "cell_type": "code",
   "execution_count": 12,
   "metadata": {},
   "outputs": [],
   "source": [
    "# Select a rectangular ROI of the image for further processing, reduce spatial dimensions to a single dimension\n",
    "roi = {\"y_low\": 38, \"y_high\": 251, \"x_low\": 197,  \"x_high\": 254}\n",
    "roi_data = get_2d_roi(data, **roi)\n",
    "\n",
    "# Display ROI on top of the image\n",
    "roi_img = display_roi_rectangle(data, **roi, title=f\"Selected ROI of {capture_name}\")\n",
    "\n",
    "# Add to Dictionary\n",
    "plastic_samples[capture_name].append((roi, roi_data))"
   ]
  },
  {
   "cell_type": "code",
   "execution_count": 13,
   "metadata": {},
   "outputs": [],
   "source": [
    "# Select a rectangular ROI of the image for further processing, reduce spatial dimensions to a single dimension\n",
    "roi = {\"y_low\": 132, \"y_high\": 233, \"x_low\": 161,  \"x_high\": 132}\n",
    "roi_data = get_2d_roi(data, **roi)\n",
    "\n",
    "# Display ROI on top of the image\n",
    "roi_img = display_roi_rectangle(data, **roi, title=f\"Selected ROI of {capture_name}\")\n",
    "\n",
    "# Add to Dictionary\n",
    "plastic_samples[capture_name].append((roi, roi_data))"
   ]
  },
  {
   "cell_type": "code",
   "execution_count": 14,
   "metadata": {},
   "outputs": [
    {
     "data": {
      "text/html": [
       "<div>\n",
       "<style scoped>\n",
       "    .dataframe tbody tr th:only-of-type {\n",
       "        vertical-align: middle;\n",
       "    }\n",
       "\n",
       "    .dataframe tbody tr th {\n",
       "        vertical-align: top;\n",
       "    }\n",
       "\n",
       "    .dataframe thead th {\n",
       "        text-align: right;\n",
       "    }\n",
       "</style>\n",
       "<table border=\"1\" class=\"dataframe\">\n",
       "  <thead>\n",
       "    <tr style=\"text-align: right;\">\n",
       "      <th></th>\n",
       "      <th>928.7</th>\n",
       "      <th>932.3</th>\n",
       "      <th>935.9</th>\n",
       "      <th>939.5</th>\n",
       "      <th>943.0</th>\n",
       "      <th>946.6</th>\n",
       "      <th>950.2</th>\n",
       "      <th>953.8</th>\n",
       "      <th>957.4</th>\n",
       "      <th>961.0</th>\n",
       "      <th>...</th>\n",
       "      <th>1617.5</th>\n",
       "      <th>1621.1</th>\n",
       "      <th>1624.7</th>\n",
       "      <th>1628.3</th>\n",
       "      <th>1631.8</th>\n",
       "      <th>1635.4</th>\n",
       "      <th>1639.0</th>\n",
       "      <th>1642.6</th>\n",
       "      <th>1646.2</th>\n",
       "      <th>1649.8</th>\n",
       "    </tr>\n",
       "  </thead>\n",
       "  <tbody>\n",
       "  </tbody>\n",
       "</table>\n",
       "<p>0 rows × 202 columns</p>\n",
       "</div>"
      ],
      "text/plain": [
       "Empty DataFrame\n",
       "Columns: [928.7, 932.3, 935.9, 939.5, 943.0, 946.6, 950.2, 953.8, 957.4, 961.0, 964.6, 968.2, 971.7, 975.3, 978.9, 982.5, 986.1, 989.7, 993.3, 996.9, 1000.4, 1004.0, 1007.6, 1011.2, 1014.8, 1018.4, 1022.0, 1025.6, 1029.1, 1032.7, 1036.3, 1039.9, 1043.5, 1047.1, 1050.7, 1054.3, 1057.8, 1061.4, 1065.0, 1068.6, 1072.2, 1075.8, 1079.4, 1083.0, 1086.5, 1090.1, 1093.7, 1097.3, 1100.9, 1104.5, 1108.1, 1111.7, 1115.2, 1118.8, 1122.4, 1126.0, 1129.6, 1133.2, 1136.8, 1140.4, 1143.9, 1147.5, 1151.1, 1154.7, 1158.3, 1161.9, 1165.5, 1169.1, 1172.6, 1176.2, 1179.8, 1183.4, 1187.0, 1190.6, 1194.2, 1197.8, 1201.3, 1204.9, 1208.5, 1212.1, 1215.7, 1219.3, 1222.9, 1226.5, 1230.0, 1233.6, 1237.2, 1240.8, 1244.4, 1248.0, 1251.6, 1255.2, 1258.7, 1262.3, 1265.9, 1269.5, 1273.1, 1276.7, 1280.3, 1283.9, ...]\n",
       "Index: []\n",
       "\n",
       "[0 rows x 202 columns]"
      ]
     },
     "execution_count": 14,
     "metadata": {},
     "output_type": "execute_result"
    }
   ],
   "source": [
    "df_plastic = pd.DataFrame(columns=COLUMN_NAMES)\n",
    "df_plastic"
   ]
  },
  {
   "cell_type": "code",
   "execution_count": 15,
   "metadata": {},
   "outputs": [],
   "source": [
    "for capture_name, rois in plastic_samples.items():\n",
    "    for roi in rois:\n",
    "        df_roi = pd.DataFrame(roi[1], columns=COLUMN_NAMES)\n",
    "        df_plastic = pd.concat([df_plastic, df_roi])"
   ]
  },
  {
   "cell_type": "code",
   "execution_count": 18,
   "metadata": {},
   "outputs": [
    {
     "data": {
      "text/plain": [
       "21835"
      ]
     },
     "execution_count": 18,
     "metadata": {},
     "output_type": "execute_result"
    }
   ],
   "source": [
    "len(df_plastic)"
   ]
  },
  {
   "cell_type": "code",
   "execution_count": 16,
   "metadata": {},
   "outputs": [],
   "source": [
    "df_plastic.to_csv(\"./raw_data/eval_plastics.csv\", index=False)"
   ]
  },
  {
   "cell_type": "markdown",
   "metadata": {},
   "source": [
    "### Background"
   ]
  },
  {
   "cell_type": "code",
   "execution_count": 41,
   "metadata": {},
   "outputs": [
    {
     "name": "stderr",
     "output_type": "stream",
     "text": [
      "INFO:data_handling:\tData Source:   'D:\\OneDriveFHNW\\FHNW\\EUT-P6bb-21HS-RS_M365 - General\\captures/training\\qd_test_kompost_kunststoff_2022-06-08_06-47-49\\capture\\REFLECTANCE_qd_test_kompost_kunststoff_2022-06-08_06-47-49.dat'\n",
      "\t# Rows:            859\n",
      "\t# Samples:         640\n",
      "\t# Bands:           224\n",
      "\tInterleave:        BIL\n",
      "\tQuantization:  16 bits\n",
      "\tData format:    uint16\n"
     ]
    }
   ],
   "source": [
    "bg_samples = {}\n",
    "capture = get_hsi_capture(\"test_kompost_kunststoff_2022\", root_training)\n",
    "data = load_hsi_data(capture)\n",
    "capture_name=\"Kunststoff_auf_Kompost\"\n",
    "bg_samples[capture_name] = []"
   ]
  },
  {
   "cell_type": "code",
   "execution_count": 5,
   "metadata": {},
   "outputs": [],
   "source": [
    "img = spectral.imshow(limit_reflection(data), RGB_BANDS)"
   ]
  },
  {
   "cell_type": "code",
   "execution_count": 42,
   "metadata": {},
   "outputs": [],
   "source": [
    "# Select a rectangular ROI of the image for further processing, reduce spatial dimensions to a single dimension\n",
    "roi = {\"y_low\": 640, \"y_high\": 811, \"x_low\": 4,  \"x_high\": 54}\n",
    "roi_data = get_2d_roi(data, **roi)\n",
    "\n",
    "# Display ROI on top of the image\n",
    "roi_img = display_roi_rectangle(data, **roi, title=f\"Selected ROI of {capture_name}\")\n",
    "\n",
    "# Add to Dictionary\n",
    "bg_samples[capture_name].append((roi, roi_data))"
   ]
  },
  {
   "cell_type": "code",
   "execution_count": 43,
   "metadata": {},
   "outputs": [
    {
     "name": "stderr",
     "output_type": "stream",
     "text": [
      "INFO:data_handling:\tData Source:   'D:\\OneDriveFHNW\\FHNW\\EUT-P6bb-21HS-RS_M365 - General\\captures/training\\qd_test_kompost_kunststoff_2_2022-06-08_06-52-48\\capture\\REFLECTANCE_qd_test_kompost_kunststoff_2_2022-06-08_06-52-48.dat'\n",
      "\t# Rows:            859\n",
      "\t# Samples:         640\n",
      "\t# Bands:           224\n",
      "\tInterleave:        BIL\n",
      "\tQuantization:  16 bits\n",
      "\tData format:    uint16\n"
     ]
    }
   ],
   "source": [
    "capture = get_hsi_capture(\"test_kompost_kunststoff_2_\", root_training)\n",
    "data = load_hsi_data(capture)\n",
    "capture_name=\"Kunststoff_auf_Kompost_2\"\n",
    "bg_samples[capture_name] = []"
   ]
  },
  {
   "cell_type": "code",
   "execution_count": 20,
   "metadata": {},
   "outputs": [],
   "source": [
    "img = spectral.imshow(limit_reflection(data), RGB_BANDS)"
   ]
  },
  {
   "cell_type": "code",
   "execution_count": 44,
   "metadata": {},
   "outputs": [],
   "source": [
    "# Select a rectangular ROI of the image for further processing, reduce spatial dimensions to a single dimension\n",
    "roi = {\"y_low\": 330, \"y_high\": 380, \"x_low\": 200,  \"x_high\": 250}\n",
    "roi_data = get_2d_roi(data, **roi)\n",
    "\n",
    "# Display ROI on top of the image\n",
    "roi_img = display_roi_rectangle(data, **roi, title=f\"Selected ROI of {capture_name}\")\n",
    "\n",
    "# Add to Dictionary\n",
    "bg_samples[capture_name].append((roi, roi_data))"
   ]
  },
  {
   "cell_type": "code",
   "execution_count": 45,
   "metadata": {},
   "outputs": [
    {
     "data": {
      "text/html": [
       "<div>\n",
       "<style scoped>\n",
       "    .dataframe tbody tr th:only-of-type {\n",
       "        vertical-align: middle;\n",
       "    }\n",
       "\n",
       "    .dataframe tbody tr th {\n",
       "        vertical-align: top;\n",
       "    }\n",
       "\n",
       "    .dataframe thead th {\n",
       "        text-align: right;\n",
       "    }\n",
       "</style>\n",
       "<table border=\"1\" class=\"dataframe\">\n",
       "  <thead>\n",
       "    <tr style=\"text-align: right;\">\n",
       "      <th></th>\n",
       "      <th>928.7</th>\n",
       "      <th>932.3</th>\n",
       "      <th>935.9</th>\n",
       "      <th>939.5</th>\n",
       "      <th>943.0</th>\n",
       "      <th>946.6</th>\n",
       "      <th>950.2</th>\n",
       "      <th>953.8</th>\n",
       "      <th>957.4</th>\n",
       "      <th>961.0</th>\n",
       "      <th>...</th>\n",
       "      <th>1617.5</th>\n",
       "      <th>1621.1</th>\n",
       "      <th>1624.7</th>\n",
       "      <th>1628.3</th>\n",
       "      <th>1631.8</th>\n",
       "      <th>1635.4</th>\n",
       "      <th>1639.0</th>\n",
       "      <th>1642.6</th>\n",
       "      <th>1646.2</th>\n",
       "      <th>1649.8</th>\n",
       "    </tr>\n",
       "  </thead>\n",
       "  <tbody>\n",
       "  </tbody>\n",
       "</table>\n",
       "<p>0 rows × 202 columns</p>\n",
       "</div>"
      ],
      "text/plain": [
       "Empty DataFrame\n",
       "Columns: [928.7, 932.3, 935.9, 939.5, 943.0, 946.6, 950.2, 953.8, 957.4, 961.0, 964.6, 968.2, 971.7, 975.3, 978.9, 982.5, 986.1, 989.7, 993.3, 996.9, 1000.4, 1004.0, 1007.6, 1011.2, 1014.8, 1018.4, 1022.0, 1025.6, 1029.1, 1032.7, 1036.3, 1039.9, 1043.5, 1047.1, 1050.7, 1054.3, 1057.8, 1061.4, 1065.0, 1068.6, 1072.2, 1075.8, 1079.4, 1083.0, 1086.5, 1090.1, 1093.7, 1097.3, 1100.9, 1104.5, 1108.1, 1111.7, 1115.2, 1118.8, 1122.4, 1126.0, 1129.6, 1133.2, 1136.8, 1140.4, 1143.9, 1147.5, 1151.1, 1154.7, 1158.3, 1161.9, 1165.5, 1169.1, 1172.6, 1176.2, 1179.8, 1183.4, 1187.0, 1190.6, 1194.2, 1197.8, 1201.3, 1204.9, 1208.5, 1212.1, 1215.7, 1219.3, 1222.9, 1226.5, 1230.0, 1233.6, 1237.2, 1240.8, 1244.4, 1248.0, 1251.6, 1255.2, 1258.7, 1262.3, 1265.9, 1269.5, 1273.1, 1276.7, 1280.3, 1283.9, ...]\n",
       "Index: []\n",
       "\n",
       "[0 rows x 202 columns]"
      ]
     },
     "execution_count": 45,
     "metadata": {},
     "output_type": "execute_result"
    }
   ],
   "source": [
    "df_bg = pd.DataFrame(columns=COLUMN_NAMES)\n",
    "df_bg"
   ]
  },
  {
   "cell_type": "code",
   "execution_count": 46,
   "metadata": {},
   "outputs": [],
   "source": [
    "for capture_name, rois in bg_samples.items():\n",
    "    for roi in rois:\n",
    "        df_roi = pd.DataFrame(roi[1], columns=COLUMN_NAMES)\n",
    "        df_bg = pd.concat([df_bg, df_roi])"
   ]
  },
  {
   "cell_type": "code",
   "execution_count": 49,
   "metadata": {},
   "outputs": [],
   "source": [
    "df_bg.to_csv(\"./raw_data/eval_bg.csv\", index=False)"
   ]
  },
  {
   "cell_type": "markdown",
   "metadata": {},
   "source": [
    "#### Compost"
   ]
  },
  {
   "cell_type": "code",
   "execution_count": 50,
   "metadata": {},
   "outputs": [
    {
     "name": "stderr",
     "output_type": "stream",
     "text": [
      "INFO:data_handling:\tData Source:   'D:\\OneDriveFHNW\\FHNW\\EUT-P6bb-21HS-RS_M365 - General\\captures/training\\qd_test_kompost_kunststoff_2022-06-08_06-47-49\\capture\\REFLECTANCE_qd_test_kompost_kunststoff_2022-06-08_06-47-49.dat'\n",
      "\t# Rows:            859\n",
      "\t# Samples:         640\n",
      "\t# Bands:           224\n",
      "\tInterleave:        BIL\n",
      "\tQuantization:  16 bits\n",
      "\tData format:    uint16\n"
     ]
    }
   ],
   "source": [
    "compost_samples = {}\n",
    "capture = get_hsi_capture(\"test_kompost_kunststoff_2022\", root_training)\n",
    "data = load_hsi_data(capture)\n",
    "capture_name=\"Kompost 1\"\n",
    "compost_samples[capture_name] = []"
   ]
  },
  {
   "cell_type": "code",
   "execution_count": 52,
   "metadata": {},
   "outputs": [],
   "source": [
    "img = spectral.imshow(limit_reflection(data), RGB_BANDS)"
   ]
  },
  {
   "cell_type": "code",
   "execution_count": 53,
   "metadata": {},
   "outputs": [],
   "source": [
    "# Select a rectangular ROI of the image for further processing, reduce spatial dimensions to a single dimension\n",
    "roi = {\"y_low\": 632, \"y_high\": 775, \"x_low\": 212,  \"x_high\": 326}\n",
    "roi_data = get_2d_roi(data, **roi)\n",
    "\n",
    "# Display ROI on top of the image\n",
    "roi_img = display_roi_rectangle(data, **roi, title=f\"Selected ROI of {capture_name}\")\n",
    "\n",
    "# Add to Dictionary\n",
    "compost_samples[capture_name].append((roi, roi_data))"
   ]
  },
  {
   "cell_type": "code",
   "execution_count": 54,
   "metadata": {},
   "outputs": [],
   "source": [
    "# Select a rectangular ROI of the image for further processing, reduce spatial dimensions to a single dimension\n",
    "roi = {\"y_low\": 161, \"y_high\": 225, \"x_low\": 228,  \"x_high\": 308}\n",
    "roi_data = get_2d_roi(data, **roi)\n",
    "\n",
    "# Display ROI on top of the image\n",
    "roi_img = display_roi_rectangle(data, **roi, title=f\"Selected ROI of {capture_name}\")\n",
    "\n",
    "# Add to Dictionary\n",
    "compost_samples[capture_name].append((roi, roi_data))"
   ]
  },
  {
   "cell_type": "code",
   "execution_count": 55,
   "metadata": {},
   "outputs": [
    {
     "name": "stderr",
     "output_type": "stream",
     "text": [
      "INFO:data_handling:\tData Source:   'D:\\OneDriveFHNW\\FHNW\\EUT-P6bb-21HS-RS_M365 - General\\captures/training\\qd_test_kompost_kunststoff_2_2022-06-08_06-52-48\\capture\\REFLECTANCE_qd_test_kompost_kunststoff_2_2022-06-08_06-52-48.dat'\n",
      "\t# Rows:            859\n",
      "\t# Samples:         640\n",
      "\t# Bands:           224\n",
      "\tInterleave:        BIL\n",
      "\tQuantization:  16 bits\n",
      "\tData format:    uint16\n"
     ]
    }
   ],
   "source": [
    "capture = get_hsi_capture(\"test_kompost_kunststoff_2_\", root_training)\n",
    "data = load_hsi_data(capture)\n",
    "capture_name=\"Kompost 2\"\n",
    "compost_samples[capture_name] = []"
   ]
  },
  {
   "cell_type": "code",
   "execution_count": 56,
   "metadata": {},
   "outputs": [],
   "source": [
    "img = spectral.imshow(limit_reflection(data), RGB_BANDS)"
   ]
  },
  {
   "cell_type": "code",
   "execution_count": 57,
   "metadata": {},
   "outputs": [],
   "source": [
    "# Select a rectangular ROI of the image for further processing, reduce spatial dimensions to a single dimension\n",
    "roi = {\"y_low\": 537, \"y_high\": 588, \"x_low\": 177,  \"x_high\": 212}\n",
    "roi_data = get_2d_roi(data, **roi)\n",
    "\n",
    "# Display ROI on top of the image\n",
    "roi_img = display_roi_rectangle(data, **roi, title=f\"Selected ROI of {capture_name}\")\n",
    "\n",
    "# Add to Dictionary\n",
    "compost_samples[capture_name].append((roi, roi_data))"
   ]
  },
  {
   "cell_type": "code",
   "execution_count": 58,
   "metadata": {},
   "outputs": [],
   "source": [
    "# Select a rectangular ROI of the image for further processing, reduce spatial dimensions to a single dimension\n",
    "roi = {\"y_low\": 493, \"y_high\": 625, \"x_low\": 42,  \"x_high\": 61}\n",
    "roi_data = get_2d_roi(data, **roi)\n",
    "\n",
    "# Display ROI on top of the image\n",
    "roi_img = display_roi_rectangle(data, **roi, title=f\"Selected ROI of {capture_name}\")\n",
    "\n",
    "# Add to Dictionary\n",
    "compost_samples[capture_name].append((roi, roi_data))"
   ]
  },
  {
   "cell_type": "code",
   "execution_count": 59,
   "metadata": {},
   "outputs": [
    {
     "data": {
      "text/html": [
       "<div>\n",
       "<style scoped>\n",
       "    .dataframe tbody tr th:only-of-type {\n",
       "        vertical-align: middle;\n",
       "    }\n",
       "\n",
       "    .dataframe tbody tr th {\n",
       "        vertical-align: top;\n",
       "    }\n",
       "\n",
       "    .dataframe thead th {\n",
       "        text-align: right;\n",
       "    }\n",
       "</style>\n",
       "<table border=\"1\" class=\"dataframe\">\n",
       "  <thead>\n",
       "    <tr style=\"text-align: right;\">\n",
       "      <th></th>\n",
       "      <th>928.7</th>\n",
       "      <th>932.3</th>\n",
       "      <th>935.9</th>\n",
       "      <th>939.5</th>\n",
       "      <th>943.0</th>\n",
       "      <th>946.6</th>\n",
       "      <th>950.2</th>\n",
       "      <th>953.8</th>\n",
       "      <th>957.4</th>\n",
       "      <th>961.0</th>\n",
       "      <th>...</th>\n",
       "      <th>1617.5</th>\n",
       "      <th>1621.1</th>\n",
       "      <th>1624.7</th>\n",
       "      <th>1628.3</th>\n",
       "      <th>1631.8</th>\n",
       "      <th>1635.4</th>\n",
       "      <th>1639.0</th>\n",
       "      <th>1642.6</th>\n",
       "      <th>1646.2</th>\n",
       "      <th>1649.8</th>\n",
       "    </tr>\n",
       "  </thead>\n",
       "  <tbody>\n",
       "  </tbody>\n",
       "</table>\n",
       "<p>0 rows × 202 columns</p>\n",
       "</div>"
      ],
      "text/plain": [
       "Empty DataFrame\n",
       "Columns: [928.7, 932.3, 935.9, 939.5, 943.0, 946.6, 950.2, 953.8, 957.4, 961.0, 964.6, 968.2, 971.7, 975.3, 978.9, 982.5, 986.1, 989.7, 993.3, 996.9, 1000.4, 1004.0, 1007.6, 1011.2, 1014.8, 1018.4, 1022.0, 1025.6, 1029.1, 1032.7, 1036.3, 1039.9, 1043.5, 1047.1, 1050.7, 1054.3, 1057.8, 1061.4, 1065.0, 1068.6, 1072.2, 1075.8, 1079.4, 1083.0, 1086.5, 1090.1, 1093.7, 1097.3, 1100.9, 1104.5, 1108.1, 1111.7, 1115.2, 1118.8, 1122.4, 1126.0, 1129.6, 1133.2, 1136.8, 1140.4, 1143.9, 1147.5, 1151.1, 1154.7, 1158.3, 1161.9, 1165.5, 1169.1, 1172.6, 1176.2, 1179.8, 1183.4, 1187.0, 1190.6, 1194.2, 1197.8, 1201.3, 1204.9, 1208.5, 1212.1, 1215.7, 1219.3, 1222.9, 1226.5, 1230.0, 1233.6, 1237.2, 1240.8, 1244.4, 1248.0, 1251.6, 1255.2, 1258.7, 1262.3, 1265.9, 1269.5, 1273.1, 1276.7, 1280.3, 1283.9, ...]\n",
       "Index: []\n",
       "\n",
       "[0 rows x 202 columns]"
      ]
     },
     "execution_count": 59,
     "metadata": {},
     "output_type": "execute_result"
    }
   ],
   "source": [
    "df_compost = pd.DataFrame(columns=COLUMN_NAMES)\n",
    "df_compost"
   ]
  },
  {
   "cell_type": "code",
   "execution_count": 60,
   "metadata": {},
   "outputs": [],
   "source": [
    "for capture_name, rois in compost_samples.items():\n",
    "    for roi in rois:\n",
    "        df_roi = pd.DataFrame(roi[1], columns=COLUMN_NAMES)\n",
    "        df_compost = pd.concat([df_compost, df_roi])"
   ]
  },
  {
   "cell_type": "code",
   "execution_count": 61,
   "metadata": {},
   "outputs": [
    {
     "data": {
      "text/plain": [
       "25715"
      ]
     },
     "execution_count": 61,
     "metadata": {},
     "output_type": "execute_result"
    }
   ],
   "source": [
    "len(df_compost)"
   ]
  },
  {
   "cell_type": "code",
   "execution_count": 62,
   "metadata": {},
   "outputs": [],
   "source": [
    "df_compost.to_csv(\"./raw_data/eval_compost.csv\", index=False)"
   ]
  }
 ],
 "metadata": {
  "kernelspec": {
   "display_name": "Python 3.10.4 ('.venv': pipenv)",
   "language": "python",
   "name": "python3"
  },
  "language_info": {
   "name": "python",
   "version": "3.10.4"
  },
  "orig_nbformat": 4,
  "vscode": {
   "interpreter": {
    "hash": "7ea3dadd995743c070a60538d12e65af98266bdc8fe22fa5ff7f84eb82e6fdd6"
   }
  }
 },
 "nbformat": 4,
 "nbformat_minor": 2
}
