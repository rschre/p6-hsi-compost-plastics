{
 "cells": [
  {
   "cell_type": "code",
   "execution_count": 15,
   "metadata": {},
   "outputs": [],
   "source": [
    "from data_handling import *\n",
    "from warnings import simplefilter\n",
    "import spectral\n",
    "import numpy as np\n",
    "import pandas as pd\n"
   ]
  },
  {
   "cell_type": "code",
   "execution_count": 16,
   "metadata": {},
   "outputs": [
    {
     "name": "stderr",
     "output_type": "stream",
     "text": [
      "INFO:data_handling:Root folder set to D:\\OneDriveFHNW\\FHNW\\EUT-P6bb-21HS-RS_M365 - General\\captures\n"
     ]
    }
   ],
   "source": [
    "spectral.settings.envi_support_nonlowercase_params = True\n",
    "simplefilter(action=\"ignore\", category=pd.errors.PerformanceWarning)\n",
    "pd.options.plotting.backend = \"plotly\"\n",
    "%matplotlib qt5\n",
    "root = get_root_folder(\"PC\")\n",
    "root_training = root + \"/training\""
   ]
  },
  {
   "cell_type": "code",
   "execution_count": 17,
   "metadata": {},
   "outputs": [],
   "source": [
    "BANDS = np.round(np.linspace(900,1700,224),1);\n",
    "RGB_BANDS = (81,131,181)\n",
    "\n",
    "BAND_LOW = 8\n",
    "BAND_HIGH = 210\n",
    "\n",
    "PLOT_LABELS = {\"index\": \"Wavelength [nm]\", \"value\": \"reflectance [1]\", \"variable\": \"pixel\"}\n",
    "COLUMN_NAMES = BANDS[BAND_LOW:BAND_HIGH]\n",
    "\n",
    "plastic_samples = {}"
   ]
  },
  {
   "cell_type": "code",
   "execution_count": 18,
   "metadata": {},
   "outputs": [
    {
     "name": "stderr",
     "output_type": "stream",
     "text": [
      "INFO:data_handling:\tData Source:   'D:\\OneDriveFHNW\\FHNW\\EUT-P6bb-21HS-RS_M365 - General\\captures/training\\qd_test_kompost_kunststoff_2022-06-08_06-47-49\\capture\\REFLECTANCE_qd_test_kompost_kunststoff_2022-06-08_06-47-49.dat'\n",
      "\t# Rows:            859\n",
      "\t# Samples:         640\n",
      "\t# Bands:           224\n",
      "\tInterleave:        BIL\n",
      "\tQuantization:  16 bits\n",
      "\tData format:    uint16\n"
     ]
    }
   ],
   "source": [
    "capture = get_hsi_capture(\"test_kompost_kunststoff_2022\", root_training)\n",
    "data = load_hsi_data(capture)\n",
    "capture_name=\"Kunststoff_auf_Kompost\"\n",
    "plastic_samples[capture_name] = []"
   ]
  },
  {
   "cell_type": "code",
   "execution_count": 19,
   "metadata": {},
   "outputs": [],
   "source": [
    "img = spectral.imshow(limit_reflection(data), RGB_BANDS)"
   ]
  },
  {
   "cell_type": "code",
   "execution_count": 20,
   "metadata": {},
   "outputs": [],
   "source": [
    "# Select a rectangular ROI of the image for further processing, reduce spatial dimensions to a single dimension\n",
    "roi = {\"y_low\": 100, \"y_high\": 131, \"x_low\": 233,  \"x_high\": 427}\n",
    "roi_data = get_2d_roi(data, **roi)\n",
    "\n",
    "# Display ROI on top of the image\n",
    "roi_img = display_roi_rectangle(data, **roi, title=f\"Selected ROI of {capture_name}\")\n",
    "\n",
    "# Add to Dictionary\n",
    "plastic_samples[capture_name].append((roi, roi_data))"
   ]
  },
  {
   "cell_type": "code",
   "execution_count": 21,
   "metadata": {},
   "outputs": [],
   "source": [
    "# Select a rectangular ROI of the image for further processing, reduce spatial dimensions to a single dimension\n",
    "roi = {\"y_low\": 255, \"y_high\": 309, \"x_low\": 304,  \"x_high\": 253}\n",
    "roi_data = get_2d_roi(data, **roi)\n",
    "\n",
    "# Display ROI on top of the image\n",
    "roi_img = display_roi_rectangle(data, **roi, title=f\"Selected ROI of {capture_name}\")\n",
    "\n",
    "# Add to Dictionary\n",
    "plastic_samples[capture_name].append((roi, roi_data))"
   ]
  },
  {
   "cell_type": "code",
   "execution_count": 22,
   "metadata": {},
   "outputs": [
    {
     "name": "stderr",
     "output_type": "stream",
     "text": [
      "INFO:data_handling:\tData Source:   'D:\\OneDriveFHNW\\FHNW\\EUT-P6bb-21HS-RS_M365 - General\\captures/training\\qd_test_kompost_kunststoff_2_2022-06-08_06-52-48\\capture\\REFLECTANCE_qd_test_kompost_kunststoff_2_2022-06-08_06-52-48.dat'\n",
      "\t# Rows:            859\n",
      "\t# Samples:         640\n",
      "\t# Bands:           224\n",
      "\tInterleave:        BIL\n",
      "\tQuantization:  16 bits\n",
      "\tData format:    uint16\n"
     ]
    }
   ],
   "source": [
    "capture = get_hsi_capture(\"test_kompost_kunststoff_2_\", root_training)\n",
    "data = load_hsi_data(capture)\n",
    "capture_name=\"Kunststoff_neben_Kompost\"\n",
    "plastic_samples[capture_name] = []"
   ]
  },
  {
   "cell_type": "code",
   "execution_count": 23,
   "metadata": {},
   "outputs": [],
   "source": [
    "img = spectral.imshow(limit_reflection(data), RGB_BANDS)"
   ]
  },
  {
   "cell_type": "code",
   "execution_count": 24,
   "metadata": {},
   "outputs": [],
   "source": [
    "# Select a rectangular ROI of the image for further processing, reduce spatial dimensions to a single dimension\n",
    "roi = {\"y_low\": 38, \"y_high\": 251, \"x_low\": 197,  \"x_high\": 254}\n",
    "roi_data = get_2d_roi(data, **roi)\n",
    "\n",
    "# Display ROI on top of the image\n",
    "roi_img = display_roi_rectangle(data, **roi, title=f\"Selected ROI of {capture_name}\")\n",
    "\n",
    "# Add to Dictionary\n",
    "plastic_samples[capture_name].append((roi, roi_data))"
   ]
  },
  {
   "cell_type": "code",
   "execution_count": 25,
   "metadata": {},
   "outputs": [],
   "source": [
    "# Select a rectangular ROI of the image for further processing, reduce spatial dimensions to a single dimension\n",
    "roi = {\"y_low\": 132, \"y_high\": 233, \"x_low\": 161,  \"x_high\": 132}\n",
    "roi_data = get_2d_roi(data, **roi)\n",
    "\n",
    "# Display ROI on top of the image\n",
    "roi_img = display_roi_rectangle(data, **roi, title=f\"Selected ROI of {capture_name}\")\n",
    "\n",
    "# Add to Dictionary\n",
    "plastic_samples[capture_name].append((roi, roi_data))"
   ]
  },
  {
   "cell_type": "code",
   "execution_count": 26,
   "metadata": {},
   "outputs": [
    {
     "name": "stderr",
     "output_type": "stream",
     "text": [
      "INFO:data_handling:\tData Source:   'D:\\OneDriveFHNW\\FHNW\\EUT-P6bb-21HS-RS_M365 - General\\captures/training\\p6bb-rs_blumentoepfe_2022-03-09_07-55-05\\capture\\REFLECTANCE_p6bb-rs_blumentoepfe_2022-03-09_07-55-05.dat'\n",
      "\t# Rows:            859\n",
      "\t# Samples:         640\n",
      "\t# Bands:           224\n",
      "\tInterleave:        BIL\n",
      "\tQuantization:  16 bits\n",
      "\tData format:    uint16\n"
     ]
    }
   ],
   "source": [
    "capture = get_hsi_capture(\"blumentoepf\", root_training)\n",
    "data = load_hsi_data(capture)\n",
    "capture_name=\"Blumentoepfe\"\n",
    "plastic_samples[capture_name] = []"
   ]
  },
  {
   "cell_type": "code",
   "execution_count": 27,
   "metadata": {},
   "outputs": [],
   "source": [
    "img = spectral.imshow(limit_reflection(data), RGB_BANDS)"
   ]
  },
  {
   "cell_type": "code",
   "execution_count": 28,
   "metadata": {},
   "outputs": [],
   "source": [
    "# Select a rectangular ROI of the image for further processing, reduce spatial dimensions to a single dimension\n",
    "roi = {\"y_low\": 383, \"y_high\": 429, \"x_low\": 217,  \"x_high\": 262}\n",
    "roi_data = get_2d_roi(data, **roi)\n",
    "\n",
    "# Display ROI on top of the image\n",
    "roi_img = display_roi_rectangle(data, **roi, title=f\"Selected ROI of {capture_name}\")\n",
    "\n",
    "# Add to Dictionary\n",
    "plastic_samples[capture_name].append((roi, roi_data))"
   ]
  },
  {
   "cell_type": "code",
   "execution_count": 29,
   "metadata": {},
   "outputs": [],
   "source": [
    "# Select a rectangular ROI of the image for further processing, reduce spatial dimensions to a single dimension\n",
    "roi = {\"y_low\": 621, \"y_high\": 743, \"x_low\": 225,  \"x_high\": 307}\n",
    "roi_data = get_2d_roi(data, **roi)\n",
    "\n",
    "# Display ROI on top of the image\n",
    "roi_img = display_roi_rectangle(data, **roi, title=f\"Selected ROI of {capture_name}\")\n",
    "\n",
    "# Add to Dictionary\n",
    "plastic_samples[capture_name].append((roi, roi_data))"
   ]
  },
  {
   "cell_type": "code",
   "execution_count": 30,
   "metadata": {},
   "outputs": [
    {
     "name": "stderr",
     "output_type": "stream",
     "text": [
      "INFO:data_handling:\tData Source:   'D:\\OneDriveFHNW\\FHNW\\EUT-P6bb-21HS-RS_M365 - General\\captures/training\\qd_kunststoffe_kompostanlage_5_2022-06-08_06-29-32\\capture\\REFLECTANCE_qd_kunststoffe_kompostanlage_5_2022-06-08_06-29-32.dat'\n",
      "\t# Rows:            859\n",
      "\t# Samples:         640\n",
      "\t# Bands:           224\n",
      "\tInterleave:        BIL\n",
      "\tQuantization:  16 bits\n",
      "\tData format:    uint16\n"
     ]
    }
   ],
   "source": [
    "capture = get_hsi_capture(\"kunststoffe_kompostanlage_5\", root_training)\n",
    "data = load_hsi_data(capture)\n",
    "capture_name=\"kunststoff_kompostanlage_5\"\n",
    "plastic_samples[capture_name] = []"
   ]
  },
  {
   "cell_type": "code",
   "execution_count": 31,
   "metadata": {},
   "outputs": [],
   "source": [
    "img = spectral.imshow(limit_reflection(data), RGB_BANDS)"
   ]
  },
  {
   "cell_type": "code",
   "execution_count": 32,
   "metadata": {},
   "outputs": [],
   "source": [
    "# Select a rectangular ROI of the image for further processing, reduce spatial dimensions to a single dimension\n",
    "roi = {\"y_low\":  421, \"y_high\": 620, \"x_low\": 354,  \"x_high\": 550}\n",
    "roi_data = get_2d_roi(data, **roi)\n",
    "\n",
    "# Display ROI on top of the image\n",
    "roi_img = display_roi_rectangle(data, **roi, title=f\"Selected ROI of {capture_name}\")\n",
    "\n",
    "# Add to Dictionary\n",
    "plastic_samples[capture_name].append((roi, roi_data))"
   ]
  },
  {
   "cell_type": "code",
   "execution_count": 33,
   "metadata": {},
   "outputs": [],
   "source": [
    "# Select a rectangular ROI of the image for further processing, reduce spatial dimensions to a single dimension\n",
    "roi = {\"y_low\":  40, \"y_high\": 90, \"x_low\": 70,  \"x_high\": 120}\n",
    "roi_data = get_2d_roi(data, **roi)\n",
    "\n",
    "# Display ROI on top of the image\n",
    "roi_img = display_roi_rectangle(data, **roi, title=f\"Selected ROI of {capture_name}\")\n",
    "\n",
    "# Add to Dictionary\n",
    "plastic_samples[capture_name].append((roi, roi_data))"
   ]
  },
  {
   "cell_type": "code",
   "execution_count": 34,
   "metadata": {},
   "outputs": [
    {
     "data": {
      "text/html": [
       "<div>\n",
       "<style scoped>\n",
       "    .dataframe tbody tr th:only-of-type {\n",
       "        vertical-align: middle;\n",
       "    }\n",
       "\n",
       "    .dataframe tbody tr th {\n",
       "        vertical-align: top;\n",
       "    }\n",
       "\n",
       "    .dataframe thead th {\n",
       "        text-align: right;\n",
       "    }\n",
       "</style>\n",
       "<table border=\"1\" class=\"dataframe\">\n",
       "  <thead>\n",
       "    <tr style=\"text-align: right;\">\n",
       "      <th></th>\n",
       "      <th>928.7</th>\n",
       "      <th>932.3</th>\n",
       "      <th>935.9</th>\n",
       "      <th>939.5</th>\n",
       "      <th>943.0</th>\n",
       "      <th>946.6</th>\n",
       "      <th>950.2</th>\n",
       "      <th>953.8</th>\n",
       "      <th>957.4</th>\n",
       "      <th>961.0</th>\n",
       "      <th>...</th>\n",
       "      <th>1617.5</th>\n",
       "      <th>1621.1</th>\n",
       "      <th>1624.7</th>\n",
       "      <th>1628.3</th>\n",
       "      <th>1631.8</th>\n",
       "      <th>1635.4</th>\n",
       "      <th>1639.0</th>\n",
       "      <th>1642.6</th>\n",
       "      <th>1646.2</th>\n",
       "      <th>1649.8</th>\n",
       "    </tr>\n",
       "  </thead>\n",
       "  <tbody>\n",
       "  </tbody>\n",
       "</table>\n",
       "<p>0 rows × 202 columns</p>\n",
       "</div>"
      ],
      "text/plain": [
       "Empty DataFrame\n",
       "Columns: [928.7, 932.3, 935.9, 939.5, 943.0, 946.6, 950.2, 953.8, 957.4, 961.0, 964.6, 968.2, 971.7, 975.3, 978.9, 982.5, 986.1, 989.7, 993.3, 996.9, 1000.4, 1004.0, 1007.6, 1011.2, 1014.8, 1018.4, 1022.0, 1025.6, 1029.1, 1032.7, 1036.3, 1039.9, 1043.5, 1047.1, 1050.7, 1054.3, 1057.8, 1061.4, 1065.0, 1068.6, 1072.2, 1075.8, 1079.4, 1083.0, 1086.5, 1090.1, 1093.7, 1097.3, 1100.9, 1104.5, 1108.1, 1111.7, 1115.2, 1118.8, 1122.4, 1126.0, 1129.6, 1133.2, 1136.8, 1140.4, 1143.9, 1147.5, 1151.1, 1154.7, 1158.3, 1161.9, 1165.5, 1169.1, 1172.6, 1176.2, 1179.8, 1183.4, 1187.0, 1190.6, 1194.2, 1197.8, 1201.3, 1204.9, 1208.5, 1212.1, 1215.7, 1219.3, 1222.9, 1226.5, 1230.0, 1233.6, 1237.2, 1240.8, 1244.4, 1248.0, 1251.6, 1255.2, 1258.7, 1262.3, 1265.9, 1269.5, 1273.1, 1276.7, 1280.3, 1283.9, ...]\n",
       "Index: []\n",
       "\n",
       "[0 rows x 202 columns]"
      ]
     },
     "execution_count": 34,
     "metadata": {},
     "output_type": "execute_result"
    }
   ],
   "source": [
    "df_plastic = pd.DataFrame(columns=COLUMN_NAMES)\n",
    "df_plastic"
   ]
  },
  {
   "cell_type": "code",
   "execution_count": 35,
   "metadata": {},
   "outputs": [],
   "source": [
    "for capture_name, rois in plastic_samples.items():\n",
    "    for roi in rois:\n",
    "        df_roi = pd.DataFrame(roi[1], columns=COLUMN_NAMES)\n",
    "        df_plastic = pd.concat([df_plastic, df_roi])"
   ]
  },
  {
   "cell_type": "code",
   "execution_count": 36,
   "metadata": {},
   "outputs": [
    {
     "data": {
      "text/plain": [
       "71733"
      ]
     },
     "execution_count": 36,
     "metadata": {},
     "output_type": "execute_result"
    }
   ],
   "source": [
    "len(df_plastic)"
   ]
  },
  {
   "cell_type": "code",
   "execution_count": 37,
   "metadata": {},
   "outputs": [],
   "source": [
    "df_plastic.to_csv(\"./raw_data/eval_plastics.csv\", index=False)"
   ]
  },
  {
   "cell_type": "markdown",
   "metadata": {},
   "source": [
    "### Background"
   ]
  },
  {
   "cell_type": "code",
   "execution_count": 38,
   "metadata": {},
   "outputs": [
    {
     "name": "stderr",
     "output_type": "stream",
     "text": [
      "INFO:data_handling:\tData Source:   'D:\\OneDriveFHNW\\FHNW\\EUT-P6bb-21HS-RS_M365 - General\\captures/training\\qd_test_kompost_kunststoff_2022-06-08_06-47-49\\capture\\REFLECTANCE_qd_test_kompost_kunststoff_2022-06-08_06-47-49.dat'\n",
      "\t# Rows:            859\n",
      "\t# Samples:         640\n",
      "\t# Bands:           224\n",
      "\tInterleave:        BIL\n",
      "\tQuantization:  16 bits\n",
      "\tData format:    uint16\n"
     ]
    }
   ],
   "source": [
    "bg_samples = {}\n",
    "capture = get_hsi_capture(\"test_kompost_kunststoff_2022\", root_training)\n",
    "data = load_hsi_data(capture)\n",
    "capture_name=\"Kunststoff_auf_Kompost\"\n",
    "bg_samples[capture_name] = []"
   ]
  },
  {
   "cell_type": "code",
   "execution_count": 39,
   "metadata": {},
   "outputs": [],
   "source": [
    "img = spectral.imshow(limit_reflection(data), RGB_BANDS)"
   ]
  },
  {
   "cell_type": "code",
   "execution_count": 40,
   "metadata": {},
   "outputs": [],
   "source": [
    "# Select a rectangular ROI of the image for further processing, reduce spatial dimensions to a single dimension\n",
    "roi = {\"y_low\": 640, \"y_high\": 740, \"x_low\": 4,  \"x_high\": 54}\n",
    "roi_data = get_2d_roi(data, **roi)\n",
    "\n",
    "# Display ROI on top of the image\n",
    "roi_img = display_roi_rectangle(data, **roi, title=f\"Selected ROI of {capture_name}\")\n",
    "\n",
    "# Add to Dictionary\n",
    "bg_samples[capture_name].append((roi, roi_data))"
   ]
  },
  {
   "cell_type": "code",
   "execution_count": 41,
   "metadata": {},
   "outputs": [
    {
     "data": {
      "text/html": [
       "<div>\n",
       "<style scoped>\n",
       "    .dataframe tbody tr th:only-of-type {\n",
       "        vertical-align: middle;\n",
       "    }\n",
       "\n",
       "    .dataframe tbody tr th {\n",
       "        vertical-align: top;\n",
       "    }\n",
       "\n",
       "    .dataframe thead th {\n",
       "        text-align: right;\n",
       "    }\n",
       "</style>\n",
       "<table border=\"1\" class=\"dataframe\">\n",
       "  <thead>\n",
       "    <tr style=\"text-align: right;\">\n",
       "      <th></th>\n",
       "      <th>928.7</th>\n",
       "      <th>932.3</th>\n",
       "      <th>935.9</th>\n",
       "      <th>939.5</th>\n",
       "      <th>943.0</th>\n",
       "      <th>946.6</th>\n",
       "      <th>950.2</th>\n",
       "      <th>953.8</th>\n",
       "      <th>957.4</th>\n",
       "      <th>961.0</th>\n",
       "      <th>...</th>\n",
       "      <th>1617.5</th>\n",
       "      <th>1621.1</th>\n",
       "      <th>1624.7</th>\n",
       "      <th>1628.3</th>\n",
       "      <th>1631.8</th>\n",
       "      <th>1635.4</th>\n",
       "      <th>1639.0</th>\n",
       "      <th>1642.6</th>\n",
       "      <th>1646.2</th>\n",
       "      <th>1649.8</th>\n",
       "    </tr>\n",
       "  </thead>\n",
       "  <tbody>\n",
       "  </tbody>\n",
       "</table>\n",
       "<p>0 rows × 202 columns</p>\n",
       "</div>"
      ],
      "text/plain": [
       "Empty DataFrame\n",
       "Columns: [928.7, 932.3, 935.9, 939.5, 943.0, 946.6, 950.2, 953.8, 957.4, 961.0, 964.6, 968.2, 971.7, 975.3, 978.9, 982.5, 986.1, 989.7, 993.3, 996.9, 1000.4, 1004.0, 1007.6, 1011.2, 1014.8, 1018.4, 1022.0, 1025.6, 1029.1, 1032.7, 1036.3, 1039.9, 1043.5, 1047.1, 1050.7, 1054.3, 1057.8, 1061.4, 1065.0, 1068.6, 1072.2, 1075.8, 1079.4, 1083.0, 1086.5, 1090.1, 1093.7, 1097.3, 1100.9, 1104.5, 1108.1, 1111.7, 1115.2, 1118.8, 1122.4, 1126.0, 1129.6, 1133.2, 1136.8, 1140.4, 1143.9, 1147.5, 1151.1, 1154.7, 1158.3, 1161.9, 1165.5, 1169.1, 1172.6, 1176.2, 1179.8, 1183.4, 1187.0, 1190.6, 1194.2, 1197.8, 1201.3, 1204.9, 1208.5, 1212.1, 1215.7, 1219.3, 1222.9, 1226.5, 1230.0, 1233.6, 1237.2, 1240.8, 1244.4, 1248.0, 1251.6, 1255.2, 1258.7, 1262.3, 1265.9, 1269.5, 1273.1, 1276.7, 1280.3, 1283.9, ...]\n",
       "Index: []\n",
       "\n",
       "[0 rows x 202 columns]"
      ]
     },
     "execution_count": 41,
     "metadata": {},
     "output_type": "execute_result"
    }
   ],
   "source": [
    "df_bg = pd.DataFrame(columns=COLUMN_NAMES)\n",
    "df_bg"
   ]
  },
  {
   "cell_type": "code",
   "execution_count": 42,
   "metadata": {},
   "outputs": [],
   "source": [
    "for capture_name, rois in bg_samples.items():\n",
    "    for roi in rois:\n",
    "        df_roi = pd.DataFrame(roi[1], columns=COLUMN_NAMES)\n",
    "        df_bg = pd.concat([df_bg, df_roi])"
   ]
  },
  {
   "cell_type": "code",
   "execution_count": 43,
   "metadata": {},
   "outputs": [],
   "source": [
    "df_bg.to_csv(\"./raw_data/eval_bg.csv\", index=False)"
   ]
  },
  {
   "cell_type": "markdown",
   "metadata": {},
   "source": [
    "### Compost"
   ]
  },
  {
   "cell_type": "code",
   "execution_count": 44,
   "metadata": {},
   "outputs": [
    {
     "name": "stderr",
     "output_type": "stream",
     "text": [
      "INFO:data_handling:\tData Source:   'D:\\OneDriveFHNW\\FHNW\\EUT-P6bb-21HS-RS_M365 - General\\captures/training\\qd_test_kompost_kunststoff_2022-06-08_06-47-49\\capture\\REFLECTANCE_qd_test_kompost_kunststoff_2022-06-08_06-47-49.dat'\n",
      "\t# Rows:            859\n",
      "\t# Samples:         640\n",
      "\t# Bands:           224\n",
      "\tInterleave:        BIL\n",
      "\tQuantization:  16 bits\n",
      "\tData format:    uint16\n"
     ]
    }
   ],
   "source": [
    "compost_samples = {}\n",
    "capture = get_hsi_capture(\"test_kompost_kunststoff_2022\", root_training)\n",
    "data = load_hsi_data(capture)\n",
    "capture_name=\"Kompost 1\"\n",
    "compost_samples[capture_name] = []"
   ]
  },
  {
   "cell_type": "code",
   "execution_count": 45,
   "metadata": {},
   "outputs": [],
   "source": [
    "img = spectral.imshow(limit_reflection(data), RGB_BANDS)"
   ]
  },
  {
   "cell_type": "code",
   "execution_count": 46,
   "metadata": {},
   "outputs": [],
   "source": [
    "# Select a rectangular ROI of the image for further processing, reduce spatial dimensions to a single dimension\n",
    "roi = {\"y_low\": 632, \"y_high\": 775, \"x_low\": 212,  \"x_high\": 326}\n",
    "roi_data = get_2d_roi(data, **roi)\n",
    "\n",
    "# Display ROI on top of the image\n",
    "roi_img = display_roi_rectangle(data, **roi, title=f\"Selected ROI of {capture_name}\")\n",
    "\n",
    "# Add to Dictionary\n",
    "compost_samples[capture_name].append((roi, roi_data))"
   ]
  },
  {
   "cell_type": "code",
   "execution_count": 47,
   "metadata": {},
   "outputs": [],
   "source": [
    "# Select a rectangular ROI of the image for further processing, reduce spatial dimensions to a single dimension\n",
    "roi = {\"y_low\": 161, \"y_high\": 225, \"x_low\": 228,  \"x_high\": 308}\n",
    "roi_data = get_2d_roi(data, **roi)\n",
    "\n",
    "# Display ROI on top of the image\n",
    "roi_img = display_roi_rectangle(data, **roi, title=f\"Selected ROI of {capture_name}\")\n",
    "\n",
    "# Add to Dictionary\n",
    "compost_samples[capture_name].append((roi, roi_data))"
   ]
  },
  {
   "cell_type": "code",
   "execution_count": 48,
   "metadata": {},
   "outputs": [
    {
     "name": "stderr",
     "output_type": "stream",
     "text": [
      "INFO:data_handling:\tData Source:   'D:\\OneDriveFHNW\\FHNW\\EUT-P6bb-21HS-RS_M365 - General\\captures/training\\qd_test_kompost_kunststoff_2_2022-06-08_06-52-48\\capture\\REFLECTANCE_qd_test_kompost_kunststoff_2_2022-06-08_06-52-48.dat'\n",
      "\t# Rows:            859\n",
      "\t# Samples:         640\n",
      "\t# Bands:           224\n",
      "\tInterleave:        BIL\n",
      "\tQuantization:  16 bits\n",
      "\tData format:    uint16\n"
     ]
    }
   ],
   "source": [
    "capture = get_hsi_capture(\"test_kompost_kunststoff_2_\", root_training)\n",
    "data = load_hsi_data(capture)\n",
    "capture_name=\"Kompost 2\"\n",
    "compost_samples[capture_name] = []"
   ]
  },
  {
   "cell_type": "code",
   "execution_count": 49,
   "metadata": {},
   "outputs": [],
   "source": [
    "img = spectral.imshow(limit_reflection(data), RGB_BANDS)"
   ]
  },
  {
   "cell_type": "code",
   "execution_count": 50,
   "metadata": {},
   "outputs": [],
   "source": [
    "# Select a rectangular ROI of the image for further processing, reduce spatial dimensions to a single dimension\n",
    "roi = {\"y_low\": 537, \"y_high\": 588, \"x_low\": 177,  \"x_high\": 212}\n",
    "roi_data = get_2d_roi(data, **roi)\n",
    "\n",
    "# Display ROI on top of the image\n",
    "roi_img = display_roi_rectangle(data, **roi, title=f\"Selected ROI of {capture_name}\")\n",
    "\n",
    "# Add to Dictionary\n",
    "compost_samples[capture_name].append((roi, roi_data))"
   ]
  },
  {
   "cell_type": "code",
   "execution_count": 51,
   "metadata": {},
   "outputs": [],
   "source": [
    "# Select a rectangular ROI of the image for further processing, reduce spatial dimensions to a single dimension\n",
    "roi = {\"y_low\": 493, \"y_high\": 625, \"x_low\": 42,  \"x_high\": 61}\n",
    "roi_data = get_2d_roi(data, **roi)\n",
    "\n",
    "# Display ROI on top of the image\n",
    "roi_img = display_roi_rectangle(data, **roi, title=f\"Selected ROI of {capture_name}\")\n",
    "\n",
    "# Add to Dictionary\n",
    "compost_samples[capture_name].append((roi, roi_data))"
   ]
  },
  {
   "cell_type": "code",
   "execution_count": 52,
   "metadata": {},
   "outputs": [],
   "source": [
    "## sp10_feucht, sp10_getrock\n",
    "compost_samples = {}"
   ]
  },
  {
   "cell_type": "code",
   "execution_count": 53,
   "metadata": {},
   "outputs": [
    {
     "name": "stderr",
     "output_type": "stream",
     "text": [
      "INFO:data_handling:\tData Source:   'D:\\OneDriveFHNW\\FHNW\\EUT-P6bb-21HS-RS_M365 - General\\captures/training\\p6bb-rs_SP10_feucht_2021-11-10_10-12-53\\capture\\REFLECTANCE_p6bb-rs_SP10_feucht_2021-11-10_10-12-53.dat'\n",
      "\t# Rows:            858\n",
      "\t# Samples:         640\n",
      "\t# Bands:           224\n",
      "\tInterleave:        BIL\n",
      "\tQuantization:  16 bits\n",
      "\tData format:    uint16\n"
     ]
    }
   ],
   "source": [
    "capture = get_hsi_capture(\"sp10_feucht\", root_training)\n",
    "data = load_hsi_data(capture)\n",
    "capture_name=\"SP10_feucht\"\n",
    "compost_samples[capture_name] = []"
   ]
  },
  {
   "cell_type": "code",
   "execution_count": 54,
   "metadata": {},
   "outputs": [
    {
     "name": "stderr",
     "output_type": "stream",
     "text": [
      "d:\\OneDriveFHNW\\FHNW\\EUT-P6bb-21HS-RS_M365 - General\\python_clean\\.venv\\lib\\site-packages\\spectral\\graphics\\spypylab.py:729: RuntimeWarning: More than 20 figures have been opened. Figures created through the pyplot interface (`matplotlib.pyplot.figure`) are retained until explicitly closed and may consume too much memory. (To control this warning, see the rcParam `figure.max_open_warning`).\n",
      "  plt.figure(**kwargs)\n"
     ]
    }
   ],
   "source": [
    "img = spectral.imshow(limit_reflection(data), RGB_BANDS)"
   ]
  },
  {
   "cell_type": "code",
   "execution_count": 55,
   "metadata": {},
   "outputs": [],
   "source": [
    "# Select a rectangular ROI of the image for further processing, reduce spatial dimensions to a single dimension\n",
    "roi = {\"y_low\": 300, \"y_high\": 440, \"x_low\": 375,  \"x_high\": 450}\n",
    "roi_data = get_2d_roi(data, **roi)\n",
    "\n",
    "# Display ROI on top of the image\n",
    "roi_img = display_roi_rectangle(data, **roi, title=f\"Selected ROI of {capture_name}\")\n",
    "\n",
    "# Add to Dictionary\n",
    "compost_samples[capture_name].append((roi, roi_data))"
   ]
  },
  {
   "cell_type": "code",
   "execution_count": 56,
   "metadata": {},
   "outputs": [
    {
     "name": "stderr",
     "output_type": "stream",
     "text": [
      "INFO:data_handling:\tData Source:   'D:\\OneDriveFHNW\\FHNW\\EUT-P6bb-21HS-RS_M365 - General\\captures/training\\p6bb-rs_SP10_getrocknet_2021-11-10_10-11-37\\capture\\REFLECTANCE_p6bb-rs_SP10_getrocknet_2021-11-10_10-11-37.dat'\n",
      "\t# Rows:            859\n",
      "\t# Samples:         640\n",
      "\t# Bands:           224\n",
      "\tInterleave:        BIL\n",
      "\tQuantization:  16 bits\n",
      "\tData format:    uint16\n"
     ]
    }
   ],
   "source": [
    "capture = get_hsi_capture(\"sp10_getrock\", root_training)\n",
    "data = load_hsi_data(capture)\n",
    "capture_name=\"SP10_getrock\"\n",
    "compost_samples[capture_name] = []"
   ]
  },
  {
   "cell_type": "code",
   "execution_count": 57,
   "metadata": {},
   "outputs": [],
   "source": [
    "img = spectral.imshow(limit_reflection(data), RGB_BANDS)"
   ]
  },
  {
   "cell_type": "code",
   "execution_count": 58,
   "metadata": {},
   "outputs": [],
   "source": [
    "# Select a rectangular ROI of the image for further processing, reduce spatial dimensions to a single dimension\n",
    "roi = {\"y_low\": 210, \"y_high\": 260, \"x_low\": 220,  \"x_high\": 280}\n",
    "roi_data = get_2d_roi(data, **roi)\n",
    "\n",
    "# Display ROI on top of the image\n",
    "roi_img = display_roi_rectangle(data, **roi, title=f\"Selected ROI of {capture_name}\")\n",
    "\n",
    "# Add to Dictionary\n",
    "compost_samples[capture_name].append((roi, roi_data))"
   ]
  },
  {
   "cell_type": "code",
   "execution_count": 59,
   "metadata": {},
   "outputs": [
    {
     "data": {
      "text/html": [
       "<div>\n",
       "<style scoped>\n",
       "    .dataframe tbody tr th:only-of-type {\n",
       "        vertical-align: middle;\n",
       "    }\n",
       "\n",
       "    .dataframe tbody tr th {\n",
       "        vertical-align: top;\n",
       "    }\n",
       "\n",
       "    .dataframe thead th {\n",
       "        text-align: right;\n",
       "    }\n",
       "</style>\n",
       "<table border=\"1\" class=\"dataframe\">\n",
       "  <thead>\n",
       "    <tr style=\"text-align: right;\">\n",
       "      <th></th>\n",
       "      <th>928.7</th>\n",
       "      <th>932.3</th>\n",
       "      <th>935.9</th>\n",
       "      <th>939.5</th>\n",
       "      <th>943.0</th>\n",
       "      <th>946.6</th>\n",
       "      <th>950.2</th>\n",
       "      <th>953.8</th>\n",
       "      <th>957.4</th>\n",
       "      <th>961.0</th>\n",
       "      <th>...</th>\n",
       "      <th>1617.5</th>\n",
       "      <th>1621.1</th>\n",
       "      <th>1624.7</th>\n",
       "      <th>1628.3</th>\n",
       "      <th>1631.8</th>\n",
       "      <th>1635.4</th>\n",
       "      <th>1639.0</th>\n",
       "      <th>1642.6</th>\n",
       "      <th>1646.2</th>\n",
       "      <th>1649.8</th>\n",
       "    </tr>\n",
       "  </thead>\n",
       "  <tbody>\n",
       "  </tbody>\n",
       "</table>\n",
       "<p>0 rows × 202 columns</p>\n",
       "</div>"
      ],
      "text/plain": [
       "Empty DataFrame\n",
       "Columns: [928.7, 932.3, 935.9, 939.5, 943.0, 946.6, 950.2, 953.8, 957.4, 961.0, 964.6, 968.2, 971.7, 975.3, 978.9, 982.5, 986.1, 989.7, 993.3, 996.9, 1000.4, 1004.0, 1007.6, 1011.2, 1014.8, 1018.4, 1022.0, 1025.6, 1029.1, 1032.7, 1036.3, 1039.9, 1043.5, 1047.1, 1050.7, 1054.3, 1057.8, 1061.4, 1065.0, 1068.6, 1072.2, 1075.8, 1079.4, 1083.0, 1086.5, 1090.1, 1093.7, 1097.3, 1100.9, 1104.5, 1108.1, 1111.7, 1115.2, 1118.8, 1122.4, 1126.0, 1129.6, 1133.2, 1136.8, 1140.4, 1143.9, 1147.5, 1151.1, 1154.7, 1158.3, 1161.9, 1165.5, 1169.1, 1172.6, 1176.2, 1179.8, 1183.4, 1187.0, 1190.6, 1194.2, 1197.8, 1201.3, 1204.9, 1208.5, 1212.1, 1215.7, 1219.3, 1222.9, 1226.5, 1230.0, 1233.6, 1237.2, 1240.8, 1244.4, 1248.0, 1251.6, 1255.2, 1258.7, 1262.3, 1265.9, 1269.5, 1273.1, 1276.7, 1280.3, 1283.9, ...]\n",
       "Index: []\n",
       "\n",
       "[0 rows x 202 columns]"
      ]
     },
     "execution_count": 59,
     "metadata": {},
     "output_type": "execute_result"
    }
   ],
   "source": [
    "df_compost = pd.DataFrame(columns=COLUMN_NAMES)\n",
    "df_compost"
   ]
  },
  {
   "cell_type": "code",
   "execution_count": 60,
   "metadata": {},
   "outputs": [],
   "source": [
    "for capture_name, rois in compost_samples.items():\n",
    "    for roi in rois:\n",
    "        df_roi = pd.DataFrame(roi[1], columns=COLUMN_NAMES)\n",
    "        df_compost = pd.concat([df_compost, df_roi])"
   ]
  },
  {
   "cell_type": "code",
   "execution_count": 61,
   "metadata": {},
   "outputs": [
    {
     "data": {
      "text/plain": [
       "13500"
      ]
     },
     "execution_count": 61,
     "metadata": {},
     "output_type": "execute_result"
    }
   ],
   "source": [
    "len(df_compost)"
   ]
  },
  {
   "cell_type": "code",
   "execution_count": 62,
   "metadata": {},
   "outputs": [],
   "source": [
    "df_compost.to_csv(\"./raw_data/eval_compost.csv\", index=False)"
   ]
  }
 ],
 "metadata": {
  "kernelspec": {
   "display_name": "Python 3.10.4 ('.venv': pipenv)",
   "language": "python",
   "name": "python3"
  },
  "language_info": {
   "codemirror_mode": {
    "name": "ipython",
    "version": 3
   },
   "file_extension": ".py",
   "mimetype": "text/x-python",
   "name": "python",
   "nbconvert_exporter": "python",
   "pygments_lexer": "ipython3",
   "version": "3.10.4"
  },
  "orig_nbformat": 4,
  "vscode": {
   "interpreter": {
    "hash": "7ea3dadd995743c070a60538d12e65af98266bdc8fe22fa5ff7f84eb82e6fdd6"
   }
  }
 },
 "nbformat": 4,
 "nbformat_minor": 2
}
