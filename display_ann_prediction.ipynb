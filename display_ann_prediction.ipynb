{
 "cells": [
  {
   "cell_type": "code",
   "execution_count": 6,
   "metadata": {},
   "outputs": [
    {
     "name": "stderr",
     "output_type": "stream",
     "text": [
      "INFO:data_handling:Root folder set to D:\\OneDriveFHNW\\FHNW\\EUT-P6bb-21HS-RS_M365 - General\\captures\n"
     ]
    }
   ],
   "source": [
    "import pickle\n",
    "from warnings import simplefilter\n",
    "\n",
    "import matplotlib as mpl\n",
    "import spectral\n",
    "from data_handling import *\n",
    "from tensorflow import keras\n",
    "\n",
    "\n",
    "root = get_root_folder(\"PC\")\n",
    "spectral.settings.envi_support_nonlowercase_params = True\n",
    "simplefilter(action=\"ignore\", category=pd.errors.PerformanceWarning)\n",
    "\n",
    "BANDS = np.round(np.linspace(900,1700,224),1);\n",
    "RGB_BANDS = (81,131,181)\n",
    "\n",
    "%matplotlib qt5"
   ]
  },
  {
   "cell_type": "code",
   "execution_count": 4,
   "metadata": {},
   "outputs": [],
   "source": [
    "model = keras.models.load_model(\"./models/model_no_transform/\")"
   ]
  },
  {
   "cell_type": "code",
   "execution_count": 40,
   "metadata": {},
   "outputs": [
    {
     "name": "stderr",
     "output_type": "stream",
     "text": [
      "INFO:data_handling:\tData Source:   'D:\\OneDriveFHNW\\FHNW\\EUT-P6bb-21HS-RS_M365 - General\\captures/training\\qd_kompost_sp10_mit_kunststoffen_4_2022-06-08_06-43-52\\capture\\REFLECTANCE_qd_kompost_sp10_mit_kunststoffen_4_2022-06-08_06-43-52.dat'\n",
      "\t# Rows:            859\n",
      "\t# Samples:         640\n",
      "\t# Bands:           224\n",
      "\tInterleave:        BIL\n",
      "\tQuantization:  16 bits\n",
      "\tData format:    uint16\n"
     ]
    },
    {
     "name": "stdout",
     "output_type": "stream",
     "text": [
      "1100/1100 [==============================] - 2s 2ms/step\n"
     ]
    }
   ],
   "source": [
    "capture = get_hsi_capture(\"sp10_mit_kunststoffen_4\", root+r\"/training\")\n",
    "data = load_hsi_data(capture)\n",
    "\n",
    "im = spectral.imshow(data, RGB_BANDS)\n",
    "\n",
    "[m,n,p] = np.shape(data)\n",
    "data_2d = np.reshape(data, [m*n,p])\n",
    "data_2d_clean = data_2d[:,8:210].copy()\n",
    "\n",
    "scaler = pickle.load(open('scaler_no_transform.pkl', 'rb'))\n",
    "data_2d_scaled = scaler.transform(data_2d_clean)\n",
    "\n",
    "result = model.predict(data_2d_scaled, batch_size=500)\n",
    "\n",
    "result_class = result.argmax(axis=1)"
   ]
  },
  {
   "cell_type": "code",
   "execution_count": 46,
   "metadata": {},
   "outputs": [
    {
     "data": {
      "text/plain": [
       "Text(0, -50, 'Plastic (Pink), Compost (Green), Background (Grey)')"
      ]
     },
     "execution_count": 46,
     "metadata": {},
     "output_type": "execute_result"
    }
   ],
   "source": [
    "result_class_c = result_class.copy()\n",
    "result_class_c[result_class_c==0]=4\n",
    "result_class_c[result_class_c==1]=5\n",
    "result_class_c[result_class_c==2]=3\n",
    "\n",
    "cmap = mpl.cm.get_cmap(\"Dark2_r\",3)\n",
    "plt.figure()\n",
    "plt.imshow(np.reshape(result_class_c, [m, n]), cmap=cmap)\n",
    "plt.text(0,-50,\"Plastic (Pink), Compost (Green), Background (Grey)\")"
   ]
  },
  {
   "cell_type": "code",
   "execution_count": 51,
   "metadata": {},
   "outputs": [
    {
     "name": "stderr",
     "output_type": "stream",
     "text": [
      "INFO:data_handling:\tData Source:   'D:\\OneDriveFHNW\\FHNW\\EUT-P6bb-21HS-RS_M365 - General\\captures/training\\p6bb-rs_blumentoepfe_2022-03-09_07-55-05\\capture\\REFLECTANCE_p6bb-rs_blumentoepfe_2022-03-09_07-55-05.dat'\n",
      "\t# Rows:            859\n",
      "\t# Samples:         640\n",
      "\t# Bands:           224\n",
      "\tInterleave:        BIL\n",
      "\tQuantization:  16 bits\n",
      "\tData format:    uint16\n"
     ]
    },
    {
     "name": "stdout",
     "output_type": "stream",
     "text": [
      "1100/1100 [==============================] - 2s 1ms/step\n"
     ]
    }
   ],
   "source": [
    "capture = get_hsi_capture(\"test_kompost_kunststoff_2_\", root+r\"/training\")\n",
    "data = load_hsi_data(capture)\n",
    "\n",
    "im = spectral.imshow(data, RGB_BANDS)\n",
    "\n",
    "[m,n,p] = np.shape(data)\n",
    "data_2d = np.reshape(data, [m*n,p])\n",
    "data_2d_clean = data_2d[:,8:210].copy()\n",
    "\n",
    "scaler = pickle.load(open('scaler_no_transform.pkl', 'rb'))\n",
    "data_2d_scaled = scaler.transform(data_2d_clean)\n",
    "\n",
    "result = model.predict(data_2d_scaled, batch_size=500)\n",
    "\n",
    "result_class = result.argmax(axis=1)"
   ]
  },
  {
   "cell_type": "code",
   "execution_count": null,
   "metadata": {},
   "outputs": [
    {
     "data": {
      "text/plain": [
       "Text(0, -50, 'Plastic (Pink), Compost (Green), Background (Grey)')"
      ]
     },
     "metadata": {},
     "output_type": "display_data"
    }
   ],
   "source": [
    "result_class_c = result_class.copy()\n",
    "result_class_c[result_class_c==0]=4\n",
    "result_class_c[result_class_c==1]=5\n",
    "result_class_c[result_class_c==2]=3\n",
    "\n",
    "cmap = mpl.cm.get_cmap(\"Dark2_r\",3)\n",
    "plt.figure()\n",
    "plt.imshow(np.reshape(result_class_c, [m, n]), cmap=cmap)\n",
    "plt.text(0,-50,\"Plastic (Pink), Compost (Green), Background (Grey)\")"
   ]
  },
  {
   "cell_type": "code",
   "execution_count": null,
   "metadata": {},
   "outputs": [
    {
     "name": "stderr",
     "output_type": "stream",
     "text": [
      "INFO:data_handling:\tData Source:   'D:\\OneDriveFHNW\\FHNW\\EUT-P6bb-21HS-RS_M365 - General\\captures/training\\p6bb-rs_blumentoepfe_2022-03-09_07-55-05\\capture\\REFLECTANCE_p6bb-rs_blumentoepfe_2022-03-09_07-55-05.dat'\n",
      "\t# Rows:            859\n",
      "\t# Samples:         640\n",
      "\t# Bands:           224\n",
      "\tInterleave:        BIL\n",
      "\tQuantization:  16 bits\n",
      "\tData format:    uint16\n"
     ]
    },
    {
     "name": "stdout",
     "output_type": "stream",
     "text": [
      "1100/1100 [==============================] - 2s 1ms/step\n"
     ]
    }
   ],
   "source": [
    "capture = get_hsi_capture(\"blumentoepfe\", root+r\"/training\")\n",
    "data = load_hsi_data(capture)\n",
    "\n",
    "im = spectral.imshow(data, RGB_BANDS)\n",
    "\n",
    "[m,n,p] = np.shape(data)\n",
    "data_2d = np.reshape(data, [m*n,p])\n",
    "data_2d_clean = data_2d[:,8:210].copy()\n",
    "\n",
    "scaler = pickle.load(open('scaler_no_transform.pkl', 'rb'))\n",
    "data_2d_scaled = scaler.transform(data_2d_clean)\n",
    "\n",
    "result = model.predict(data_2d_scaled, batch_size=500)\n",
    "\n",
    "result_class = result.argmax(axis=1)"
   ]
  },
  {
   "cell_type": "code",
   "execution_count": 52,
   "metadata": {},
   "outputs": [
    {
     "data": {
      "text/plain": [
       "Text(0, -50, 'Plastic (Pink), Compost (Green), Background (Grey)')"
      ]
     },
     "execution_count": 52,
     "metadata": {},
     "output_type": "execute_result"
    },
    {
     "ename": "",
     "evalue": "",
     "output_type": "error",
     "traceback": [
      "The Kernel crashed while executing code in the the current cell or a previous cell. Please review the code in the cell(s) to identify a possible cause of the failure. Click <a href='https://aka.ms/vscodeJupyterKernelCrash'>here</a> for more info. View Jupyter <a href='command:jupyter.viewOutput'>log</a> for further details."
     ]
    }
   ],
   "source": [
    "result_class_c = result_class.copy()\n",
    "result_class_c[result_class_c==0]=4\n",
    "result_class_c[result_class_c==1]=5\n",
    "result_class_c[result_class_c==2]=3\n",
    "\n",
    "cmap = mpl.cm.get_cmap(\"Dark2_r\",3)\n",
    "plt.figure()\n",
    "plt.imshow(np.reshape(result_class_c, [m, n]), cmap=cmap)\n",
    "plt.text(0,-50,\"Plastic (Pink), Compost (Green), Background (Grey)\")"
   ]
  }
 ],
 "metadata": {
  "kernelspec": {
   "display_name": "Python 3.10.4 ('.venv': pipenv)",
   "language": "python",
   "name": "python3"
  },
  "language_info": {
   "codemirror_mode": {
    "name": "ipython",
    "version": 3
   },
   "file_extension": ".py",
   "mimetype": "text/x-python",
   "name": "python",
   "nbconvert_exporter": "python",
   "pygments_lexer": "ipython3",
   "version": "3.10.4"
  },
  "orig_nbformat": 4,
  "vscode": {
   "interpreter": {
    "hash": "7ea3dadd995743c070a60538d12e65af98266bdc8fe22fa5ff7f84eb82e6fdd6"
   }
  }
 },
 "nbformat": 4,
 "nbformat_minor": 2
}
