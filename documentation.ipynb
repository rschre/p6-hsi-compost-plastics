{
 "cells": [
  {
   "cell_type": "code",
   "execution_count": 1,
   "metadata": {},
   "outputs": [],
   "source": [
    "import spectral\n",
    "spectral.settings.envi_support_nonlowercase_params=True\n",
    "\n",
    "%matplotlib qt5"
   ]
  },
  {
   "cell_type": "code",
   "execution_count": 2,
   "metadata": {},
   "outputs": [
    {
     "name": "stderr",
     "output_type": "stream",
     "text": [
      "INFO:data_handling:\tData Source:   'D:\\OneDriveFHNW\\FHNW\\EUT-P6bb-21HS-RS_M365 - General\\captures\\old\\qd_Referenzmaterialien_(oben_nach_unten)_PE_-_PET_-_PP_-_PS_2020-07-10_12-39-11\\capture\\REFLECTANCE_qd_Referenzmaterialien_(oben_nach_unten)_PE_-_PET_-_PP_-_PS_2020-07-10_12-39-11.dat'\n",
      "\t# Rows:            869\n",
      "\t# Samples:         640\n",
      "\t# Bands:           224\n",
      "\tInterleave:        BIL\n",
      "\tQuantization:  16 bits\n",
      "\tData format:    uint16\n"
     ]
    }
   ],
   "source": [
    "from data_handling import get_hsi_capture, load_hsi_data\n",
    "\n",
    "root = \"D:\\OneDriveFHNW\\FHNW\\EUT-P6bb-21HS-RS_M365 - General\\captures\\old\"\n",
    "capture_name = \"Referenzmaterialien_(oben_nach_unten)\"\n",
    "\n",
    "capture = get_hsi_capture(capture_name, root)\n",
    "data = load_hsi_data(capture)"
   ]
  },
  {
   "cell_type": "code",
   "execution_count": 10,
   "metadata": {},
   "outputs": [],
   "source": [
    "from data_handling import limit_reflection\n",
    "\n",
    "RGB_BANDS = (60, 80, 170)\n",
    "img = spectral.imshow(\n",
    "    limit_reflection(data), RGB_BANDS, title=\"Referenzkunststoffe False-RGB\"\n",
    ")"
   ]
  },
  {
   "cell_type": "code",
   "execution_count": null,
   "metadata": {},
   "outputs": [],
   "source": [
    "from data_handling import get_2d_roi, display_roi_rectangle\n",
    "\n"
   ]
  },
  {
   "cell_type": "markdown",
   "metadata": {},
   "source": [
    "#### This is Testing"
   ]
  },
  {
   "cell_type": "code",
   "execution_count": 4,
   "metadata": {},
   "outputs": [],
   "source": [
    "from data_handling import limit_reflection, snv_transform, get_2d_roi\n",
    "\n",
    "RGB_BANDS = (60,80,170)\n",
    "\n",
    "data2d=get_2d_roi(data, 0, 640, 0, 868)\n",
    "\n",
    "data2d_snv = snv_transform(data2d)"
   ]
  },
  {
   "cell_type": "code",
   "execution_count": 5,
   "metadata": {},
   "outputs": [
    {
     "data": {
      "text/plain": [
       "[<matplotlib.lines.Line2D at 0x22f468846a0>]"
      ]
     },
     "execution_count": 5,
     "metadata": {},
     "output_type": "execute_result"
    }
   ],
   "source": [
    "import matplotlib.pyplot as plt\n",
    "plt.figure()\n",
    "plt.plot(data[442,327])\n",
    "plt.plot(data[553,381])"
   ]
  },
  {
   "cell_type": "code",
   "execution_count": 6,
   "metadata": {},
   "outputs": [
    {
     "data": {
      "text/plain": [
       "1187.0"
      ]
     },
     "execution_count": 6,
     "metadata": {},
     "output_type": "execute_result"
    }
   ],
   "source": [
    "import numpy as np\n",
    "BANDS = np.round(np.linspace(900,1700,224),1);\n",
    "BANDS[80]"
   ]
  },
  {
   "cell_type": "code",
   "execution_count": 8,
   "metadata": {},
   "outputs": [
    {
     "data": {
      "text/plain": [
       "ImageView object:\n",
       "  Display bands       :  (60, 80, 170)\n",
       "  Interpolation       :  <default>\n",
       "  RGB data limits     :\n",
       "    R: [-3.6321232318878174, 2.4481616020202637]\n",
       "    G: [-2.4766783714294434, 2.8134145736694336]\n",
       "    B: [-2.242427110671997, 3.290544271469116]"
      ]
     },
     "execution_count": 8,
     "metadata": {},
     "output_type": "execute_result"
    }
   ],
   "source": [
    "data_v2 = np.reshape(data2d_snv,(868,640,202))\n",
    "spectral.imshow(data_v2,RGB_BANDS)"
   ]
  }
 ],
 "metadata": {
  "kernelspec": {
   "display_name": "Python 3.10.4 ('.venv': pipenv)",
   "language": "python",
   "name": "python3"
  },
  "language_info": {
   "codemirror_mode": {
    "name": "ipython",
    "version": 3
   },
   "file_extension": ".py",
   "mimetype": "text/x-python",
   "name": "python",
   "nbconvert_exporter": "python",
   "pygments_lexer": "ipython3",
   "version": "3.10.4"
  },
  "orig_nbformat": 4,
  "vscode": {
   "interpreter": {
    "hash": "7ea3dadd995743c070a60538d12e65af98266bdc8fe22fa5ff7f84eb82e6fdd6"
   }
  }
 },
 "nbformat": 4,
 "nbformat_minor": 2
}
