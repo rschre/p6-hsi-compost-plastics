{
  "cells": [
    {
      "cell_type": "markdown",
      "metadata": {},
      "source": [
        "### Init"
      ]
    },
    {
      "cell_type": "code",
      "execution_count": 2,
      "metadata": {},
      "outputs": [],
      "source": [
        "import pandas as pd\n",
        "import spectral\n",
        "import numpy as np\n",
        "from data_handling import (\n",
        "    get_hsi_capture,\n",
        "    limit_reflection,\n",
        "    display_roi_rectangle,\n",
        "    get_2d_roi,\n",
        "    get_mean_plot,\n",
        "    snv_transform,\n",
        "    smooth_and_transform,\n",
        "    load_hsi_data\n",
        ")\n",
        "import plotly.io as pio\n",
        "import plotly.express as px\n",
        "from sklearn import preprocessing\n",
        "\n",
        "pd.options.plotting.backend = \"plotly\"\n",
        "root = r\"D:\\OneDriveFHNW\\FHNW\\EUT-P6bb-21HS-RS_M365 - General\\captures\"\n",
        "RGB_BANDS = (60, 80, 170)\n",
        "BANDS = np.round(np.linspace(900,1700,224),1);\n",
        "BAND_LOW = 8\n",
        "BAND_HIGH = 210\n",
        "PLOT_LABELS = {\"index\": \"Wavelength [nm]\", \"value\": \"reflectance [1]\", \"variable\": \"pixel\"}\n",
        "COLUMN_NAMES = BANDS[BAND_LOW:BAND_HIGH]\n",
        "\n",
        "from warnings import simplefilter\n",
        "simplefilter(action=\"ignore\", category=pd.errors.PerformanceWarning)\n",
        "\n",
        "spectral.settings.envi_support_nonlowercase_params = True\n",
        "\n",
        "pio.renderers.default = \"browser\""
      ]
    },
    {
      "cell_type": "markdown",
      "metadata": {},
      "source": [
        "#### Read and Display Data"
      ]
    },
    {
      "cell_type": "code",
      "execution_count": 1,
      "metadata": {},
      "outputs": [],
      "source": [
        "import spectral\n",
        "spectral.settings.envi_support_nonlowercase_params=True\n",
        "\n",
        "%matplotlib qt5"
      ]
    },
    {
      "cell_type": "code",
      "execution_count": 2,
      "metadata": {},
      "outputs": [
        {
          "name": "stderr",
          "output_type": "stream",
          "text": [
            "INFO:data_handling:\tData Source:   'D:\\OneDriveFHNW\\FHNW\\EUT-P6bb-21HS-RS_M365 - General\\captures\\old\\qd_Referenzmaterialien_(oben_nach_unten)_PE_-_PET_-_PP_-_PS_2020-07-10_12-39-11\\capture\\REFLECTANCE_qd_Referenzmaterialien_(oben_nach_unten)_PE_-_PET_-_PP_-_PS_2020-07-10_12-39-11.dat'\n",
            "\t# Rows:            869\n",
            "\t# Samples:         640\n",
            "\t# Bands:           224\n",
            "\tInterleave:        BIL\n",
            "\tQuantization:  16 bits\n",
            "\tData format:    uint16\n"
          ]
        }
      ],
      "source": [
        "from data_handling import get_hsi_capture, load_hsi_data\n",
        "\n",
        "capture_name = \"Referenzmaterialien_(oben_nach_unten)\"\n",
        "\n",
        "capture = get_hsi_capture(capture_name, root+\"\\old\")\n",
        "data = load_hsi_data(capture)"
      ]
    },
    {
      "cell_type": "code",
      "execution_count": 10,
      "metadata": {},
      "outputs": [],
      "source": [
        "from data_handling import limit_reflection\n",
        "\n",
        "RGB_BANDS = (60, 80, 170)\n",
        "img = spectral.imshow(\n",
        "    limit_reflection(data), RGB_BANDS, title=\"Referenzkunststoffe False-RGB\"\n",
        ")"
      ]
    },
    {
      "cell_type": "code",
      "execution_count": null,
      "metadata": {},
      "outputs": [],
      "source": [
        "from data_handling import get_2d_roi, display_roi_rectangle\n",
        "\n"
      ]
    },
    {
      "cell_type": "markdown",
      "metadata": {},
      "source": [
        "#### Polyethylen-Typen"
      ]
    },
    {
      "cell_type": "code",
      "execution_count": 69,
      "metadata": {},
      "outputs": [
        {
          "name": "stderr",
          "output_type": "stream",
          "text": [
            "d:\\OneDriveFHNW\\FHNW\\EUT-P6bb-21HS-RS_M365 - General\\python_clean\\.venv\\lib\\site-packages\\spectral\\io\\envi.py:175: UserWarning:\n",
            "\n",
            "Parameters with non-lowercase names encountered and converted to lowercase. To retain source file parameter name capitalization, set spectral.settings.envi_support_nonlowercase_params to True.\n",
            "\n",
            "INFO:data_handling:\tData Source:   'D:\\OneDriveFHNW\\FHNW\\EUT-P6bb-21HS-RS_M365 - General\\captures\\PE\\p6bb-rs_HDPE_referenz_2021-11-16_14-41-25\\capture\\REFLECTANCE_p6bb-rs_HDPE_referenz_2021-11-16_14-41-25.dat'\n",
            "\t# Rows:            858\n",
            "\t# Samples:         640\n",
            "\t# Bands:           224\n",
            "\tInterleave:        BIL\n",
            "\tQuantization:  16 bits\n",
            "\tData format:    uint16\n",
            "INFO:data_handling:\tData Source:   'D:\\OneDriveFHNW\\FHNW\\EUT-P6bb-21HS-RS_M365 - General\\captures\\PE\\p6bb-rs_LDPE_referenz_2021-11-16_14-53-53\\capture\\REFLECTANCE_p6bb-rs_LDPE_referenz_2021-11-16_14-53-53.dat'\n",
            "\t# Rows:            858\n",
            "\t# Samples:         640\n",
            "\t# Bands:           224\n",
            "\tInterleave:        BIL\n",
            "\tQuantization:  16 bits\n",
            "\tData format:    uint16\n",
            "INFO:data_handling:\tData Source:   'D:\\OneDriveFHNW\\FHNW\\EUT-P6bb-21HS-RS_M365 - General\\captures\\PE\\p6bb-rs_LLDPE_referenz_2021-11-16_14-56-18\\capture\\REFLECTANCE_p6bb-rs_LLDPE_referenz_2021-11-16_14-56-18.dat'\n",
            "\t# Rows:            859\n",
            "\t# Samples:         640\n",
            "\t# Bands:           224\n",
            "\tInterleave:        BIL\n",
            "\tQuantization:  16 bits\n",
            "\tData format:    uint16\n"
          ]
        }
      ],
      "source": [
        "capture_hdpe = get_hsi_capture(\"HDPE\", root+\"\\PE\")\n",
        "capture_ldpe = get_hsi_capture(\"_LDPE\", root+\"\\PE\")\n",
        "capture_lldpe = get_hsi_capture(\"LLDPE\", root+\"\\PE\")\n"
      ]
    },
    {
      "cell_type": "code",
      "execution_count": 51,
      "metadata": {},
      "outputs": [],
      "source": [
        "data_hdpe = load_hsi_data(capture_hdpe)\n",
        "data_ldpe = load_hsi_data(capture_ldpe)\n",
        "data_lldpe = load_hsi_data(capture_lldpe)"
      ]
    },
    {
      "cell_type": "code",
      "execution_count": 52,
      "metadata": {},
      "outputs": [],
      "source": [
        "%matplotlib qt5\n",
        "im_hdpe = spectral.imshow(limit_reflection(data_hdpe), RGB_BANDS, title=\"HDPE\")\n",
        "im_ldpe = spectral.imshow(limit_reflection(data_ldpe), RGB_BANDS, title=\"LDPE\")\n",
        "im_lldpe = spectral.imshow(limit_reflection(data_lldpe), RGB_BANDS, title=\"LLDPE\")"
      ]
    },
    {
      "cell_type": "code",
      "execution_count": 53,
      "metadata": {},
      "outputs": [],
      "source": [
        "roi_hdpe = {\"y_low\": 350, \"y_high\": 500, \"x_low\": 250,  \"x_high\": 400}\n",
        "roi_ldpe = {\"y_low\": 250, \"y_high\": 400, \"x_low\": 250,  \"x_high\": 400}\n",
        "roi_lldpe = {\"y_low\": 350, \"y_high\": 500, \"x_low\": 250,  \"x_high\": 400}"
      ]
    },
    {
      "cell_type": "code",
      "execution_count": 77,
      "metadata": {},
      "outputs": [],
      "source": [
        "roi_data_hdpe = get_2d_roi(data_hdpe, **roi_ps,band_low=BAND_LOW, band_high=BAND_HIGH)\n",
        "roi_data_ldpe = get_2d_roi(data_ldpe, **roi_ldpe,band_low=BAND_LOW, band_high=BAND_HIGH)\n",
        "roi_data_lldpe = get_2d_roi(data_lldpe, **roi_lldpe,band_low=BAND_LOW, band_high=BAND_HIGH)"
      ]
    },
    {
      "cell_type": "code",
      "execution_count": 103,
      "metadata": {},
      "outputs": [],
      "source": [
        "# Display ROI on top of the image\n",
        "roi_img_hdpe = display_roi_rectangle(data_hdpe, **roi_ps, title=\"Selected ROI ps\", rgb_band_indexes=RGB_BANDS)\n",
        "roi_img_ldpe = display_roi_rectangle(data_ldpe, **roi_ldpe, title=\"Selected ROI LDPE\", rgb_band_indexes=RGB_BANDS)\n",
        "roi_img_lldpe = display_roi_rectangle(data_lldpe, **roi_lldpe, title=\"Selected ROI LLDPE\", rgb_band_indexes=RGB_BANDS)"
      ]
    },
    {
      "cell_type": "code",
      "execution_count": 78,
      "metadata": {},
      "outputs": [],
      "source": [
        "snv_data_dict = {}\n",
        "df = pd.DataFrame(roi_data_hdpe, columns = COLUMN_NAMES)\n",
        "np_snv = snv_transform(df)\n",
        "df_snv = pd.DataFrame(np_snv, columns=COLUMN_NAMES)\n",
        "snv_data_dict[\"HDPE\"] = df_snv\n",
        "\n",
        "df = pd.DataFrame(roi_data_ldpe, columns = COLUMN_NAMES)\n",
        "np_snv = snv_transform(df)\n",
        "df_snv = pd.DataFrame(np_snv, columns=COLUMN_NAMES)\n",
        "snv_data_dict[\"LDPE\"] = df_snv\n",
        "\n",
        "df = pd.DataFrame(roi_data_lldpe, columns = COLUMN_NAMES)\n",
        "np_snv = snv_transform(df)\n",
        "df_snv = pd.DataFrame(np_snv, columns=COLUMN_NAMES)\n",
        "snv_data_dict[\"LLDPE\"] = df_snv"
      ]
    },
    {
      "cell_type": "code",
      "execution_count": 79,
      "metadata": {},
      "outputs": [],
      "source": [
        "mean_data_dict = {}\n",
        "mean_data_dict[\"HDPE\"] = np.mean(snv_data_dict[\"HDPE\"], axis=0)\n",
        "mean_data_dict[\"LDPE\"] = np.mean(snv_data_dict[\"LDPE\"], axis=0)\n",
        "mean_data_dict[\"LLDPE\"] = np.mean(snv_data_dict[\"LLDPE\"], axis=0)"
      ]
    },
    {
      "cell_type": "code",
      "execution_count": 81,
      "metadata": {},
      "outputs": [
        {
          "data": {
            "text/html": [
              "<div>\n",
              "<style scoped>\n",
              "    .dataframe tbody tr th:only-of-type {\n",
              "        vertical-align: middle;\n",
              "    }\n",
              "\n",
              "    .dataframe tbody tr th {\n",
              "        vertical-align: top;\n",
              "    }\n",
              "\n",
              "    .dataframe thead th {\n",
              "        text-align: right;\n",
              "    }\n",
              "</style>\n",
              "<table border=\"1\" class=\"dataframe\">\n",
              "  <thead>\n",
              "    <tr style=\"text-align: right;\">\n",
              "      <th></th>\n",
              "      <th>928.7</th>\n",
              "      <th>932.3</th>\n",
              "      <th>935.9</th>\n",
              "      <th>939.5</th>\n",
              "      <th>943.0</th>\n",
              "      <th>946.6</th>\n",
              "      <th>950.2</th>\n",
              "      <th>953.8</th>\n",
              "      <th>957.4</th>\n",
              "      <th>961.0</th>\n",
              "      <th>...</th>\n",
              "      <th>1617.5</th>\n",
              "      <th>1621.1</th>\n",
              "      <th>1624.7</th>\n",
              "      <th>1628.3</th>\n",
              "      <th>1631.8</th>\n",
              "      <th>1635.4</th>\n",
              "      <th>1639.0</th>\n",
              "      <th>1642.6</th>\n",
              "      <th>1646.2</th>\n",
              "      <th>1649.8</th>\n",
              "    </tr>\n",
              "  </thead>\n",
              "  <tbody>\n",
              "    <tr>\n",
              "      <th>HDPE</th>\n",
              "      <td>1.468555</td>\n",
              "      <td>1.496719</td>\n",
              "      <td>1.518647</td>\n",
              "      <td>1.539847</td>\n",
              "      <td>1.557221</td>\n",
              "      <td>1.568505</td>\n",
              "      <td>1.572750</td>\n",
              "      <td>1.569956</td>\n",
              "      <td>1.558760</td>\n",
              "      <td>1.536356</td>\n",
              "      <td>...</td>\n",
              "      <td>-0.044579</td>\n",
              "      <td>-0.081518</td>\n",
              "      <td>-0.125289</td>\n",
              "      <td>-0.182970</td>\n",
              "      <td>-0.254440</td>\n",
              "      <td>-0.340532</td>\n",
              "      <td>-0.441273</td>\n",
              "      <td>-0.555574</td>\n",
              "      <td>-0.677788</td>\n",
              "      <td>-0.808995</td>\n",
              "    </tr>\n",
              "    <tr>\n",
              "      <th>LDPE</th>\n",
              "      <td>1.424654</td>\n",
              "      <td>1.448622</td>\n",
              "      <td>1.466756</td>\n",
              "      <td>1.483729</td>\n",
              "      <td>1.496414</td>\n",
              "      <td>1.503424</td>\n",
              "      <td>1.503667</td>\n",
              "      <td>1.497373</td>\n",
              "      <td>1.484885</td>\n",
              "      <td>1.463493</td>\n",
              "      <td>...</td>\n",
              "      <td>-0.046922</td>\n",
              "      <td>-0.091008</td>\n",
              "      <td>-0.138698</td>\n",
              "      <td>-0.195841</td>\n",
              "      <td>-0.264290</td>\n",
              "      <td>-0.344362</td>\n",
              "      <td>-0.437840</td>\n",
              "      <td>-0.544581</td>\n",
              "      <td>-0.658986</td>\n",
              "      <td>-0.785965</td>\n",
              "    </tr>\n",
              "    <tr>\n",
              "      <th>LLDPE</th>\n",
              "      <td>1.408355</td>\n",
              "      <td>1.434591</td>\n",
              "      <td>1.454410</td>\n",
              "      <td>1.472648</td>\n",
              "      <td>1.486923</td>\n",
              "      <td>1.495190</td>\n",
              "      <td>1.497288</td>\n",
              "      <td>1.493427</td>\n",
              "      <td>1.482275</td>\n",
              "      <td>1.461315</td>\n",
              "      <td>...</td>\n",
              "      <td>-0.183829</td>\n",
              "      <td>-0.202441</td>\n",
              "      <td>-0.231287</td>\n",
              "      <td>-0.279583</td>\n",
              "      <td>-0.343873</td>\n",
              "      <td>-0.420936</td>\n",
              "      <td>-0.511846</td>\n",
              "      <td>-0.616792</td>\n",
              "      <td>-0.729287</td>\n",
              "      <td>-0.854046</td>\n",
              "    </tr>\n",
              "  </tbody>\n",
              "</table>\n",
              "<p>3 rows × 202 columns</p>\n",
              "</div>"
            ],
            "text/plain": [
              "         928.7     932.3     935.9     939.5     943.0     946.6     950.2   \\\n",
              "HDPE   1.468555  1.496719  1.518647  1.539847  1.557221  1.568505  1.572750   \n",
              "LDPE   1.424654  1.448622  1.466756  1.483729  1.496414  1.503424  1.503667   \n",
              "LLDPE  1.408355  1.434591  1.454410  1.472648  1.486923  1.495190  1.497288   \n",
              "\n",
              "         953.8     957.4     961.0   ...    1617.5    1621.1    1624.7  \\\n",
              "HDPE   1.569956  1.558760  1.536356  ... -0.044579 -0.081518 -0.125289   \n",
              "LDPE   1.497373  1.484885  1.463493  ... -0.046922 -0.091008 -0.138698   \n",
              "LLDPE  1.493427  1.482275  1.461315  ... -0.183829 -0.202441 -0.231287   \n",
              "\n",
              "         1628.3    1631.8    1635.4    1639.0    1642.6    1646.2    1649.8  \n",
              "HDPE  -0.182970 -0.254440 -0.340532 -0.441273 -0.555574 -0.677788 -0.808995  \n",
              "LDPE  -0.195841 -0.264290 -0.344362 -0.437840 -0.544581 -0.658986 -0.785965  \n",
              "LLDPE -0.279583 -0.343873 -0.420936 -0.511846 -0.616792 -0.729287 -0.854046  \n",
              "\n",
              "[3 rows x 202 columns]"
            ]
          },
          "execution_count": 81,
          "metadata": {},
          "output_type": "execute_result"
        }
      ],
      "source": [
        "df_mean = pd.DataFrame.from_dict(mean_data_dict, orient=\"index\", columns=COLUMN_NAMES)\n",
        "df_mean.head()"
      ]
    },
    {
      "cell_type": "code",
      "execution_count": 104,
      "metadata": {},
      "outputs": [],
      "source": [
        "pio.renderers.default = \"browser\"\n",
        "long_df_mean = pd.melt(df_mean, var_name=\"wavelength [nm]\", ignore_index=False, value_name=\"reflectance [1]\")\n",
        "px.line(long_df_mean, x=\"wavelength [nm]\", y=\"reflectance [1]\", color=long_df_mean.index, title=\"Unterschiedliche PE-Typen\")"
      ]
    },
    {
      "cell_type": "code",
      "execution_count": 99,
      "metadata": {},
      "outputs": [],
      "source": [
        "# Würde alternativ die Spektren zwischen 0-1 skaliert darstellen\n",
        "# from sklearn import preprocessing\n",
        "# mean_scaled = preprocessing.minmax_scale(df_mean.T).T\n",
        "# df_mean_scaled = pd.DataFrame(mean_scaled, columns=COLUMN_NAMES)\n",
        "# df_mean_scaled.set_index(pd.Index([\"HDPE\",\"LDPE\",\"LLDPE\"]), inplace=True)\n",
        "# df_mean_scaled.head()\n",
        "# long_df_mean = pd.melt(df_mean_scaled, var_name=\"wavelength [nm]\", ignore_index=False, value_name=\"reflectance [1]\")\n",
        "# px.line(long_df_mean, x=\"wavelength [nm]\", y=\"reflectance [1]\", color=long_df_mean.index, title=\"Unterschiedliche PE-Typen\")"
      ]
    },
    {
      "cell_type": "markdown",
      "metadata": {},
      "source": [
        "#### Polycarbonat"
      ]
    },
    {
      "cell_type": "code",
      "execution_count": null,
      "metadata": {},
      "outputs": [
        {
          "name": "stderr",
          "output_type": "stream",
          "text": [
            "d:\\OneDriveFHNW\\FHNW\\EUT-P6bb-21HS-RS_M365 - General\\python_clean\\.venv\\lib\\site-packages\\spectral\\io\\envi.py:175: UserWarning:\n",
            "\n",
            "Parameters with non-lowercase names encountered and converted to lowercase. To retain source file parameter name capitalization, set spectral.settings.envi_support_nonlowercase_params to True.\n",
            "\n",
            "INFO:data_handling:\tData Source:   'D:\\OneDriveFHNW\\FHNW\\EUT-P6bb-21HS-RS_M365 - General\\captures\\references\\p6bb-rs_PC_referenz_2021-11-16_15-11-36\\capture\\REFLECTANCE_p6bb-rs_PC_referenz_2021-11-16_15-11-36.dat'\n",
            "\t# Rows:            858\n",
            "\t# Samples:         640\n",
            "\t# Bands:           224\n",
            "\tInterleave:        BIL\n",
            "\tQuantization:  16 bits\n",
            "\tData format:    uint16\n",
            "INFO:data_handling:\tData Source:   'D:\\OneDriveFHNW\\FHNW\\EUT-P6bb-21HS-RS_M365 - General\\captures\\references\\p6bb-rs_PS_referenz_2021-11-16_14-32-57\\capture\\REFLECTANCE_p6bb-rs_PS_referenz_2021-11-16_14-32-57.dat'\n",
            "\t# Rows:            858\n",
            "\t# Samples:         640\n",
            "\t# Bands:           224\n",
            "\tInterleave:        BIL\n",
            "\tQuantization:  16 bits\n",
            "\tData format:    uint16\n"
          ]
        }
      ],
      "source": [
        "%matplotlib qt5\n",
        "capture_pc = get_hsi_capture(\"PC\", root+\"\\references\")\n",
        "capture_ps = get_hsi_capture(\"PS\", root+\"\\references\")\n",
        "data_pc = load_hsi_data(capture_pc)\n",
        "data_ps = load_hsi_data(capture_ps)\n",
        "im_pc = spectral.imshow(limit_reflection(data_pc), RGB_BANDS, title=\"PC\")\n",
        "im_ps = spectral.imshow(limit_reflection(data_ps), RGB_BANDS, title=\"PS\")\n",
        "\n",
        "roi_pc = {\"y_low\": 380, \"y_high\": 480, \"x_low\": 300,  \"x_high\": 420}\n",
        "roi_ps = {\"y_low\": 380, \"y_high\": 480, \"x_low\": 300,  \"x_high\": 420}\n",
        "\n",
        "roi_data_pc = get_2d_roi(data_pc, **roi_pc,band_low=BAND_LOW, band_high=BAND_HIGH)\n",
        "roi_data_ps = get_2d_roi(data_ps, **roi_ps,band_low=BAND_LOW, band_high=BAND_HIGH)\n",
        "\n",
        "snv_data_dict = {}\n",
        "df = pd.DataFrame(roi_data_pc, columns = COLUMN_NAMES)\n",
        "np_snv = snv_transform(df)\n",
        "df_snv_pc = pd.DataFrame(np_snv, columns=COLUMN_NAMES)\n",
        "snv_data_dict[\"PC\"] = df_snv_pc\n",
        "\n",
        "df = pd.DataFrame(roi_data_ps, columns = COLUMN_NAMES)\n",
        "np_snv = snv_transform(df)\n",
        "df_snv_ps = pd.DataFrame(np_snv, columns=COLUMN_NAMES)\n",
        "snv_data_dict[\"PS\"] = df_snv_ps\n",
        "\n",
        "mean_data_dict = {}\n",
        "mean_data_dict[\"PC\"] = np.mean(snv_data_dict[\"PC\"], axis=0)\n",
        "mean_data_dict[\"PS\"] = np.mean(snv_data_dict[\"PS\"], axis=0)\n",
        "\n",
        "df_mean = pd.DataFrame.from_dict(mean_data_dict, orient=\"index\", columns=COLUMN_NAMES)\n",
        "df_mean.head()\n",
        "\n",
        "pio.renderers.default = \"browser\"\n",
        "long_df_mean = pd.melt(df_mean, var_name=\"wavelength [nm]\", ignore_index=False, value_name=\"reflectance [1]\")\n",
        "px.line(long_df_mean, x=\"wavelength [nm]\", y=\"reflectance [1]\", color=long_df_mean.index, title=\"Polycarbonat vs Polystyrol\")"
      ]
    },
    {
      "cell_type": "code",
      "execution_count": null,
      "metadata": {},
      "outputs": [
        {
          "name": "stderr",
          "output_type": "stream",
          "text": [
            "d:\\OneDriveFHNW\\FHNW\\EUT-P6bb-21HS-RS_M365 - General\\python_clean\\.venv\\lib\\site-packages\\plotly\\express\\_core.py:1222: PerformanceWarning:\n",
            "\n",
            "DataFrame is highly fragmented.  This is usually the result of calling `frame.insert` many times, which has poor performance.  Consider joining all columns at once using pd.concat(axis=1) instead. To get a de-fragmented frame, use `newframe = frame.copy()`\n",
            "\n"
          ]
        }
      ],
      "source": [
        "df = pd.DataFrame()\n",
        "df = pd.concat([df_snv_pc.sample(50), df_snv_ps.sample(50)], ignore_index=True)\n",
        "df.head()\n",
        "df.T.plot.line()\n",
        "# df_snv = pd.DataFrame.from_dict(snv_data_dict, orient=\"index\", columns=COLUMN_NAMES)\n",
        "\n",
        "# long_df_snv = pd.melt(df_snv.sample(100), var_name=\"wavelength [nm]\", ignore_index=False, value_name=\"reflectance [1]\")\n",
        "# px.line(long_df_snv, x=\"wavelength [nm]\", y=\"reflectance [1]\", color=long_df_snv.index, title=\"Polycarbonat vs Polystyrol\")\n"
      ]
    },
    {
      "cell_type": "markdown",
      "metadata": {},
      "source": [
        "#### PVC"
      ]
    },
    {
      "cell_type": "code",
      "execution_count": null,
      "metadata": {},
      "outputs": [
        {
          "name": "stderr",
          "output_type": "stream",
          "text": [
            "d:\\OneDriveFHNW\\FHNW\\EUT-P6bb-21HS-RS_M365 - General\\python_clean\\.venv\\lib\\site-packages\\spectral\\io\\envi.py:175: UserWarning:\n",
            "\n",
            "Parameters with non-lowercase names encountered and converted to lowercase. To retain source file parameter name capitalization, set spectral.settings.envi_support_nonlowercase_params to True.\n",
            "\n",
            "INFO:data_handling:\tData Source:   'D:\\OneDriveFHNW\\FHNW\\EUT-P6bb-21HS-RS_M365 - General\\captures\\references\\p6bb-rs_PVC_recycling_referenz_2021-11-16_14-37-27\\capture\\REFLECTANCE_p6bb-rs_PVC_recycling_referenz_2021-11-16_14-37-27.dat'\n",
            "\t# Rows:            859\n",
            "\t# Samples:         640\n",
            "\t# Bands:           224\n",
            "\tInterleave:        BIL\n",
            "\tQuantization:  16 bits\n",
            "\tData format:    uint16\n"
          ]
        }
      ],
      "source": [
        "%matplotlib qt5\n",
        "capture_pvc = get_hsi_capture(\"PVC\", root+\"\\references\")\n",
        "data_pvc = load_hsi_data(capture_pvc)\n",
        "im_pvc = spectral.imshow(limit_reflection(data_pvc), RGB_BANDS, title=\"PVC\")"
      ]
    },
    {
      "cell_type": "code",
      "execution_count": null,
      "metadata": {},
      "outputs": [],
      "source": [
        "roi_pvc = {\"y_low\": 220, \"y_high\": 280, \"x_low\": 270,  \"x_high\": 300}\n",
        "roi_data_pvc = get_2d_roi(data_pvc, **roi_pvc)\n",
        "roi_img_pvc = display_roi_rectangle(data_pvc, **roi_pvc, title=\"Selected ROI\", rgb_band_indexes=RGB_BANDS)"
      ]
    },
    {
      "cell_type": "code",
      "execution_count": null,
      "metadata": {},
      "outputs": [
        {
          "data": {
            "application/vnd.plotly.v1+json": {
              "config": {
                "plotlyServerURL": "https://plot.ly"
              },
              "data": [
                {
                  "hovertemplate": "variable=0<br>index=%{x}<br>value=%{y}<extra></extra>",
                  "legendgroup": "0",
                  "line": {
                    "color": "#636efa",
                    "dash": "solid"
                  },
                  "marker": {
                    "symbol": "circle"
                  },
                  "mode": "lines",
                  "name": "0",
                  "orientation": "v",
                  "showlegend": true,
                  "type": "scatter",
                  "x": [
                    0,
                    1,
                    2,
                    3,
                    4,
                    5,
                    6,
                    7,
                    8,
                    9,
                    10,
                    11,
                    12,
                    13,
                    14,
                    15,
                    16,
                    17,
                    18,
                    19,
                    20,
                    21,
                    22,
                    23,
                    24,
                    25,
                    26,
                    27,
                    28,
                    29,
                    30,
                    31,
                    32,
                    33,
                    34,
                    35,
                    36,
                    37,
                    38,
                    39,
                    40,
                    41,
                    42,
                    43,
                    44,
                    45,
                    46,
                    47,
                    48,
                    49,
                    50,
                    51,
                    52,
                    53,
                    54,
                    55,
                    56,
                    57,
                    58,
                    59,
                    60,
                    61,
                    62,
                    63,
                    64,
                    65,
                    66,
                    67,
                    68,
                    69,
                    70,
                    71,
                    72,
                    73,
                    74,
                    75,
                    76,
                    77,
                    78,
                    79,
                    80,
                    81,
                    82,
                    83,
                    84,
                    85,
                    86,
                    87,
                    88,
                    89,
                    90,
                    91,
                    92,
                    93,
                    94,
                    95,
                    96,
                    97,
                    98,
                    99,
                    100,
                    101,
                    102,
                    103,
                    104,
                    105,
                    106,
                    107,
                    108,
                    109,
                    110,
                    111,
                    112,
                    113,
                    114,
                    115,
                    116,
                    117,
                    118,
                    119,
                    120,
                    121,
                    122,
                    123,
                    124,
                    125,
                    126,
                    127,
                    128,
                    129,
                    130,
                    131,
                    132,
                    133,
                    134,
                    135,
                    136,
                    137,
                    138,
                    139,
                    140,
                    141,
                    142,
                    143,
                    144,
                    145,
                    146,
                    147,
                    148,
                    149,
                    150,
                    151,
                    152,
                    153,
                    154,
                    155,
                    156,
                    157,
                    158,
                    159,
                    160,
                    161,
                    162,
                    163,
                    164,
                    165,
                    166,
                    167,
                    168,
                    169,
                    170,
                    171,
                    172,
                    173,
                    174,
                    175,
                    176,
                    177,
                    178,
                    179,
                    180,
                    181,
                    182,
                    183,
                    184,
                    185,
                    186,
                    187,
                    188,
                    189,
                    190,
                    191,
                    192,
                    193,
                    194,
                    195,
                    196,
                    197,
                    198,
                    199,
                    200,
                    201
                  ],
                  "xaxis": "x",
                  "y": [
                    0.9999999403953552,
                    0.9898946285247803,
                    0.9743160605430603,
                    0.9643347263336182,
                    0.9585815668106079,
                    0.9469249844551086,
                    0.9375500082969666,
                    0.9292951822280884,
                    0.9215143322944641,
                    0.9133061170578003,
                    0.9051125645637512,
                    0.8962963223457336,
                    0.8911354541778564,
                    0.884962797164917,
                    0.8693413138389587,
                    0.8621187210083008,
                    0.862907886505127,
                    0.856399655342102,
                    0.8509373664855957,
                    0.8423211574554443,
                    0.839746356010437,
                    0.8215817213058472,
                    0.8231927156448364,
                    0.8152551651000977,
                    0.807052493095398,
                    0.7927758097648621,
                    0.7874288558959961,
                    0.7802466154098511,
                    0.781958281993866,
                    0.7675923705101013,
                    0.7648042440414429,
                    0.7555414438247681,
                    0.7493319511413574,
                    0.7455717325210571,
                    0.737910807132721,
                    0.7273566126823425,
                    0.7223830819129944,
                    0.7149556875228882,
                    0.7074927687644958,
                    0.7031447887420654,
                    0.6995351910591125,
                    0.6942603588104248,
                    0.6855427026748657,
                    0.6865822076797485,
                    0.6661005020141602,
                    0.6621297597885132,
                    0.6375458240509033,
                    0.637998104095459,
                    0.636745274066925,
                    0.6261458396911621,
                    0.624176025390625,
                    0.6186728477478027,
                    0.6109127402305603,
                    0.6008129119873047,
                    0.5863455533981323,
                    0.5740659236907959,
                    0.5680845379829407,
                    0.5568583607673645,
                    0.5415520668029785,
                    0.5307513475418091,
                    0.5251940488815308,
                    0.5205142498016357,
                    0.5120456218719482,
                    0.49937865138053894,
                    0.4872664511203766,
                    0.4793993830680847,
                    0.4698330760002136,
                    0.45788002014160156,
                    0.4552360475063324,
                    0.4602223038673401,
                    0.4559820592403412,
                    0.4526262879371643,
                    0.4499395787715912,
                    0.4442863166332245,
                    0.43161284923553467,
                    0.43291813135147095,
                    0.43249136209487915,
                    0.43805068731307983,
                    0.43141767382621765,
                    0.4241692125797272,
                    0.42878592014312744,
                    0.42701220512390137,
                    0.4255489110946655,
                    0.4185248613357544,
                    0.4078800082206726,
                    0.39719825983047485,
                    0.3967684209346771,
                    0.3988337516784668,
                    0.3886399269104004,
                    0.38395440578460693,
                    0.3804754614830017,
                    0.37877464294433594,
                    0.37965020537376404,
                    0.3758141100406647,
                    0.3653400242328644,
                    0.35595613718032837,
                    0.3539873957633972,
                    0.3536643087863922,
                    0.34654128551483154,
                    0.34584152698516846,
                    0.34150946140289307,
                    0.33452290296554565,
                    0.33238714933395386,
                    0.3300502896308899,
                    0.3227560818195343,
                    0.320786714553833,
                    0.31978175044059753,
                    0.3149407207965851,
                    0.30705949664115906,
                    0.29713016748428345,
                    0.2947353720664978,
                    0.2856159508228302,
                    0.27794742584228516,
                    0.2733110189437866,
                    0.26287972927093506,
                    0.2631418704986572,
                    0.2585670053958893,
                    0.2491346299648285,
                    0.24349403381347656,
                    0.23304568231105804,
                    0.22247499227523804,
                    0.21615920960903168,
                    0.20717130601406097,
                    0.19916434586048126,
                    0.1863308995962143,
                    0.1701565384864807,
                    0.16931244730949402,
                    0.16125521063804626,
                    0.14014185965061188,
                    0.1169699877500534,
                    0.09837281703948975,
                    0.08691060543060303,
                    0.06976914405822754,
                    0.04736042022705078,
                    0.035644978284835815,
                    0.031179487705230713,
                    0.0278816819190979,
                    0.01802915334701538,
                    0.015039712190628052,
                    0.018018603324890137,
                    0.015282601118087769,
                    0.012805968523025513,
                    0.011187732219696045,
                    0.008119940757751465,
                    0.008686333894729614,
                    0.007756054401397705,
                    0.00279274582862854,
                    0,
                    0.00003692507743835449,
                    0.005979716777801514,
                    0.011444032192230225,
                    0.01878383755683899,
                    0.019027382135391235,
                    0.014788240194320679,
                    0.016791820526123047,
                    0.021313399076461792,
                    0.027432769536972046,
                    0.027921676635742188,
                    0.0336306095123291,
                    0.03700321912765503,
                    0.0339888334274292,
                    0.03498449921607971,
                    0.04244986176490784,
                    0.04021337628364563,
                    0.035562336444854736,
                    0.03420841693878174,
                    0.03853011131286621,
                    0.04181423783302307,
                    0.038193345069885254,
                    0.03805789351463318,
                    0.04088053107261658,
                    0.03746500611305237,
                    0.029264509677886963,
                    0.035704970359802246,
                    0.03968021273612976,
                    0.04008966684341431,
                    0.04373466968536377,
                    0.04447564482688904,
                    0.04751059412956238,
                    0.05216202139854431,
                    0.052552729845047,
                    0.04982373118400574,
                    0.056265801191329956,
                    0.06810742616653442,
                    0.06843957304954529,
                    0.06658622622489929,
                    0.07223778963088989,
                    0.07427304983139038,
                    0.07363826036453247,
                    0.07888481020927429,
                    0.07725593447685242,
                    0.08030161261558533,
                    0.08125239610671997,
                    0.07658091187477112,
                    0.07947829365730286,
                    0.07764187455177307,
                    0.08217042684555054,
                    0.08130484819412231,
                    0.07596275210380554,
                    0.06523394584655762,
                    0.05561336874961853,
                    0.038585662841796875
                  ],
                  "yaxis": "y"
                }
              ],
              "layout": {
                "legend": {
                  "title": {
                    "text": "variable"
                  },
                  "tracegroupgap": 0
                },
                "margin": {
                  "t": 60
                },
                "template": {
                  "data": {
                    "bar": [
                      {
                        "error_x": {
                          "color": "#2a3f5f"
                        },
                        "error_y": {
                          "color": "#2a3f5f"
                        },
                        "marker": {
                          "line": {
                            "color": "#E5ECF6",
                            "width": 0.5
                          },
                          "pattern": {
                            "fillmode": "overlay",
                            "size": 10,
                            "solidity": 0.2
                          }
                        },
                        "type": "bar"
                      }
                    ],
                    "barpolar": [
                      {
                        "marker": {
                          "line": {
                            "color": "#E5ECF6",
                            "width": 0.5
                          },
                          "pattern": {
                            "fillmode": "overlay",
                            "size": 10,
                            "solidity": 0.2
                          }
                        },
                        "type": "barpolar"
                      }
                    ],
                    "carpet": [
                      {
                        "aaxis": {
                          "endlinecolor": "#2a3f5f",
                          "gridcolor": "white",
                          "linecolor": "white",
                          "minorgridcolor": "white",
                          "startlinecolor": "#2a3f5f"
                        },
                        "baxis": {
                          "endlinecolor": "#2a3f5f",
                          "gridcolor": "white",
                          "linecolor": "white",
                          "minorgridcolor": "white",
                          "startlinecolor": "#2a3f5f"
                        },
                        "type": "carpet"
                      }
                    ],
                    "choropleth": [
                      {
                        "colorbar": {
                          "outlinewidth": 0,
                          "ticks": ""
                        },
                        "type": "choropleth"
                      }
                    ],
                    "contour": [
                      {
                        "colorbar": {
                          "outlinewidth": 0,
                          "ticks": ""
                        },
                        "colorscale": [
                          [
                            0,
                            "#0d0887"
                          ],
                          [
                            0.1111111111111111,
                            "#46039f"
                          ],
                          [
                            0.2222222222222222,
                            "#7201a8"
                          ],
                          [
                            0.3333333333333333,
                            "#9c179e"
                          ],
                          [
                            0.4444444444444444,
                            "#bd3786"
                          ],
                          [
                            0.5555555555555556,
                            "#d8576b"
                          ],
                          [
                            0.6666666666666666,
                            "#ed7953"
                          ],
                          [
                            0.7777777777777778,
                            "#fb9f3a"
                          ],
                          [
                            0.8888888888888888,
                            "#fdca26"
                          ],
                          [
                            1,
                            "#f0f921"
                          ]
                        ],
                        "type": "contour"
                      }
                    ],
                    "contourcarpet": [
                      {
                        "colorbar": {
                          "outlinewidth": 0,
                          "ticks": ""
                        },
                        "type": "contourcarpet"
                      }
                    ],
                    "heatmap": [
                      {
                        "colorbar": {
                          "outlinewidth": 0,
                          "ticks": ""
                        },
                        "colorscale": [
                          [
                            0,
                            "#0d0887"
                          ],
                          [
                            0.1111111111111111,
                            "#46039f"
                          ],
                          [
                            0.2222222222222222,
                            "#7201a8"
                          ],
                          [
                            0.3333333333333333,
                            "#9c179e"
                          ],
                          [
                            0.4444444444444444,
                            "#bd3786"
                          ],
                          [
                            0.5555555555555556,
                            "#d8576b"
                          ],
                          [
                            0.6666666666666666,
                            "#ed7953"
                          ],
                          [
                            0.7777777777777778,
                            "#fb9f3a"
                          ],
                          [
                            0.8888888888888888,
                            "#fdca26"
                          ],
                          [
                            1,
                            "#f0f921"
                          ]
                        ],
                        "type": "heatmap"
                      }
                    ],
                    "heatmapgl": [
                      {
                        "colorbar": {
                          "outlinewidth": 0,
                          "ticks": ""
                        },
                        "colorscale": [
                          [
                            0,
                            "#0d0887"
                          ],
                          [
                            0.1111111111111111,
                            "#46039f"
                          ],
                          [
                            0.2222222222222222,
                            "#7201a8"
                          ],
                          [
                            0.3333333333333333,
                            "#9c179e"
                          ],
                          [
                            0.4444444444444444,
                            "#bd3786"
                          ],
                          [
                            0.5555555555555556,
                            "#d8576b"
                          ],
                          [
                            0.6666666666666666,
                            "#ed7953"
                          ],
                          [
                            0.7777777777777778,
                            "#fb9f3a"
                          ],
                          [
                            0.8888888888888888,
                            "#fdca26"
                          ],
                          [
                            1,
                            "#f0f921"
                          ]
                        ],
                        "type": "heatmapgl"
                      }
                    ],
                    "histogram": [
                      {
                        "marker": {
                          "pattern": {
                            "fillmode": "overlay",
                            "size": 10,
                            "solidity": 0.2
                          }
                        },
                        "type": "histogram"
                      }
                    ],
                    "histogram2d": [
                      {
                        "colorbar": {
                          "outlinewidth": 0,
                          "ticks": ""
                        },
                        "colorscale": [
                          [
                            0,
                            "#0d0887"
                          ],
                          [
                            0.1111111111111111,
                            "#46039f"
                          ],
                          [
                            0.2222222222222222,
                            "#7201a8"
                          ],
                          [
                            0.3333333333333333,
                            "#9c179e"
                          ],
                          [
                            0.4444444444444444,
                            "#bd3786"
                          ],
                          [
                            0.5555555555555556,
                            "#d8576b"
                          ],
                          [
                            0.6666666666666666,
                            "#ed7953"
                          ],
                          [
                            0.7777777777777778,
                            "#fb9f3a"
                          ],
                          [
                            0.8888888888888888,
                            "#fdca26"
                          ],
                          [
                            1,
                            "#f0f921"
                          ]
                        ],
                        "type": "histogram2d"
                      }
                    ],
                    "histogram2dcontour": [
                      {
                        "colorbar": {
                          "outlinewidth": 0,
                          "ticks": ""
                        },
                        "colorscale": [
                          [
                            0,
                            "#0d0887"
                          ],
                          [
                            0.1111111111111111,
                            "#46039f"
                          ],
                          [
                            0.2222222222222222,
                            "#7201a8"
                          ],
                          [
                            0.3333333333333333,
                            "#9c179e"
                          ],
                          [
                            0.4444444444444444,
                            "#bd3786"
                          ],
                          [
                            0.5555555555555556,
                            "#d8576b"
                          ],
                          [
                            0.6666666666666666,
                            "#ed7953"
                          ],
                          [
                            0.7777777777777778,
                            "#fb9f3a"
                          ],
                          [
                            0.8888888888888888,
                            "#fdca26"
                          ],
                          [
                            1,
                            "#f0f921"
                          ]
                        ],
                        "type": "histogram2dcontour"
                      }
                    ],
                    "mesh3d": [
                      {
                        "colorbar": {
                          "outlinewidth": 0,
                          "ticks": ""
                        },
                        "type": "mesh3d"
                      }
                    ],
                    "parcoords": [
                      {
                        "line": {
                          "colorbar": {
                            "outlinewidth": 0,
                            "ticks": ""
                          }
                        },
                        "type": "parcoords"
                      }
                    ],
                    "pie": [
                      {
                        "automargin": true,
                        "type": "pie"
                      }
                    ],
                    "scatter": [
                      {
                        "fillpattern": {
                          "fillmode": "overlay",
                          "size": 10,
                          "solidity": 0.2
                        },
                        "type": "scatter"
                      }
                    ],
                    "scatter3d": [
                      {
                        "line": {
                          "colorbar": {
                            "outlinewidth": 0,
                            "ticks": ""
                          }
                        },
                        "marker": {
                          "colorbar": {
                            "outlinewidth": 0,
                            "ticks": ""
                          }
                        },
                        "type": "scatter3d"
                      }
                    ],
                    "scattercarpet": [
                      {
                        "marker": {
                          "colorbar": {
                            "outlinewidth": 0,
                            "ticks": ""
                          }
                        },
                        "type": "scattercarpet"
                      }
                    ],
                    "scattergeo": [
                      {
                        "marker": {
                          "colorbar": {
                            "outlinewidth": 0,
                            "ticks": ""
                          }
                        },
                        "type": "scattergeo"
                      }
                    ],
                    "scattergl": [
                      {
                        "marker": {
                          "colorbar": {
                            "outlinewidth": 0,
                            "ticks": ""
                          }
                        },
                        "type": "scattergl"
                      }
                    ],
                    "scattermapbox": [
                      {
                        "marker": {
                          "colorbar": {
                            "outlinewidth": 0,
                            "ticks": ""
                          }
                        },
                        "type": "scattermapbox"
                      }
                    ],
                    "scatterpolar": [
                      {
                        "marker": {
                          "colorbar": {
                            "outlinewidth": 0,
                            "ticks": ""
                          }
                        },
                        "type": "scatterpolar"
                      }
                    ],
                    "scatterpolargl": [
                      {
                        "marker": {
                          "colorbar": {
                            "outlinewidth": 0,
                            "ticks": ""
                          }
                        },
                        "type": "scatterpolargl"
                      }
                    ],
                    "scatterternary": [
                      {
                        "marker": {
                          "colorbar": {
                            "outlinewidth": 0,
                            "ticks": ""
                          }
                        },
                        "type": "scatterternary"
                      }
                    ],
                    "surface": [
                      {
                        "colorbar": {
                          "outlinewidth": 0,
                          "ticks": ""
                        },
                        "colorscale": [
                          [
                            0,
                            "#0d0887"
                          ],
                          [
                            0.1111111111111111,
                            "#46039f"
                          ],
                          [
                            0.2222222222222222,
                            "#7201a8"
                          ],
                          [
                            0.3333333333333333,
                            "#9c179e"
                          ],
                          [
                            0.4444444444444444,
                            "#bd3786"
                          ],
                          [
                            0.5555555555555556,
                            "#d8576b"
                          ],
                          [
                            0.6666666666666666,
                            "#ed7953"
                          ],
                          [
                            0.7777777777777778,
                            "#fb9f3a"
                          ],
                          [
                            0.8888888888888888,
                            "#fdca26"
                          ],
                          [
                            1,
                            "#f0f921"
                          ]
                        ],
                        "type": "surface"
                      }
                    ],
                    "table": [
                      {
                        "cells": {
                          "fill": {
                            "color": "#EBF0F8"
                          },
                          "line": {
                            "color": "white"
                          }
                        },
                        "header": {
                          "fill": {
                            "color": "#C8D4E3"
                          },
                          "line": {
                            "color": "white"
                          }
                        },
                        "type": "table"
                      }
                    ]
                  },
                  "layout": {
                    "annotationdefaults": {
                      "arrowcolor": "#2a3f5f",
                      "arrowhead": 0,
                      "arrowwidth": 1
                    },
                    "autotypenumbers": "strict",
                    "coloraxis": {
                      "colorbar": {
                        "outlinewidth": 0,
                        "ticks": ""
                      }
                    },
                    "colorscale": {
                      "diverging": [
                        [
                          0,
                          "#8e0152"
                        ],
                        [
                          0.1,
                          "#c51b7d"
                        ],
                        [
                          0.2,
                          "#de77ae"
                        ],
                        [
                          0.3,
                          "#f1b6da"
                        ],
                        [
                          0.4,
                          "#fde0ef"
                        ],
                        [
                          0.5,
                          "#f7f7f7"
                        ],
                        [
                          0.6,
                          "#e6f5d0"
                        ],
                        [
                          0.7,
                          "#b8e186"
                        ],
                        [
                          0.8,
                          "#7fbc41"
                        ],
                        [
                          0.9,
                          "#4d9221"
                        ],
                        [
                          1,
                          "#276419"
                        ]
                      ],
                      "sequential": [
                        [
                          0,
                          "#0d0887"
                        ],
                        [
                          0.1111111111111111,
                          "#46039f"
                        ],
                        [
                          0.2222222222222222,
                          "#7201a8"
                        ],
                        [
                          0.3333333333333333,
                          "#9c179e"
                        ],
                        [
                          0.4444444444444444,
                          "#bd3786"
                        ],
                        [
                          0.5555555555555556,
                          "#d8576b"
                        ],
                        [
                          0.6666666666666666,
                          "#ed7953"
                        ],
                        [
                          0.7777777777777778,
                          "#fb9f3a"
                        ],
                        [
                          0.8888888888888888,
                          "#fdca26"
                        ],
                        [
                          1,
                          "#f0f921"
                        ]
                      ],
                      "sequentialminus": [
                        [
                          0,
                          "#0d0887"
                        ],
                        [
                          0.1111111111111111,
                          "#46039f"
                        ],
                        [
                          0.2222222222222222,
                          "#7201a8"
                        ],
                        [
                          0.3333333333333333,
                          "#9c179e"
                        ],
                        [
                          0.4444444444444444,
                          "#bd3786"
                        ],
                        [
                          0.5555555555555556,
                          "#d8576b"
                        ],
                        [
                          0.6666666666666666,
                          "#ed7953"
                        ],
                        [
                          0.7777777777777778,
                          "#fb9f3a"
                        ],
                        [
                          0.8888888888888888,
                          "#fdca26"
                        ],
                        [
                          1,
                          "#f0f921"
                        ]
                      ]
                    },
                    "colorway": [
                      "#636efa",
                      "#EF553B",
                      "#00cc96",
                      "#ab63fa",
                      "#FFA15A",
                      "#19d3f3",
                      "#FF6692",
                      "#B6E880",
                      "#FF97FF",
                      "#FECB52"
                    ],
                    "font": {
                      "color": "#2a3f5f"
                    },
                    "geo": {
                      "bgcolor": "white",
                      "lakecolor": "white",
                      "landcolor": "#E5ECF6",
                      "showlakes": true,
                      "showland": true,
                      "subunitcolor": "white"
                    },
                    "hoverlabel": {
                      "align": "left"
                    },
                    "hovermode": "closest",
                    "mapbox": {
                      "style": "light"
                    },
                    "paper_bgcolor": "white",
                    "plot_bgcolor": "#E5ECF6",
                    "polar": {
                      "angularaxis": {
                        "gridcolor": "white",
                        "linecolor": "white",
                        "ticks": ""
                      },
                      "bgcolor": "#E5ECF6",
                      "radialaxis": {
                        "gridcolor": "white",
                        "linecolor": "white",
                        "ticks": ""
                      }
                    },
                    "scene": {
                      "xaxis": {
                        "backgroundcolor": "#E5ECF6",
                        "gridcolor": "white",
                        "gridwidth": 2,
                        "linecolor": "white",
                        "showbackground": true,
                        "ticks": "",
                        "zerolinecolor": "white"
                      },
                      "yaxis": {
                        "backgroundcolor": "#E5ECF6",
                        "gridcolor": "white",
                        "gridwidth": 2,
                        "linecolor": "white",
                        "showbackground": true,
                        "ticks": "",
                        "zerolinecolor": "white"
                      },
                      "zaxis": {
                        "backgroundcolor": "#E5ECF6",
                        "gridcolor": "white",
                        "gridwidth": 2,
                        "linecolor": "white",
                        "showbackground": true,
                        "ticks": "",
                        "zerolinecolor": "white"
                      }
                    },
                    "shapedefaults": {
                      "line": {
                        "color": "#2a3f5f"
                      }
                    },
                    "ternary": {
                      "aaxis": {
                        "gridcolor": "white",
                        "linecolor": "white",
                        "ticks": ""
                      },
                      "baxis": {
                        "gridcolor": "white",
                        "linecolor": "white",
                        "ticks": ""
                      },
                      "bgcolor": "#E5ECF6",
                      "caxis": {
                        "gridcolor": "white",
                        "linecolor": "white",
                        "ticks": ""
                      }
                    },
                    "title": {
                      "x": 0.05
                    },
                    "xaxis": {
                      "automargin": true,
                      "gridcolor": "white",
                      "linecolor": "white",
                      "ticks": "",
                      "title": {
                        "standoff": 15
                      },
                      "zerolinecolor": "white",
                      "zerolinewidth": 2
                    },
                    "yaxis": {
                      "automargin": true,
                      "gridcolor": "white",
                      "linecolor": "white",
                      "ticks": "",
                      "title": {
                        "standoff": 15
                      },
                      "zerolinecolor": "white",
                      "zerolinewidth": 2
                    }
                  }
                },
                "xaxis": {
                  "anchor": "y",
                  "domain": [
                    0,
                    1
                  ],
                  "title": {
                    "text": "index"
                  }
                },
                "yaxis": {
                  "anchor": "x",
                  "domain": [
                    0,
                    1
                  ],
                  "title": {
                    "text": "value"
                  }
                }
              }
            }
          },
          "metadata": {},
          "output_type": "display_data"
        }
      ],
      "source": [
        "scaler = preprocessing.MinMaxScaler()\n",
        "\n",
        "df = pd.DataFrame(roi_data_pvc, columns = COLUMN_NAMES)\n",
        "np_snv = snv_transform(df)\n",
        "np_mean = np.array(np_snv.mean(axis=0))\n",
        "pd.DataFrame(np_mean).plot()\n",
        "scaled = scaler.fit_transform(np_mean.reshape(-1,1))\n",
        "pd.DataFrame(scaled).plot()\n",
        "# df_scaled.T.plot.line(title=\"PVC Mean Reflectance\", labels=PLOT_LABELS)"
      ]
    },
    {
      "cell_type": "markdown",
      "metadata": {},
      "source": [
        "#### PLA"
      ]
    },
    {
      "cell_type": "code",
      "execution_count": 3,
      "metadata": {},
      "outputs": [
        {
          "name": "stderr",
          "output_type": "stream",
          "text": [
            "d:\\OneDriveFHNW\\FHNW\\EUT-P6bb-21HS-RS_M365 - General\\python_clean\\.venv\\lib\\site-packages\\spectral\\io\\envi.py:175: UserWarning: Parameters with non-lowercase names encountered and converted to lowercase. To retain source file parameter name capitalization, set spectral.settings.envi_support_nonlowercase_params to True.\n",
            "  warnings.warn(msg)\n",
            "INFO:data_handling:\tData Source:   'D:\\OneDriveFHNW\\FHNW\\EUT-P6bb-21HS-RS_M365 - General\\captures\\references\\p6bb-rs_PLA_referenz_axpo_2021-11-16_15-08-41\\capture\\REFLECTANCE_p6bb-rs_PLA_referenz_axpo_2021-11-16_15-08-41.dat'\n",
            "\t# Rows:            859\n",
            "\t# Samples:         640\n",
            "\t# Bands:           224\n",
            "\tInterleave:        BIL\n",
            "\tQuantization:  16 bits\n",
            "\tData format:    uint16\n"
          ]
        }
      ],
      "source": [
        "%matplotlib qt5\n",
        "capture_pla = get_hsi_capture(\"PLA\", root+\"\\references\")\n",
        "data_pla = load_hsi_data(capture_pla)\n",
        "im_pla = spectral.imshow(limit_reflection(data_pla), RGB_BANDS, title=\"PLA\")"
      ]
    },
    {
      "cell_type": "code",
      "execution_count": 4,
      "metadata": {},
      "outputs": [],
      "source": [
        "roi_pla = {\"y_low\": 380, \"y_high\": 520, \"x_low\": 260,  \"x_high\": 400}\n",
        "roi_data_pla = get_2d_roi(data_pla, **roi_pla)\n",
        "roi_img_pla = display_roi_rectangle(data_pla, **roi_pla, title=\"Selected ROI of PLA\", rgb_band_indexes=RGB_BANDS)"
      ]
    },
    {
      "cell_type": "code",
      "execution_count": 11,
      "metadata": {},
      "outputs": [],
      "source": [
        "pio.renderers.default = \"browser\"\n",
        "df = pd.DataFrame(roi_data_pla, columns = COLUMN_NAMES)\n",
        "np_snv = snv_transform(roi_data_pla)\n",
        "df_snv = pd.DataFrame(np_snv, columns = COLUMN_NAMES)\n",
        "df_snv.mean(axis=0).plot.line(title=\"PLA Mean Reflectance\", labels=PLOT_LABELS)"
      ]
    },
    {
      "cell_type": "markdown",
      "metadata": {},
      "source": [
        "#### Fremdstoffe aus Kompostanlage"
      ]
    },
    {
      "cell_type": "code",
      "execution_count": 2,
      "metadata": {},
      "outputs": [],
      "source": [
        "%matplotlib qt5"
      ]
    },
    {
      "cell_type": "markdown",
      "metadata": {},
      "source": [
        "##### Maske (wahrscheinlich PP)"
      ]
    },
    {
      "cell_type": "code",
      "execution_count": 3,
      "metadata": {},
      "outputs": [
        {
          "name": "stderr",
          "output_type": "stream",
          "text": [
            "INFO:data_handling:\tData Source:   'D:\\OneDriveFHNW\\FHNW\\EUT-P6bb-21HS-RS_M365 - General\\captures\\p6bb-rs_mundnasenschutz_2022-03-09_07-39-37\\capture\\REFLECTANCE_p6bb-rs_mundnasenschutz_2022-03-09_07-39-37.dat'\n",
            "\t# Rows:            858\n",
            "\t# Samples:         640\n",
            "\t# Bands:           224\n",
            "\tInterleave:        BIL\n",
            "\tQuantization:  16 bits\n",
            "\tData format:    uint16\n"
          ]
        }
      ],
      "source": [
        "capture_name = \"MundNasenSchutz\"\n",
        "capture = get_hsi_capture(capture_name, root)\n",
        "data = load_hsi_data(capture)"
      ]
    },
    {
      "cell_type": "code",
      "execution_count": 18,
      "metadata": {},
      "outputs": [],
      "source": [
        "roi = {\"y_low\": 150, \"y_high\": 300, \"x_low\": 250,  \"x_high\": 400}\n",
        "roi_data = get_2d_roi(data, **roi)\n",
        "display_roi_rectangle(data, **roi, title=f\"ROI of {capture_name}\")\n",
        "df = pd.DataFrame(roi_data, columns=COLUMN_NAMES)\n",
        "df.sample(500).T.plot.line(labels=PLOT_LABELS, title=f\"{capture_name} - 500 sample pixels\")"
      ]
    },
    {
      "cell_type": "code",
      "execution_count": 9,
      "metadata": {},
      "outputs": [],
      "source": [
        "roi_schmutzig = {\"y_low\": 500, \"y_high\": 650, \"x_low\": 350,  \"x_high\": 500}\n",
        "roi_data_schmutzig = get_2d_roi(data, **roi_schmutzig)\n",
        "display_roi_rectangle(data, **roi_schmutzig, title=f\"ROI of {capture_name}\")\n",
        "df_schmutzig = pd.DataFrame(roi_data_schmutzig, columns=COLUMN_NAMES)\n",
        "df_schmutzig.sample(500).T.plot.line(labels=PLOT_LABELS, title=f\"{capture_name} - schmutzig - 500 sample pixels\")"
      ]
    },
    {
      "cell_type": "code",
      "execution_count": 30,
      "metadata": {},
      "outputs": [],
      "source": [
        "mean_df = pd.concat(\n",
        "    [df.mean(axis=0), df_schmutzig.mean(axis=0)], ignore_index=True, axis=1\n",
        ")\n",
        "mean_df = mean_df.T.set_index(pd.Index([\"MNS\", \"MNS - schmutzig\"]))\n",
        "mean_df.T.plot.line(\n",
        "    labels={\n",
        "        \"index\": \"Wavelength [nm]\",\n",
        "        \"value\": \"reflectance [1]\",\n",
        "        \"variable\": \"Material\",\n",
        "    },\n",
        "    title=\"Durchschnitts-Spektrum ROI 1 und ROI 2 von MNS\",\n",
        ")"
      ]
    },
    {
      "cell_type": "markdown",
      "metadata": {},
      "source": [
        "##### Blumentöpfe"
      ]
    },
    {
      "cell_type": "code",
      "execution_count": 5,
      "metadata": {},
      "outputs": [
        {
          "name": "stderr",
          "output_type": "stream",
          "text": [
            "INFO:data_handling:\tData Source:   'D:\\OneDriveFHNW\\FHNW\\EUT-P6bb-21HS-RS_M365 - General\\captures\\p6bb-rs_blumentoepfe_2022-03-09_07-55-05\\capture\\REFLECTANCE_p6bb-rs_blumentoepfe_2022-03-09_07-55-05.dat'\n",
            "\t# Rows:            859\n",
            "\t# Samples:         640\n",
            "\t# Bands:           224\n",
            "\tInterleave:        BIL\n",
            "\tQuantization:  16 bits\n",
            "\tData format:    uint16\n"
          ]
        }
      ],
      "source": [
        "capture_name = \"Blumentoepfe\"\n",
        "capture = get_hsi_capture(capture_name, root)\n",
        "data = load_hsi_data(capture)"
      ]
    },
    {
      "cell_type": "code",
      "execution_count": 12,
      "metadata": {},
      "outputs": [
        {
          "data": {
            "image/png": "[encoded data removed]",
            "text/plain": [
              "<Figure size 432x288 with 1 Axes>"
            ]
          },
          "metadata": {
            "needs_background": "light"
          },
          "output_type": "display_data"
        }
      ],
      "source": [
        "roi = {\"y_low\": 400, \"y_high\": 440, \"x_low\": 70,  \"x_high\": 120}\n",
        "roi_data = get_2d_roi(data, **roi)\n",
        "display_roi_rectangle(data, **roi, title=f\"ROI of {capture_name}\")\n",
        "df = pd.DataFrame(roi_data, columns=COLUMN_NAMES)\n",
        "df.sample(500).T.plot.line(labels=PLOT_LABELS, title=f\"{capture_name} - 500 sample pixels\")"
      ]
    },
    {
      "cell_type": "code",
      "execution_count": 106,
      "metadata": {},
      "outputs": [],
      "source": [
        "df_references = pd.read_csv(\"processed_data\\mean_reference_plastics.csv\", sep=\"\\t\", index_col=[0])\n",
        "df_pp = df_references.loc[[\"PP\"]]\n",
        "df_pp.columns = df_pp.columns.astype(\"float64\")\n",
        "\n",
        "np_mean = np.reshape(np.mean(roi_data, axis=0), (1,-1))\n",
        "df_mean = pd.DataFrame(np_mean, columns=COLUMN_NAMES)\n",
        "\n",
        "combined_df = pd.concat([df_pp, df_mean])\n",
        "combined_df = preprocessing.minmax_scale(combined_df.T).T\n",
        "scaled_df = pd.DataFrame(combined_df, columns=COLUMN_NAMES)\n",
        "scaled_df.set_index(pd.Index([\"PP\", \"Blumentopf\"]), inplace=True)"
      ]
    },
    {
      "cell_type": "code",
      "execution_count": 121,
      "metadata": {},
      "outputs": [],
      "source": [
        "scaled_df.T.plot.line(\n",
        "    labels={\n",
        "        \"index\": \"Wavelength [nm]\",\n",
        "        \"value\": \"reflectance [1]\",\n",
        "        \"variable\": \"Material\",\n",
        "    },\n",
        "    title=\"Mean von PP und Blumentopf\",\n",
        ")"
      ]
    },
    {
      "cell_type": "code",
      "execution_count": 24,
      "metadata": {},
      "outputs": [],
      "source": [
        "roi = {\"y_low\": 650, \"y_high\": 750, \"x_low\": 220,  \"x_high\": 280}\n",
        "roi_data = get_2d_roi(data, **roi)\n",
        "display_roi_rectangle(data, **roi, title=f\"ROI of {capture_name}\")\n",
        "df = pd.DataFrame(roi_data, columns=COLUMN_NAMES)\n",
        "df.sample(500).T.plot.line(labels=PLOT_LABELS, title=f\"{capture_name} 2 - 500 sample pixels\")"
      ]
    },
    {
      "cell_type": "code",
      "execution_count": 25,
      "metadata": {},
      "outputs": [],
      "source": [
        "mean_plot = get_mean_plot(roi_data, column_names=COLUMN_NAMES, labels=PLOT_LABELS, title=\"Blumentoepfe 2 - Mean\")\n",
        "mean_plot.show()"
      ]
    },
    {
      "cell_type": "markdown",
      "metadata": {},
      "source": [
        "##### Plastiksäcke 1"
      ]
    },
    {
      "cell_type": "code",
      "execution_count": 31,
      "metadata": {},
      "outputs": [
        {
          "name": "stderr",
          "output_type": "stream",
          "text": [
            "INFO:data_handling:\tData Source:   'D:\\OneDriveFHNW\\FHNW\\EUT-P6bb-21HS-RS_M365 - General\\captures\\p6bb-rs_kunststoffsaecke_2022-03-09_07-43-52\\capture\\REFLECTANCE_p6bb-rs_kunststoffsaecke_2022-03-09_07-43-52.dat'\n",
            "\t# Rows:            858\n",
            "\t# Samples:         640\n",
            "\t# Bands:           224\n",
            "\tInterleave:        BIL\n",
            "\tQuantization:  16 bits\n",
            "\tData format:    uint16\n"
          ]
        }
      ],
      "source": [
        "capture_name = \"kunststoffsaecke_\"\n",
        "capture = get_hsi_capture(capture_name, root)\n",
        "data = load_hsi_data(capture)"
      ]
    },
    {
      "cell_type": "code",
      "execution_count": 33,
      "metadata": {},
      "outputs": [],
      "source": [
        "roi = {\"y_low\": 540, \"y_high\": 580, \"x_low\": 400,  \"x_high\": 480}\n",
        "roi_data = get_2d_roi(data, **roi)\n",
        "display_roi_rectangle(data, **roi, title=f\"ROI of {capture_name}\")\n",
        "df = pd.DataFrame(roi_data, columns=COLUMN_NAMES)\n",
        "df.sample(500).T.plot.line(labels=PLOT_LABELS, title=f\"{capture_name} - 500 sample pixels\")"
      ]
    },
    {
      "cell_type": "code",
      "execution_count": 34,
      "metadata": {},
      "outputs": [],
      "source": [
        "mean_plot = get_mean_plot(roi_data, column_names=COLUMN_NAMES, labels=PLOT_LABELS, title=\"Kunststoffsäcke - Mean\")\n",
        "mean_plot.show()"
      ]
    },
    {
      "cell_type": "code",
      "execution_count": 36,
      "metadata": {},
      "outputs": [],
      "source": [
        "df_references = pd.read_csv(\"processed_data\\mean_reference_plastics.csv\", sep=\"\\t\", index_col=[0])\n",
        "df_pe = df_references.loc[[\"LDPE\"]]\n",
        "df_pe.columns = df_pe.columns.astype(\"float64\")\n",
        "\n",
        "np_mean = np.reshape(np.mean(roi_data, axis=0), (1,-1))\n",
        "df_mean = pd.DataFrame(np_mean, columns=COLUMN_NAMES)\n",
        "\n",
        "combined_df = pd.concat([df_pe, df_mean])\n",
        "combined_df = preprocessing.minmax_scale(combined_df.T).T\n",
        "scaled_df = pd.DataFrame(combined_df, columns=COLUMN_NAMES)\n",
        "scaled_df.set_index(pd.Index([\"LDPE\", \"Plastiksaecke\"]), inplace=True)"
      ]
    },
    {
      "cell_type": "code",
      "execution_count": 38,
      "metadata": {},
      "outputs": [],
      "source": [
        "scaled_df.T.plot.line(\n",
        "    labels={\n",
        "        \"index\": \"Wavelength [nm]\",\n",
        "        \"value\": \"reflectance [1]\",\n",
        "        \"variable\": \"Material\",\n",
        "    },\n",
        "    title=\"Mean von PE und Plastiksack\",\n",
        ")"
      ]
    },
    {
      "cell_type": "code",
      "execution_count": 46,
      "metadata": {},
      "outputs": [],
      "source": [
        "from scipy.signal import savgol_filter\n",
        "smooth_deriv = savgol_filter(scaled_df, window_length=15, polyorder=2, deriv=1)\n",
        "snv = snv_transform(smooth_deriv)\n",
        "df_new = pd.DataFrame(snv,columns=COLUMN_NAMES)\n",
        "df_new.T.plot.line()"
      ]
    },
    {
      "cell_type": "markdown",
      "metadata": {},
      "source": [
        "##### Plastiksäcke 2 - Auf Kompost"
      ]
    },
    {
      "cell_type": "code",
      "execution_count": 14,
      "metadata": {},
      "outputs": [
        {
          "name": "stderr",
          "output_type": "stream",
          "text": [
            "INFO:data_handling:\tData Source:   'D:\\OneDriveFHNW\\FHNW\\EUT-P6bb-21HS-RS_M365 - General\\captures\\training\\qd_kompost_sp10_mit_kunststoffen_3_2022-06-08_06-42-32\\capture\\REFLECTANCE_qd_kompost_sp10_mit_kunststoffen_3_2022-06-08_06-42-32.dat'\n",
            "\t# Rows:            858\n",
            "\t# Samples:         640\n",
            "\t# Bands:           224\n",
            "\tInterleave:        BIL\n",
            "\tQuantization:  16 bits\n",
            "\tData format:    uint16\n"
          ]
        }
      ],
      "source": [
        "%matplotlib qt5\n",
        "capture_name = \"sp10_mit_kunststoffen_3\"\n",
        "capture = get_hsi_capture(capture_name, root+\"\\training\")\n",
        "data = load_hsi_data(capture)"
      ]
    },
    {
      "cell_type": "code",
      "execution_count": 18,
      "metadata": {},
      "outputs": [],
      "source": [
        "roi = {\"y_low\": 600, \"y_high\": 660, \"x_low\": 120,  \"x_high\": 240}\n",
        "roi_data = get_2d_roi(data, **roi)\n",
        "display_roi_rectangle(data, **roi, title=f\"ROI of {capture_name}\")\n",
        "df = pd.DataFrame(roi_data, columns=COLUMN_NAMES)\n",
        "df.sample(500).T.plot.line(labels=PLOT_LABELS, title=f\"Sack auf Kompost - 500 sample pixels\")"
      ]
    },
    {
      "cell_type": "code",
      "execution_count": 19,
      "metadata": {},
      "outputs": [],
      "source": [
        "roi_kompost = {\"y_low\": 670, \"y_high\": 730, \"x_low\": 350,  \"x_high\": 410}\n",
        "roi_data_kompost = get_2d_roi(data, **roi_kompost)\n",
        "display_roi_rectangle(data, **roi_kompost, title=f\"ROI of {capture_name}\")\n",
        "df_kompost = pd.DataFrame(roi_data_kompost, columns=COLUMN_NAMES)\n",
        "df_kompost.sample(500).T.plot.line(labels=PLOT_LABELS, title=f\"Kompost - 500 sample pixels\")"
      ]
    },
    {
      "cell_type": "code",
      "execution_count": 20,
      "metadata": {},
      "outputs": [],
      "source": [
        "mean_df = pd.concat(\n",
        "    [df.mean(axis=0), df_kompost.mean(axis=0)], ignore_index=True, axis=1\n",
        ")\n",
        "mean_df = mean_df.T.set_index(pd.Index([\"Sack auf Kompost\", \"Kompost\"]))\n",
        "mean_df.T.plot.line(\n",
        "    labels={\n",
        "        \"index\": \"Wavelength [nm]\",\n",
        "        \"value\": \"reflectance [1]\",\n",
        "        \"variable\": \"Material\",\n",
        "    },\n",
        "    title=\"Durchschnitts-Spektrum ROI 1 und ROI 2 von Plastiksack\",\n",
        ")"
      ]
    },
    {
      "cell_type": "code",
      "execution_count": null,
      "metadata": {},
      "outputs": [],
      "source": [
        "mean_plot = get_mean_plot(roi_data, column_names=COLUMN_NAMES, labels=PLOT_LABELS, title=\"Kunststoffsäcke - Mean\")\n",
        "mean_plot.show()"
      ]
    },
    {
      "cell_type": "code",
      "execution_count": null,
      "metadata": {},
      "outputs": [],
      "source": [
        "df_references = pd.read_csv(\"processed_data\\mean_reference_plastics.csv\", sep=\"\\t\", index_col=[0])\n",
        "df_pe = df_references.loc[[\"LDPE\"]]\n",
        "df_pe.columns = df_pe.columns.astype(\"float64\")\n",
        "\n",
        "np_mean = np.reshape(np.mean(roi_data, axis=0), (1,-1))\n",
        "df_mean = pd.DataFrame(np_mean, columns=COLUMN_NAMES)\n",
        "\n",
        "combined_df = pd.concat([df_pe, df_mean])\n",
        "combined_df = preprocessing.minmax_scale(combined_df.T).T\n",
        "scaled_df = pd.DataFrame(combined_df, columns=COLUMN_NAMES)\n",
        "scaled_df.set_index(pd.Index([\"LDPE\", \"Plastiksaecke\"]), inplace=True)"
      ]
    },
    {
      "cell_type": "code",
      "execution_count": null,
      "metadata": {},
      "outputs": [],
      "source": [
        "scaled_df.T.plot.line(\n",
        "    labels={\n",
        "        \"index\": \"Wavelength [nm]\",\n",
        "        \"value\": \"reflectance [1]\",\n",
        "        \"variable\": \"Material\",\n",
        "    },\n",
        "    title=\"Mean von PE und Plastiksack\",\n",
        ")"
      ]
    },
    {
      "cell_type": "code",
      "execution_count": null,
      "metadata": {},
      "outputs": [],
      "source": [
        "from scipy.signal import savgol_filter\n",
        "smooth_deriv = savgol_filter(scaled_df, window_length=15, polyorder=2, deriv=1)\n",
        "snv = snv_transform(smooth_deriv)\n",
        "df_new = pd.DataFrame(snv,columns=COLUMN_NAMES)\n",
        "df_new.T.plot.line()"
      ]
    },
    {
      "cell_type": "markdown",
      "metadata": {},
      "source": [
        "#### This is Testing"
      ]
    },
    {
      "cell_type": "code",
      "execution_count": null,
      "metadata": {},
      "outputs": [],
      "source": [
        "pio.renderers.default = \"browser\"\n",
        "long_df_mean = pd.melt(df_mean, var_name=\"wavelength [nm]\", ignore_index=False, value_name=\"reflectance [1]\")\n",
        "px.line(long_df_mean, x=\"wavelength [nm]\", y=\"reflectance [1]\", color=long_df_mean.index)"
      ]
    },
    {
      "cell_type": "code",
      "execution_count": 4,
      "metadata": {},
      "outputs": [],
      "source": [
        "from data_handling import limit_reflection, snv_transform, get_2d_roi\n",
        "\n",
        "RGB_BANDS = (60,80,170)\n",
        "\n",
        "data2d=get_2d_roi(data, 0, 640, 0, 868)\n",
        "\n",
        "data2d_snv = snv_transform(data2d)"
      ]
    },
    {
      "cell_type": "code",
      "execution_count": 18,
      "metadata": {},
      "outputs": [
        {
          "name": "stdout",
          "output_type": "stream",
          "text": [
            "1115.2\n",
            "1187.0\n",
            "1509.9\n"
          ]
        }
      ],
      "source": [
        "print(BANDS[60])\n",
        "print(BANDS[80])\n",
        "print(BANDS[170])"
      ]
    },
    {
      "cell_type": "code",
      "execution_count": 5,
      "metadata": {},
      "outputs": [
        {
          "data": {
            "text/plain": [
              "[<matplotlib.lines.Line2D at 0x22f468846a0>]"
            ]
          },
          "execution_count": 5,
          "metadata": {},
          "output_type": "execute_result"
        }
      ],
      "source": [
        "import matplotlib.pyplot as plt\n",
        "plt.figure()\n",
        "plt.plot(data[442,327])\n",
        "plt.plot(data[553,381])"
      ]
    },
    {
      "cell_type": "code",
      "execution_count": 6,
      "metadata": {},
      "outputs": [
        {
          "data": {
            "text/plain": [
              "1187.0"
            ]
          },
          "execution_count": 6,
          "metadata": {},
          "output_type": "execute_result"
        }
      ],
      "source": [
        "import numpy as np\n",
        "BANDS = np.round(np.linspace(900,1700,224),1);\n",
        "BANDS[80]"
      ]
    },
    {
      "cell_type": "code",
      "execution_count": 8,
      "metadata": {},
      "outputs": [
        {
          "data": {
            "text/plain": [
              "ImageView object:\n",
              "  Display bands       :  (60, 80, 170)\n",
              "  Interpolation       :  <default>\n",
              "  RGB data limits     :\n",
              "    R: [-3.6321232318878174, 2.4481616020202637]\n",
              "    G: [-2.4766783714294434, 2.8134145736694336]\n",
              "    B: [-2.242427110671997, 3.290544271469116]"
            ]
          },
          "execution_count": 8,
          "metadata": {},
          "output_type": "execute_result"
        }
      ],
      "source": [
        "data_v2 = np.reshape(data2d_snv,(868,640,202))\n",
        "spectral.imshow(data_v2,RGB_BANDS)"
      ]
    }
  ],
  "metadata": {
    "kernelspec": {
      "display_name": "Python 3.10.4 ('.venv': pipenv)",
      "language": "python",
      "name": "python3"
    },
    "language_info": {
      "codemirror_mode": {
        "name": "ipython",
        "version": 3
      },
      "file_extension": ".py",
      "mimetype": "text/x-python",
      "name": "python",
      "nbconvert_exporter": "python",
      "pygments_lexer": "ipython3",
      "version": "3.10.4"
    },
    "orig_nbformat": 4,
    "vscode": {
      "interpreter": {
        "hash": "7ea3dadd995743c070a60538d12e65af98266bdc8fe22fa5ff7f84eb82e6fdd6"
      }
    }
  },
  "nbformat": 4,
  "nbformat_minor": 2
}
