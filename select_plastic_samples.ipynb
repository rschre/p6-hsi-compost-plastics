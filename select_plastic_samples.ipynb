{
 "cells": [
  {
   "cell_type": "markdown",
   "metadata": {},
   "source": [
    "#### Collection of ROIs of different plastic"
   ]
  },
  {
   "cell_type": "markdown",
   "metadata": {},
   "source": [
    "#### Preparation"
   ]
  },
  {
   "cell_type": "markdown",
   "metadata": {},
   "source": [
    "##### Imports"
   ]
  },
  {
   "cell_type": "code",
   "execution_count": 1,
   "metadata": {},
   "outputs": [],
   "source": [
    "from data_handling import *\n",
    "from warnings import simplefilter\n",
    "import spectral\n",
    "import numpy as np\n",
    "import pandas as pd"
   ]
  },
  {
   "cell_type": "markdown",
   "metadata": {},
   "source": [
    "##### Settings"
   ]
  },
  {
   "cell_type": "code",
   "execution_count": 2,
   "metadata": {},
   "outputs": [
    {
     "name": "stderr",
     "output_type": "stream",
     "text": [
      "INFO:data_handling:Root folder set to D:\\OneDriveFHNW\\FHNW\\EUT-P6bb-21HS-RS_M365 - General\\captures\n"
     ]
    }
   ],
   "source": [
    "spectral.settings.envi_support_nonlowercase_params = True\n",
    "simplefilter(action=\"ignore\", category=pd.errors.PerformanceWarning)\n",
    "pd.options.plotting.backend = \"plotly\"\n",
    "%matplotlib qt5\n",
    "root = get_root_folder(\"PC\")\n",
    "root_training = root + \"/training\""
   ]
  },
  {
   "cell_type": "markdown",
   "metadata": {},
   "source": [
    "##### Globals"
   ]
  },
  {
   "cell_type": "code",
   "execution_count": 3,
   "metadata": {},
   "outputs": [],
   "source": [
    "BANDS = np.round(np.linspace(900,1700,224),1);\n",
    "RGB_BANDS = (81,131,181)\n",
    "\n",
    "BAND_LOW = 8\n",
    "BAND_HIGH = 210\n",
    "\n",
    "PLOT_LABELS = {\"index\": \"Wavelength [nm]\", \"value\": \"reflectance [1]\", \"variable\": \"pixel\"}\n",
    "COLUMN_NAMES = BANDS[BAND_LOW:BAND_HIGH]\n",
    "\n",
    "plastic_samples = {}"
   ]
  },
  {
   "cell_type": "markdown",
   "metadata": {},
   "source": [
    "#### Execution"
   ]
  },
  {
   "cell_type": "markdown",
   "metadata": {},
   "source": [
    "##### p6bb-rs_blumentoepfe_2022-03-09_07-55-05"
   ]
  },
  {
   "cell_type": "code",
   "execution_count": 4,
   "metadata": {},
   "outputs": [
    {
     "name": "stderr",
     "output_type": "stream",
     "text": [
      "INFO:data_handling:\tData Source:   'D:\\OneDriveFHNW\\FHNW\\EUT-P6bb-21HS-RS_M365 - General\\captures\\p6bb-rs_blumentoepfe_2022-03-09_07-55-05\\capture\\REFLECTANCE_p6bb-rs_blumentoepfe_2022-03-09_07-55-05.dat'\n",
      "\t# Rows:            859\n",
      "\t# Samples:         640\n",
      "\t# Bands:           224\n",
      "\tInterleave:        BIL\n",
      "\tQuantization:  16 bits\n",
      "\tData format:    uint16\n"
     ]
    }
   ],
   "source": [
    "# Read file information\n",
    "capture = get_hsi_capture(\"blumentoepf\", root)\n",
    "\n",
    "# Laod File into RAM\n",
    "data = load_hsi_data(capture)\n",
    "\n",
    "capture_name = \"blumentoepfe\"\n",
    "plastic_samples[capture_name] = []"
   ]
  },
  {
   "cell_type": "code",
   "execution_count": 5,
   "metadata": {},
   "outputs": [],
   "source": [
    "# Display Image, RGB_BANDS specify the indexes of the wavelength which will correspond with R, G, B colors\n",
    "img = spectral.imshow(limit_reflection(data), RGB_BANDS)"
   ]
  },
  {
   "cell_type": "code",
   "execution_count": 6,
   "metadata": {},
   "outputs": [],
   "source": [
    "# Select a rectangular ROI of the image for further processing, reduce spatial dimensions to a single dimension\n",
    "roi = {\"y_low\": 396, \"y_high\": 442, \"x_low\": 193,  \"x_high\": 233}\n",
    "roi_data = get_2d_roi(data, **roi)\n",
    "\n",
    "# Display ROI on top of the image\n",
    "roi_img = display_roi_rectangle(data, **roi, title=f\"Selected ROI of {capture_name}\")\n",
    "\n",
    "# Add to Dictionary\n",
    "plastic_samples[capture_name].append((roi, roi_data))"
   ]
  },
  {
   "cell_type": "code",
   "execution_count": 7,
   "metadata": {},
   "outputs": [],
   "source": [
    "# New ROI\n",
    "roi = {\"y_low\": 645, \"y_high\": 741, \"x_low\": 88,  \"x_high\": 309}\n",
    "roi_data = get_2d_roi(data, **roi)\n",
    "roi_img = display_roi_rectangle(data, **roi, title=f\"Selected ROI of {capture_name}\")\n",
    "plastic_samples[capture_name].append((roi, roi_data))"
   ]
  },
  {
   "cell_type": "code",
   "execution_count": 8,
   "metadata": {},
   "outputs": [],
   "source": [
    "# New ROI\n",
    "roi = {\"y_low\": 401, \"y_high\": 436, \"x_low\": 69,  \"x_high\": 126}\n",
    "roi_data = get_2d_roi(data, **roi)\n",
    "roi_img = display_roi_rectangle(data, **roi, title=f\"Selected ROI of {capture_name}\")\n",
    "plastic_samples[capture_name].append((roi, roi_data))"
   ]
  },
  {
   "cell_type": "markdown",
   "metadata": {},
   "source": [
    "##### qd_kompost_sp10_mit_kunststoffen_1_2022-06-08_06-36-35"
   ]
  },
  {
   "cell_type": "code",
   "execution_count": 9,
   "metadata": {},
   "outputs": [],
   "source": [
    "capture_name = \"sp10_mit_kunststoffen_1\"\n",
    "plastic_samples[capture_name] = []"
   ]
  },
  {
   "cell_type": "code",
   "execution_count": 10,
   "metadata": {},
   "outputs": [
    {
     "name": "stderr",
     "output_type": "stream",
     "text": [
      "INFO:data_handling:\tData Source:   'D:\\OneDriveFHNW\\FHNW\\EUT-P6bb-21HS-RS_M365 - General\\captures/training\\qd_kompost_sp10_mit_kunststoffen_1_2022-06-08_06-36-35\\capture\\REFLECTANCE_qd_kompost_sp10_mit_kunststoffen_1_2022-06-08_06-36-35.dat'\n",
      "\t# Rows:            859\n",
      "\t# Samples:         640\n",
      "\t# Bands:           224\n",
      "\tInterleave:        BIL\n",
      "\tQuantization:  16 bits\n",
      "\tData format:    uint16\n"
     ]
    }
   ],
   "source": [
    "# Read file information\n",
    "capture = get_hsi_capture(\"sp10_mit_kunststoffen_1\", root_training)\n",
    "\n",
    "# Laod File into RAM\n",
    "data = load_hsi_data(capture)"
   ]
  },
  {
   "cell_type": "code",
   "execution_count": 11,
   "metadata": {},
   "outputs": [],
   "source": [
    "# Display Image, RGB_BANDS specify the indexes of the wavelength which will correspond with R, G, B colors\n",
    "img = spectral.imshow(limit_reflection(data), RGB_BANDS)"
   ]
  },
  {
   "cell_type": "code",
   "execution_count": 12,
   "metadata": {},
   "outputs": [],
   "source": [
    "# Select a rectangular ROI of the image for further processing, reduce spatial dimensions to a single dimension\n",
    "roi = {\"y_low\": 163, \"y_high\": 234, \"x_low\": 76,  \"x_high\": 242}\n",
    "roi_data = get_2d_roi(data, **roi)\n",
    "\n",
    "# Display ROI on top of the image\n",
    "roi_img = display_roi_rectangle(data, **roi, title=f\"Selected ROI of {capture_name}\")\n",
    "\n",
    "# Add to Dictionary\n",
    "plastic_samples[capture_name].append((roi, roi_data))"
   ]
  },
  {
   "cell_type": "code",
   "execution_count": 13,
   "metadata": {},
   "outputs": [],
   "source": [
    "# New ROI\n",
    "roi = {\"y_low\": 234, \"y_high\": 280, \"x_low\": 97,  \"x_high\": 220}\n",
    "roi_data = get_2d_roi(data, **roi)\n",
    "roi_img = display_roi_rectangle(data, **roi, title=f\"Selected ROI of {capture_name}\")\n",
    "plastic_samples[capture_name].append((roi, roi_data))"
   ]
  },
  {
   "cell_type": "code",
   "execution_count": 14,
   "metadata": {},
   "outputs": [],
   "source": [
    "# New ROI\n",
    "roi = {\"y_low\": 133, \"y_high\": 200, \"x_low\": 343,  \"x_high\": 535}\n",
    "roi_data = get_2d_roi(data, **roi)\n",
    "roi_img = display_roi_rectangle(data, **roi, title=f\"Selected ROI of {capture_name}\")\n",
    "plastic_samples[capture_name].append((roi, roi_data))"
   ]
  },
  {
   "cell_type": "markdown",
   "metadata": {},
   "source": [
    "##### qd_kompost_sp10_mit_kunststoffen_4_2022-06-08_06-43-52"
   ]
  },
  {
   "cell_type": "code",
   "execution_count": 15,
   "metadata": {},
   "outputs": [],
   "source": [
    "capture_name = \"sp10_mit_kunststoffen_4\"\n",
    "plastic_samples[capture_name] = []"
   ]
  },
  {
   "cell_type": "code",
   "execution_count": 16,
   "metadata": {},
   "outputs": [
    {
     "name": "stderr",
     "output_type": "stream",
     "text": [
      "INFO:data_handling:\tData Source:   'D:\\OneDriveFHNW\\FHNW\\EUT-P6bb-21HS-RS_M365 - General\\captures/training\\qd_kompost_sp10_mit_kunststoffen_4_2022-06-08_06-43-52\\capture\\REFLECTANCE_qd_kompost_sp10_mit_kunststoffen_4_2022-06-08_06-43-52.dat'\n",
      "\t# Rows:            859\n",
      "\t# Samples:         640\n",
      "\t# Bands:           224\n",
      "\tInterleave:        BIL\n",
      "\tQuantization:  16 bits\n",
      "\tData format:    uint16\n"
     ]
    }
   ],
   "source": [
    "root_training = root + \"/training\"\n",
    "# Read file information\n",
    "capture = get_hsi_capture(\"sp10_mit_kunststoffen_4\", root_training)\n",
    "\n",
    "# Laod File into RAM\n",
    "data = load_hsi_data(capture)"
   ]
  },
  {
   "cell_type": "code",
   "execution_count": 17,
   "metadata": {},
   "outputs": [],
   "source": [
    "# Display Image, RGB_BANDS specify the indexes of the wavelength which will correspond with R, G, B colors\n",
    "img = spectral.imshow(limit_reflection(data), RGB_BANDS)"
   ]
  },
  {
   "cell_type": "code",
   "execution_count": 18,
   "metadata": {},
   "outputs": [],
   "source": [
    "# Select a rectangular ROI of the image for further processing, reduce spatial dimensions to a single dimension\n",
    "roi = {\"y_low\": 152, \"y_high\": 283, \"x_low\": 425,  \"x_high\": 602}\n",
    "roi_data = get_2d_roi(data, **roi)\n",
    "\n",
    "# Display ROI on top of the image\n",
    "roi_img = display_roi_rectangle(data, **roi, title=f\"Selected ROI of {capture_name}\")\n",
    "\n",
    "# Add to Dictionary\n",
    "plastic_samples[capture_name].append((roi, roi_data))"
   ]
  },
  {
   "cell_type": "code",
   "execution_count": 19,
   "metadata": {},
   "outputs": [],
   "source": [
    "# New ROI\n",
    "roi = {\"y_low\": 315, \"y_high\": 510, \"x_low\": 294,  \"x_high\": 397}\n",
    "roi_data = get_2d_roi(data, **roi)\n",
    "roi_img = display_roi_rectangle(data, **roi, title=f\"Selected ROI of {capture_name}\")\n",
    "plastic_samples[capture_name].append((roi, roi_data))"
   ]
  },
  {
   "cell_type": "code",
   "execution_count": 20,
   "metadata": {},
   "outputs": [],
   "source": [
    "# New ROI\n",
    "roi = {\"y_low\": 395, \"y_high\": 566, \"x_low\": 141,  \"x_high\": 224}\n",
    "roi_data = get_2d_roi(data, **roi)\n",
    "roi_img = display_roi_rectangle(data, **roi, title=f\"Selected ROI of {capture_name}\")\n",
    "plastic_samples[capture_name].append((roi, roi_data))"
   ]
  },
  {
   "cell_type": "code",
   "execution_count": 21,
   "metadata": {},
   "outputs": [],
   "source": [
    "# New ROI\n",
    "roi = {\"y_low\": 503, \"y_high\": 625, \"x_low\": 488,  \"x_high\": 589}\n",
    "roi_data = get_2d_roi(data, **roi)\n",
    "roi_img = display_roi_rectangle(data, **roi, title=f\"Selected ROI of {capture_name}\")\n",
    "plastic_samples[capture_name].append((roi, roi_data))"
   ]
  },
  {
   "cell_type": "code",
   "execution_count": 22,
   "metadata": {},
   "outputs": [],
   "source": [
    "# New ROI\n",
    "roi = {\"y_low\": 245, \"y_high\": 358, \"x_low\": 23,  \"x_high\": 103}\n",
    "roi_data = get_2d_roi(data, **roi)\n",
    "roi_img = display_roi_rectangle(data, **roi, title=f\"Selected ROI of {capture_name}\")\n",
    "plastic_samples[capture_name].append((roi, roi_data))"
   ]
  },
  {
   "cell_type": "code",
   "execution_count": 23,
   "metadata": {},
   "outputs": [],
   "source": [
    "# New ROI\n",
    "roi = {\"y_low\": 476, \"y_high\": 612, \"x_low\": 22,  \"x_high\": 96}\n",
    "roi_data = get_2d_roi(data, **roi)\n",
    "roi_img = display_roi_rectangle(data, **roi, title=f\"Selected ROI of {capture_name}\")\n",
    "plastic_samples[capture_name].append((roi, roi_data))"
   ]
  },
  {
   "cell_type": "markdown",
   "metadata": {},
   "source": [
    "##### p6bb-rs_LDPE_referenz_2021-11-16_14-53-53"
   ]
  },
  {
   "cell_type": "code",
   "execution_count": 24,
   "metadata": {},
   "outputs": [],
   "source": [
    "capture_name = \"ldpe_referenz\"\n",
    "plastic_samples[capture_name] = []"
   ]
  },
  {
   "cell_type": "code",
   "execution_count": 25,
   "metadata": {},
   "outputs": [
    {
     "name": "stderr",
     "output_type": "stream",
     "text": [
      "INFO:data_handling:\tData Source:   'D:\\OneDriveFHNW\\FHNW\\EUT-P6bb-21HS-RS_M365 - General\\captures/references\\p6bb-rs_LDPE_referenz_2021-11-16_14-53-53\\capture\\REFLECTANCE_p6bb-rs_LDPE_referenz_2021-11-16_14-53-53.dat'\n",
      "\t# Rows:            858\n",
      "\t# Samples:         640\n",
      "\t# Bands:           224\n",
      "\tInterleave:        BIL\n",
      "\tQuantization:  16 bits\n",
      "\tData format:    uint16\n"
     ]
    }
   ],
   "source": [
    "root_references = root + \"/references\"\n",
    "# Read file information\n",
    "capture = get_hsi_capture(\"LDPE\", root_references)\n",
    "\n",
    "# Laod File into RAM\n",
    "data = load_hsi_data(capture)"
   ]
  },
  {
   "cell_type": "code",
   "execution_count": 26,
   "metadata": {},
   "outputs": [],
   "source": [
    "# Display Image, RGB_BANDS specify the indexes of the wavelength which will correspond with R, G, B colors\n",
    "img = spectral.imshow(limit_reflection(data), RGB_BANDS)"
   ]
  },
  {
   "cell_type": "code",
   "execution_count": 27,
   "metadata": {},
   "outputs": [],
   "source": [
    "# Select a rectangular ROI of the image for further processing, reduce spatial dimensions to a single dimension\n",
    "roi = {\"y_low\": 182, \"y_high\": 419, \"x_low\": 227,  \"x_high\": 414}\n",
    "roi_data = get_2d_roi(data, **roi)\n",
    "\n",
    "# Display ROI on top of the image\n",
    "roi_img = display_roi_rectangle(data, **roi, title=f\"Selected ROI of {capture_name}\")\n",
    "\n",
    "# Add to Dictionary\n",
    "plastic_samples[capture_name].append((roi, roi_data))"
   ]
  },
  {
   "cell_type": "markdown",
   "metadata": {},
   "source": [
    "##### p6bb-rs_PET_referenz_2021-11-16_14-58-52"
   ]
  },
  {
   "cell_type": "code",
   "execution_count": 28,
   "metadata": {},
   "outputs": [],
   "source": [
    "capture_name = \"pet_referenz\"\n",
    "plastic_samples[capture_name] = []"
   ]
  },
  {
   "cell_type": "code",
   "execution_count": 29,
   "metadata": {},
   "outputs": [
    {
     "name": "stderr",
     "output_type": "stream",
     "text": [
      "INFO:data_handling:\tData Source:   'D:\\OneDriveFHNW\\FHNW\\EUT-P6bb-21HS-RS_M365 - General\\captures/references\\p6bb-rs_PET_referenz_2021-11-16_14-58-52\\capture\\REFLECTANCE_p6bb-rs_PET_referenz_2021-11-16_14-58-52.dat'\n",
      "\t# Rows:            858\n",
      "\t# Samples:         640\n",
      "\t# Bands:           224\n",
      "\tInterleave:        BIL\n",
      "\tQuantization:  16 bits\n",
      "\tData format:    uint16\n"
     ]
    }
   ],
   "source": [
    "root_references = root + \"/references\"\n",
    "# Read file information\n",
    "capture = get_hsi_capture(\"pet_referenz\", root_references)\n",
    "\n",
    "# Laod File into RAM\n",
    "data = load_hsi_data(capture)"
   ]
  },
  {
   "cell_type": "code",
   "execution_count": 30,
   "metadata": {},
   "outputs": [],
   "source": [
    "# Display Image, RGB_BANDS specify the indexes of the wavelength which will correspond with R, G, B colors\n",
    "img = spectral.imshow(limit_reflection(data), RGB_BANDS)"
   ]
  },
  {
   "cell_type": "code",
   "execution_count": 31,
   "metadata": {},
   "outputs": [],
   "source": [
    "# Select a rectangular ROI of the image for further processing, reduce spatial dimensions to a single dimension\n",
    "roi = {\"y_low\": 182, \"y_high\": 419, \"x_low\": 227,  \"x_high\": 414}\n",
    "roi_data = get_2d_roi(data, **roi)\n",
    "\n",
    "# Display ROI on top of the image\n",
    "roi_img = display_roi_rectangle(data, **roi, title=f\"Selected ROI of {capture_name}\")\n",
    "\n",
    "# Add to Dictionary\n",
    "plastic_samples[capture_name].append((roi, roi_data))"
   ]
  },
  {
   "cell_type": "markdown",
   "metadata": {},
   "source": [
    "##### p6bb-rs_PLA_referenz_axpo_2021-11-16_15-08-41"
   ]
  },
  {
   "cell_type": "code",
   "execution_count": 32,
   "metadata": {},
   "outputs": [],
   "source": [
    "capture_name = \"pla_referenz\"\n",
    "plastic_samples[capture_name] = []"
   ]
  },
  {
   "cell_type": "code",
   "execution_count": 33,
   "metadata": {},
   "outputs": [
    {
     "name": "stderr",
     "output_type": "stream",
     "text": [
      "INFO:data_handling:\tData Source:   'D:\\OneDriveFHNW\\FHNW\\EUT-P6bb-21HS-RS_M365 - General\\captures/references\\p6bb-rs_PLA_referenz_axpo_2021-11-16_15-08-41\\capture\\REFLECTANCE_p6bb-rs_PLA_referenz_axpo_2021-11-16_15-08-41.dat'\n",
      "\t# Rows:            859\n",
      "\t# Samples:         640\n",
      "\t# Bands:           224\n",
      "\tInterleave:        BIL\n",
      "\tQuantization:  16 bits\n",
      "\tData format:    uint16\n"
     ]
    }
   ],
   "source": [
    "root_references = root + \"/references\"\n",
    "# Read file information\n",
    "capture = get_hsi_capture(\"PLA\", root_references)\n",
    "\n",
    "# Laod File into RAM\n",
    "data = load_hsi_data(capture)"
   ]
  },
  {
   "cell_type": "code",
   "execution_count": 34,
   "metadata": {},
   "outputs": [],
   "source": [
    "# Display Image, RGB_BANDS specify the indexes of the wavelength which will correspond with R, G, B colors\n",
    "img = spectral.imshow(limit_reflection(data), RGB_BANDS)"
   ]
  },
  {
   "cell_type": "code",
   "execution_count": 35,
   "metadata": {},
   "outputs": [
    {
     "name": "stderr",
     "output_type": "stream",
     "text": [
      "d:\\OneDriveFHNW\\FHNW\\EUT-P6bb-21HS-RS_M365 - General\\python_clean\\.venv\\lib\\site-packages\\spectral\\graphics\\spypylab.py:729: RuntimeWarning: More than 20 figures have been opened. Figures created through the pyplot interface (`matplotlib.pyplot.figure`) are retained until explicitly closed and may consume too much memory. (To control this warning, see the rcParam `figure.max_open_warning`).\n",
      "  plt.figure(**kwargs)\n"
     ]
    }
   ],
   "source": [
    "# Select a rectangular ROI of the image for further processing, reduce spatial dimensions to a single dimension\n",
    "roi = {\"y_low\": 182, \"y_high\": 419, \"x_low\": 227,  \"x_high\": 414}\n",
    "roi_data = get_2d_roi(data, **roi)\n",
    "\n",
    "# Display ROI on top of the image\n",
    "roi_img = display_roi_rectangle(data, **roi, title=f\"Selected ROI of {capture_name}\")\n",
    "\n",
    "# Add to Dictionary\n",
    "plastic_samples[capture_name].append((roi, roi_data))"
   ]
  },
  {
   "cell_type": "markdown",
   "metadata": {},
   "source": [
    "##### p6bb-rs_PP_referenz_2021-11-16_15-03-58"
   ]
  },
  {
   "cell_type": "code",
   "execution_count": 36,
   "metadata": {},
   "outputs": [],
   "source": [
    "capture_name = \"pp_referenz\"\n",
    "plastic_samples[capture_name] = []"
   ]
  },
  {
   "cell_type": "code",
   "execution_count": 37,
   "metadata": {},
   "outputs": [
    {
     "name": "stderr",
     "output_type": "stream",
     "text": [
      "INFO:data_handling:\tData Source:   'D:\\OneDriveFHNW\\FHNW\\EUT-P6bb-21HS-RS_M365 - General\\captures/references\\p6bb-rs_PP_referenz_2021-11-16_15-03-58\\capture\\REFLECTANCE_p6bb-rs_PP_referenz_2021-11-16_15-03-58.dat'\n",
      "\t# Rows:            859\n",
      "\t# Samples:         640\n",
      "\t# Bands:           224\n",
      "\tInterleave:        BIL\n",
      "\tQuantization:  16 bits\n",
      "\tData format:    uint16\n"
     ]
    }
   ],
   "source": [
    "root_references = root + \"/references\"\n",
    "# Read file information\n",
    "capture = get_hsi_capture(\"PP\", root_references)\n",
    "\n",
    "# Laod File into RAM\n",
    "data = load_hsi_data(capture)"
   ]
  },
  {
   "cell_type": "code",
   "execution_count": 38,
   "metadata": {},
   "outputs": [],
   "source": [
    "# Display Image, RGB_BANDS specify the indexes of the wavelength which will correspond with R, G, B colors\n",
    "img = spectral.imshow(limit_reflection(data), RGB_BANDS)"
   ]
  },
  {
   "cell_type": "code",
   "execution_count": 39,
   "metadata": {},
   "outputs": [],
   "source": [
    "# Select a rectangular ROI of the image for further processing, reduce spatial dimensions to a single dimension\n",
    "roi = {\"y_low\": 182, \"y_high\": 419, \"x_low\": 227,  \"x_high\": 414}\n",
    "roi_data = get_2d_roi(data, **roi)\n",
    "\n",
    "# Display ROI on top of the image\n",
    "roi_img = display_roi_rectangle(data, **roi, title=f\"Selected ROI of {capture_name}\")\n",
    "\n",
    "# Add to Dictionary\n",
    "plastic_samples[capture_name].append((roi, roi_data))"
   ]
  },
  {
   "cell_type": "markdown",
   "metadata": {},
   "source": [
    "##### p6bb-rs_PS_referenz_2021-11-16_14-32-57"
   ]
  },
  {
   "cell_type": "code",
   "execution_count": 40,
   "metadata": {},
   "outputs": [],
   "source": [
    "capture_name = \"ps_referenz\"\n",
    "plastic_samples[capture_name] = []"
   ]
  },
  {
   "cell_type": "code",
   "execution_count": 41,
   "metadata": {},
   "outputs": [
    {
     "name": "stderr",
     "output_type": "stream",
     "text": [
      "INFO:data_handling:\tData Source:   'D:\\OneDriveFHNW\\FHNW\\EUT-P6bb-21HS-RS_M365 - General\\captures/references\\p6bb-rs_PS_referenz_2021-11-16_14-32-57\\capture\\REFLECTANCE_p6bb-rs_PS_referenz_2021-11-16_14-32-57.dat'\n",
      "\t# Rows:            858\n",
      "\t# Samples:         640\n",
      "\t# Bands:           224\n",
      "\tInterleave:        BIL\n",
      "\tQuantization:  16 bits\n",
      "\tData format:    uint16\n"
     ]
    }
   ],
   "source": [
    "root_references = root + \"/references\"\n",
    "# Read file information\n",
    "capture = get_hsi_capture(\"PS\", root_references)\n",
    "\n",
    "# Laod File into RAM\n",
    "data = load_hsi_data(capture)"
   ]
  },
  {
   "cell_type": "code",
   "execution_count": 42,
   "metadata": {},
   "outputs": [],
   "source": [
    "# Display Image, RGB_BANDS specify the indexes of the wavelength which will correspond with R, G, B colors\n",
    "img = spectral.imshow(limit_reflection(data), RGB_BANDS)"
   ]
  },
  {
   "cell_type": "code",
   "execution_count": 43,
   "metadata": {},
   "outputs": [],
   "source": [
    "# Select a rectangular ROI of the image for further processing, reduce spatial dimensions to a single dimension\n",
    "roi = {\"y_low\": 370, \"y_high\": 544, \"x_low\": 286,  \"x_high\": 506}\n",
    "roi_data = get_2d_roi(data, **roi)\n",
    "\n",
    "# Display ROI on top of the image\n",
    "roi_img = display_roi_rectangle(data, **roi, title=f\"Selected ROI of {capture_name}\")\n",
    "\n",
    "# Add to Dictionary\n",
    "plastic_samples[capture_name].append((roi, roi_data))"
   ]
  },
  {
   "cell_type": "markdown",
   "metadata": {},
   "source": [
    "##### Exporting Data"
   ]
  },
  {
   "cell_type": "code",
   "execution_count": 44,
   "metadata": {},
   "outputs": [
    {
     "data": {
      "text/plain": [
       "359806"
      ]
     },
     "execution_count": 44,
     "metadata": {},
     "output_type": "execute_result"
    }
   ],
   "source": [
    "count = 0\n",
    "for capture, values in plastic_samples.items():\n",
    "    for item in values:\n",
    "        count+=len(item[1])\n",
    "\n",
    "count"
   ]
  },
  {
   "cell_type": "code",
   "execution_count": 45,
   "metadata": {},
   "outputs": [
    {
     "data": {
      "text/html": [
       "<div>\n",
       "<style scoped>\n",
       "    .dataframe tbody tr th:only-of-type {\n",
       "        vertical-align: middle;\n",
       "    }\n",
       "\n",
       "    .dataframe tbody tr th {\n",
       "        vertical-align: top;\n",
       "    }\n",
       "\n",
       "    .dataframe thead th {\n",
       "        text-align: right;\n",
       "    }\n",
       "</style>\n",
       "<table border=\"1\" class=\"dataframe\">\n",
       "  <thead>\n",
       "    <tr style=\"text-align: right;\">\n",
       "      <th></th>\n",
       "      <th>928.7</th>\n",
       "      <th>932.3</th>\n",
       "      <th>935.9</th>\n",
       "      <th>939.5</th>\n",
       "      <th>943.0</th>\n",
       "      <th>946.6</th>\n",
       "      <th>950.2</th>\n",
       "      <th>953.8</th>\n",
       "      <th>957.4</th>\n",
       "      <th>961.0</th>\n",
       "      <th>...</th>\n",
       "      <th>1617.5</th>\n",
       "      <th>1621.1</th>\n",
       "      <th>1624.7</th>\n",
       "      <th>1628.3</th>\n",
       "      <th>1631.8</th>\n",
       "      <th>1635.4</th>\n",
       "      <th>1639.0</th>\n",
       "      <th>1642.6</th>\n",
       "      <th>1646.2</th>\n",
       "      <th>1649.8</th>\n",
       "    </tr>\n",
       "  </thead>\n",
       "  <tbody>\n",
       "  </tbody>\n",
       "</table>\n",
       "<p>0 rows × 202 columns</p>\n",
       "</div>"
      ],
      "text/plain": [
       "Empty DataFrame\n",
       "Columns: [928.7, 932.3, 935.9, 939.5, 943.0, 946.6, 950.2, 953.8, 957.4, 961.0, 964.6, 968.2, 971.7, 975.3, 978.9, 982.5, 986.1, 989.7, 993.3, 996.9, 1000.4, 1004.0, 1007.6, 1011.2, 1014.8, 1018.4, 1022.0, 1025.6, 1029.1, 1032.7, 1036.3, 1039.9, 1043.5, 1047.1, 1050.7, 1054.3, 1057.8, 1061.4, 1065.0, 1068.6, 1072.2, 1075.8, 1079.4, 1083.0, 1086.5, 1090.1, 1093.7, 1097.3, 1100.9, 1104.5, 1108.1, 1111.7, 1115.2, 1118.8, 1122.4, 1126.0, 1129.6, 1133.2, 1136.8, 1140.4, 1143.9, 1147.5, 1151.1, 1154.7, 1158.3, 1161.9, 1165.5, 1169.1, 1172.6, 1176.2, 1179.8, 1183.4, 1187.0, 1190.6, 1194.2, 1197.8, 1201.3, 1204.9, 1208.5, 1212.1, 1215.7, 1219.3, 1222.9, 1226.5, 1230.0, 1233.6, 1237.2, 1240.8, 1244.4, 1248.0, 1251.6, 1255.2, 1258.7, 1262.3, 1265.9, 1269.5, 1273.1, 1276.7, 1280.3, 1283.9, ...]\n",
       "Index: []\n",
       "\n",
       "[0 rows x 202 columns]"
      ]
     },
     "execution_count": 45,
     "metadata": {},
     "output_type": "execute_result"
    }
   ],
   "source": [
    "df_plastic = pd.DataFrame(columns=COLUMN_NAMES)\n",
    "df_plastic"
   ]
  },
  {
   "cell_type": "code",
   "execution_count": 46,
   "metadata": {},
   "outputs": [],
   "source": [
    "for capture_name, rois in plastic_samples.items():\n",
    "    for roi in rois:\n",
    "        df_roi = pd.DataFrame(roi[1], columns=COLUMN_NAMES)\n",
    "        df_plastic = pd.concat([df_plastic, df_roi])"
   ]
  },
  {
   "cell_type": "code",
   "execution_count": 47,
   "metadata": {},
   "outputs": [],
   "source": [
    "df_plastic.to_csv(\"./raw_data/mixed_plastics.csv\", index=False)"
   ]
  }
 ],
 "metadata": {
  "kernelspec": {
   "display_name": "Python 3.10.4 ('.venv': venv)",
   "language": "python",
   "name": "python3"
  },
  "language_info": {
   "codemirror_mode": {
    "name": "ipython",
    "version": 3
   },
   "file_extension": ".py",
   "mimetype": "text/x-python",
   "name": "python",
   "nbconvert_exporter": "python",
   "pygments_lexer": "ipython3",
   "version": "3.10.4"
  },
  "orig_nbformat": 4,
  "vscode": {
   "interpreter": {
    "hash": "7ea3dadd995743c070a60538d12e65af98266bdc8fe22fa5ff7f84eb82e6fdd6"
   }
  }
 },
 "nbformat": 4,
 "nbformat_minor": 2
}
