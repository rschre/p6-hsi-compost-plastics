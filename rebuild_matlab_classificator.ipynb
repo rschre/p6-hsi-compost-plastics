{
  "cells": [
    {
      "cell_type": "markdown",
      "metadata": {},
      "source": [
        "# Rebuild of P5-Matlab-Classificator"
      ]
    },
    {
      "cell_type": "markdown",
      "metadata": {},
      "source": [
        "### Imports and Variables"
      ]
    },
    {
      "cell_type": "code",
      "execution_count": 2,
      "metadata": {},
      "outputs": [],
      "source": [
        "import sys\n",
        "import pandas as pd\n",
        "import numpy as np\n",
        "import spectral\n",
        "import os\n",
        "import glob\n",
        "import matplotlib.pyplot as plt\n",
        "from sklearn import preprocessing\n",
        "import copy\n",
        "import tensorflow as tf\n",
        "from tensorflow import keras  # tf.keras\n",
        "import matplotlib as mpl\n",
        "import sklearn\n",
        "import pickle\n",
        "import datetime\n",
        "\n",
        "from data_handling import get_hsi_capture, get_hsi_fullpath, display_roi_rectangle\n",
        "%load_ext tensorboard"
      ]
    },
    {
      "cell_type": "code",
      "execution_count": 3,
      "metadata": {},
      "outputs": [],
      "source": [
        "bands = np.linspace(900,1700,224);\n",
        "root = r\"D:\\OneDriveFHNW\\FHNW\\EUT-P6bb-21HS-RS_M365 - General\\captures\\references\"\n",
        "materials = [\"PET\", \"LDPE\", \"PS\", \"PP\", \"background\"]"
      ]
    },
    {
      "cell_type": "markdown",
      "metadata": {},
      "source": [
        "##### Load images of all 5 types into RAM"
      ]
    },
    {
      "cell_type": "code",
      "execution_count": null,
      "metadata": {},
      "outputs": [],
      "source": [
        "plastic_references = {}\n",
        "for material in materials:\n",
        "  if material != \"background\":\n",
        "    data = get_hsi_capture(f\"{material}_ref\", root)\n",
        "    plastic_references[material] = data.load()\n",
        "\n",
        "bg_data = get_hsi_fullpath(r\"D:\\OneDriveFHNW\\FHNW\\EUT-P6bb-21HS-RS_M365 - General\\captures\\references\\p6bb-rs_PP_referenz_2021-11-16_15-03-58\")\n",
        "plastic_references[\"background\"] = bg_data.load()"
      ]
    },
    {
      "cell_type": "markdown",
      "metadata": {},
      "source": [
        "##### Define ROIs for data selection and create list containing all ROI-data as 2D-Array"
      ]
    },
    {
      "cell_type": "code",
      "execution_count": 5,
      "metadata": {},
      "outputs": [],
      "source": [
        "# Tuple with Y-values on pos1, X-values on pos2\n",
        "ROIs = {\n",
        "    \"PET\": ((150,250),(250,350)),\n",
        "    \"PP\": ((250,350), (250,350)),\n",
        "    \"LDPE\": ((200,300), (300,400)),\n",
        "    \"PS\": ((460,500), (170,210)),\n",
        "    \"background\": ((650,750), (100,200)), #On PP-capture\n",
        "}"
      ]
    },
    {
      "cell_type": "code",
      "execution_count": 6,
      "metadata": {},
      "outputs": [],
      "source": [
        "plastic_rois = {}\n",
        "for material in materials:\n",
        "    y1 = ROIs[material][0][0]\n",
        "    y2 = ROIs[material][0][1]\n",
        "    x1 = ROIs[material][1][0]\n",
        "    x2 = ROIs[material][1][1]\n",
        "\n",
        "    data = plastic_references[material][y1:y2,x1:x2,8:216]\n",
        "    [m,n,p] = np.shape(data)\n",
        "    data_reshaped = np.reshape(data,[m*n,p])\n",
        "    plastic_rois[material] = data_reshaped\n",
        "\n",
        "    # Uncomment to display images with selected ROIs\n",
        "    #display_roi_rectangle(plastic_references[material], y1,x1,y2-y1,x2-x1, title=f\"Selected ROI of {material}\")"
      ]
    },
    {
      "cell_type": "markdown",
      "metadata": {},
      "source": [
        "##### Scale data to range from 0 to 1"
      ]
    },
    {
      "cell_type": "code",
      "execution_count": 21,
      "metadata": {},
      "outputs": [],
      "source": [
        "fulldata_unscaled = np.concatenate((list(plastic_rois.values())))\n",
        "scaler = sklearn.preprocessing.MinMaxScaler()\n",
        "fulldata_scaled = scaler.fit_transform(fulldata_unscaled)\n",
        "\n",
        "# Save scaler for use when predicting plastics later\n",
        "pickle.dump(scaler, open('scalers/scaler_matlab.pkl', 'wb'))"
      ]
    },
    {
      "cell_type": "markdown",
      "metadata": {},
      "source": [
        "##### Crate labels of the plastic categories for training the ANN"
      ]
    },
    {
      "cell_type": "code",
      "execution_count": null,
      "metadata": {},
      "outputs": [],
      "source": [
        "labels = np.zeros((41600,5))\n",
        "for i in range(0,10000):\n",
        "    labels[i][0] = 1\n",
        "\n",
        "for i in range(10000,20000):\n",
        "    labels[i][1] = 1\n",
        "\n",
        "for i in range(20000,21600):\n",
        "    labels[i][2] = 1\n",
        "\n",
        "for i in range(21600,31600):\n",
        "    labels[i][3] = 1\n",
        "\n",
        "for i in range(31600,41600):\n",
        "    labels[i][4] = 1\n",
        "\n",
        "plt.matshow(labels, aspect='auto')\n",
        "plt.title(\"Trainingsmatrix\", fontdict = {'fontsize' : 36})\n",
        "plt.rcParams.update({\"font.size\": 14})"
      ]
    },
    {
      "cell_type": "markdown",
      "metadata": {},
      "source": [
        "##### Create and compile Tensorflow model using keras"
      ]
    },
    {
      "cell_type": "code",
      "execution_count": 10,
      "metadata": {},
      "outputs": [
        {
          "name": "stdout",
          "output_type": "stream",
          "text": [
            "Model: \"sequential\"\n",
            "_________________________________________________________________\n",
            " Layer (type)                Output Shape              Param #   \n",
            "=================================================================\n",
            " dense (Dense)               (None, 96)                20064     \n",
            "                                                                 \n",
            " dropout (Dropout)           (None, 96)                0         \n",
            "                                                                 \n",
            " dense_1 (Dense)             (None, 48)                4656      \n",
            "                                                                 \n",
            " dense_2 (Dense)             (None, 5)                 245       \n",
            "                                                                 \n",
            "=================================================================\n",
            "Total params: 24,965\n",
            "Trainable params: 24,965\n",
            "Non-trainable params: 0\n",
            "_________________________________________________________________\n"
          ]
        }
      ],
      "source": [
        "model = keras.models.Sequential(\n",
        "    [\n",
        "        keras.layers.Input(208),\n",
        "        keras.layers.Dense(96, activation=\"relu\"),\n",
        "        keras.layers.Dropout(0.4),\n",
        "        keras.layers.Dense(48, activation=\"relu\"),\n",
        "        keras.layers.Dense(5, activation=\"softmax\"),\n",
        "    ]\n",
        ")\n",
        "\n",
        "model.summary()\n",
        "\n",
        "model.compile(\n",
        "    loss=\"categorical_crossentropy\",\n",
        "    optimizer=keras.optimizers.SGD(learning_rate=1e-3),\n",
        "    metrics=[\"accuracy\"],\n",
        ")"
      ]
    },
    {
      "cell_type": "markdown",
      "metadata": {},
      "source": [
        "##### Initialize Tensorboard logs and fit model to trainingdata"
      ]
    },
    {
      "cell_type": "code",
      "execution_count": null,
      "metadata": {},
      "outputs": [],
      "source": [
        "log_dir = \"logs/\" + datetime.datetime.now().strftime(\"%Y%m%d-%H%M%S\")\n",
        "tensorboard_callback = tf.keras.callbacks.TensorBoard(log_dir=log_dir, histogram_freq=1)\n",
        "callback = tf.keras.callbacks.EarlyStopping(monitor='loss', patience=3)\n",
        "model.fit(fulldata_scaled, labels, epochs=25, callbacks=[callback, tensorboard_callback])"
      ]
    },
    {
      "cell_type": "markdown",
      "metadata": {},
      "source": [
        "##### Read and prepare data to test model performance"
      ]
    },
    {
      "cell_type": "code",
      "execution_count": 13,
      "metadata": {},
      "outputs": [],
      "source": [
        "test_capture = get_hsi_fullpath(r\"D:\\OneDriveFHNW\\FHNW\\EUT-P5bb-20HS-RS_M365 - Documents\\Hyperspektral Kamera\\qd_Referenzmaterialien_(oben_nach_unten)_PE_-_PET_-_PP_-_PS_2020-07-10_12-39-11\")\n",
        "test_data = test_capture.load()\n",
        "[m,n,p] = np.shape(test_data)\n",
        "testdata_reshaped = np.reshape(test_data, [m*n,p])[:,8:216]\n",
        "scaler = pickle.load(open('scalers/scaler_matlab.pkl', 'rb'))\n",
        "testdata_ready = scaler.transform(testdata_reshaped)"
      ]
    },
    {
      "cell_type": "markdown",
      "metadata": {},
      "source": [
        "##### Run model prediction"
      ]
    },
    {
      "cell_type": "code",
      "execution_count": 17,
      "metadata": {},
      "outputs": [
        {
          "name": "stdout",
          "output_type": "stream",
          "text": [
            "17380/17380 [==============================] - 25s 1ms/step\n"
          ]
        }
      ],
      "source": [
        "result = model.predict(testdata_ready)"
      ]
    },
    {
      "cell_type": "markdown",
      "metadata": {},
      "source": [
        "##### Plot the results of the models prediction"
      ]
    },
    {
      "cell_type": "code",
      "execution_count": 19,
      "metadata": {},
      "outputs": [
        {
          "data": {
            "text/plain": [
              "<matplotlib.colorbar.Colorbar at 0x274c5389ab0>"
            ]
          },
          "execution_count": 19,
          "metadata": {},
          "output_type": "execute_result"
        }
      ],
      "source": [
        "%matplotlib qt5\n",
        "result_class = result.argmax(axis=1)\n",
        "cmap = mpl.cm.get_cmap(\"Paired\",9)\n",
        "plt.figure()\n",
        "plt.imshow(np.reshape(result_class, [m, n]), cmap=cmap)\n",
        "plt.colorbar()"
      ]
    },
    {
      "cell_type": "markdown",
      "metadata": {},
      "source": [
        "##### Save or load the tensorflow model "
      ]
    },
    {
      "cell_type": "code",
      "execution_count": 20,
      "metadata": {},
      "outputs": [
        {
          "name": "stdout",
          "output_type": "stream",
          "text": [
            "INFO:tensorflow:Assets written to: ./models/model_matlab_classificator_rebuild\\assets\n"
          ]
        },
        {
          "name": "stderr",
          "output_type": "stream",
          "text": [
            "INFO:tensorflow:Assets written to: ./models/model_matlab_classificator_rebuild\\assets\n"
          ]
        }
      ],
      "source": [
        "model.save('./models/model_matlab_classificator_rebuild')\n",
        "#from tensorflow import keras\n",
        "#model = keras.models.load_model('./models/model_matlab_classificator_rebuild')"
      ]
    },
    {
      "cell_type": "code",
      "execution_count": 1,
      "metadata": {},
      "outputs": [
        {
          "data": {
            "image/png": "[encoded data removed]",
            "text/plain": [
              "<IPython.core.display.Image object>"
            ]
          },
          "execution_count": 1,
          "metadata": {},
          "output_type": "execute_result"
        }
      ],
      "source": [
        "from keras.utils.vis_utils import plot_model\n",
        "from keras.models import load_model\n",
        "model = load_model('./models/model_matlab_classificator_rebuild')\n",
        "plot_model(model, to_file='model_plot.png', show_shapes=True, show_layer_names=True)"
      ]
    }
  ],
  "metadata": {
    "kernelspec": {
      "display_name": "Python 3.9.8 64-bit",
      "language": "python",
      "name": "python3"
    },
    "language_info": {
      "codemirror_mode": {
        "name": "ipython",
        "version": 3
      },
      "file_extension": ".py",
      "mimetype": "text/x-python",
      "name": "python",
      "nbconvert_exporter": "python",
      "pygments_lexer": "ipython3",
      "version": "3.9.8"
    },
    "orig_nbformat": 4,
    "vscode": {
      "interpreter": {
        "hash": "11938c6bc6919ae2720b4d5011047913343b08a43b18698fd82dedb0d4417594"
      }
    }
  },
  "nbformat": 4,
  "nbformat_minor": 2
}
